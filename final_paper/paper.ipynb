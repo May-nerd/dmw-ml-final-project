{
 "cells": [
  {
   "cell_type": "markdown",
   "metadata": {},
   "source": [
    "# Congress Progress: Improving Search and Exploration of Senate Bills"
   ]
  },
  {
   "cell_type": "markdown",
   "metadata": {},
   "source": [
    "2  Executive Summary (Maynard) \n",
    "\n",
    "3  Problem Statement (Misha)\n",
    "\n",
    "4  Significance of the Study (Misha)\n",
    "\n",
    "5  Introduction (Misha)\n",
    "\n",
    "6  Data Description and Processing (Nisarg)\n",
    "\n",
    "7  Exploratory Data Analysis\n",
    "\n",
    "    7.1  Number of Bills per Congress (Ronald)\n",
    "\n",
    "    7.2  Wordcloud of Combined Title per Congress (Ronald)\n",
    "\n",
    "    7.3  When are bills filed usually? (Maynard)\n",
    "\n",
    "    7.4  What are the Scope of the bills? (Ronald)\n",
    "\n",
    "    7.5  Word cloud of subject per Congress (Ronald)\n",
    "\n",
    "    7.6  How many bills are filed per primary committee? (Ronald)\n",
    "\n",
    "    7.7  How many bills are filed per senator? (Ronald)\n",
    "\n",
    "8  Methodology \n",
    "\n",
    "8.2  Information Retrieval (Ralph)\n",
    "\n",
    "8.3  Clustering (Maynard)\n",
    "\n",
    "9  Results and Discussions\n",
    "\n",
    "9.1  Evaluation of Information Retrieval (Ralph)\n",
    "\n",
    "9.2  Analyzing the Clusters (Kisko)\n",
    "\n",
    "10  Conclusion (Maynard)\n",
    "\n",
    "11  Recommendations (Misha)\n",
    "\n",
    "12  References and Acknowledgement (Misha)"
   ]
  },
  {
   "cell_type": "markdown",
   "metadata": {
    "toc": true
   },
   "source": [
    "<h1>Table of Contents<span class=\"tocSkip\"></span></h1>\n",
    "<div class=\"toc\"><ul class=\"toc-item\"><li><span><a href=\"#Congress-Progress:-Improving-Search-and-Exploration-of-Senate-Bills\" data-toc-modified-id=\"Congress-Progress:-Improving-Search-and-Exploration-of-Senate-Bills-1\"><span class=\"toc-item-num\">1&nbsp;&nbsp;</span>Congress Progress: Improving Search and Exploration of Senate Bills</a></span></li><li><span><a href=\"#Executive-Summary\" data-toc-modified-id=\"Executive-Summary-2\"><span class=\"toc-item-num\">2&nbsp;&nbsp;</span>Executive Summary</a></span></li><li><span><a href=\"#Problem-Statement\" data-toc-modified-id=\"Problem-Statement-3\"><span class=\"toc-item-num\">3&nbsp;&nbsp;</span>Problem Statement</a></span></li><li><span><a href=\"#Significance-of-the-Study\" data-toc-modified-id=\"Significance-of-the-Study-4\"><span class=\"toc-item-num\">4&nbsp;&nbsp;</span>Significance of the Study</a></span></li><li><span><a href=\"#Introduction\" data-toc-modified-id=\"Introduction-5\"><span class=\"toc-item-num\">5&nbsp;&nbsp;</span>Introduction</a></span></li><li><span><a href=\"#Data-Description-and-Processing\" data-toc-modified-id=\"Data-Description-and-Processing-6\"><span class=\"toc-item-num\">6&nbsp;&nbsp;</span>Data Description and Processing</a></span><ul class=\"toc-item\"><li><span><a href=\"#Data-Description\" data-toc-modified-id=\"Data-Description-6.1\"><span class=\"toc-item-num\">6.1&nbsp;&nbsp;</span>Data Description</a></span></li><li><span><a href=\"#Data-Processing\" data-toc-modified-id=\"Data-Processing-6.2\"><span class=\"toc-item-num\">6.2&nbsp;&nbsp;</span>Data Processing</a></span></li><li><span><a href=\"#Data-Cleaning\" data-toc-modified-id=\"Data-Cleaning-6.3\"><span class=\"toc-item-num\">6.3&nbsp;&nbsp;</span>Data Cleaning</a></span><ul class=\"toc-item\"><li><span><a href=\"#Categorical-Features\" data-toc-modified-id=\"Categorical-Features-6.3.1\"><span class=\"toc-item-num\">6.3.1&nbsp;&nbsp;</span>Categorical Features</a></span><ul class=\"toc-item\"><li><span><a href=\"#filed_by\" data-toc-modified-id=\"filed_by-6.3.1.1\"><span class=\"toc-item-num\">6.3.1.1&nbsp;&nbsp;</span>filed_by</a></span></li><li><span><a href=\"#primary_committee\" data-toc-modified-id=\"primary_committee-6.3.1.2\"><span class=\"toc-item-num\">6.3.1.2&nbsp;&nbsp;</span>primary_committee</a></span></li></ul></li><li><span><a href=\"#Text-Features\" data-toc-modified-id=\"Text-Features-6.3.2\"><span class=\"toc-item-num\">6.3.2&nbsp;&nbsp;</span>Text Features</a></span><ul class=\"toc-item\"><li><span><a href=\"#Combine-title-and-long-title\" data-toc-modified-id=\"Combine-title-and-long-title-6.3.2.1\"><span class=\"toc-item-num\">6.3.2.1&nbsp;&nbsp;</span>Combine title and long title</a></span></li><li><span><a href=\"#Natural-Language-Processing\" data-toc-modified-id=\"Natural-Language-Processing-6.3.2.2\"><span class=\"toc-item-num\">6.3.2.2&nbsp;&nbsp;</span>Natural Language Processing</a></span></li><li><span><a href=\"#Lemmatization\" data-toc-modified-id=\"Lemmatization-6.3.2.3\"><span class=\"toc-item-num\">6.3.2.3&nbsp;&nbsp;</span>Lemmatization</a></span></li></ul></li><li><span><a href=\"#Convert-dates-to-datetime-columns\" data-toc-modified-id=\"Convert-dates-to-datetime-columns-6.3.3\"><span class=\"toc-item-num\">6.3.3&nbsp;&nbsp;</span>Convert dates to datetime columns</a></span></li></ul></li></ul></li><li><span><a href=\"#Exploratory-Data-Analysis\" data-toc-modified-id=\"Exploratory-Data-Analysis-7\"><span class=\"toc-item-num\">7&nbsp;&nbsp;</span>Exploratory Data Analysis</a></span><ul class=\"toc-item\"><li><span><a href=\"#Bills-per-Congress\" data-toc-modified-id=\"Bills-per-Congress-7.1\"><span class=\"toc-item-num\">7.1&nbsp;&nbsp;</span>Bills per Congress</a></span></li><li><span><a href=\"#Wordcloud-of-Combined-Title-per-Congress\" data-toc-modified-id=\"Wordcloud-of-Combined-Title-per-Congress-7.2\"><span class=\"toc-item-num\">7.2&nbsp;&nbsp;</span>Wordcloud of Combined Title per Congress</a></span></li><li><span><a href=\"#When-are-bills-filed-usually?\" data-toc-modified-id=\"When-are-bills-filed-usually?-7.3\"><span class=\"toc-item-num\">7.3&nbsp;&nbsp;</span>When are bills filed usually?</a></span></li><li><span><a href=\"#What-are-the-Scope-of-the-bills?\" data-toc-modified-id=\"What-are-the-Scope-of-the-bills?-7.4\"><span class=\"toc-item-num\">7.4&nbsp;&nbsp;</span>What are the Scope of the bills?</a></span></li><li><span><a href=\"#Word-cloud-of-subject-per-Congress\" data-toc-modified-id=\"Word-cloud-of-subject-per-Congress-7.5\"><span class=\"toc-item-num\">7.5&nbsp;&nbsp;</span>Word cloud of subject per Congress</a></span></li><li><span><a href=\"#How-many-bills-are-filed-per-primary-committee?\" data-toc-modified-id=\"How-many-bills-are-filed-per-primary-committee?-7.6\"><span class=\"toc-item-num\">7.6&nbsp;&nbsp;</span>How many bills are filed per primary committee?</a></span></li><li><span><a href=\"#How-many-bills-are-filed-per-senator?\" data-toc-modified-id=\"How-many-bills-are-filed-per-senator?-7.7\"><span class=\"toc-item-num\">7.7&nbsp;&nbsp;</span>How many bills are filed per senator?</a></span></li></ul></li><li><span><a href=\"#Methodology\" data-toc-modified-id=\"Methodology-8\"><span class=\"toc-item-num\">8&nbsp;&nbsp;</span>Methodology</a></span><ul class=\"toc-item\"><li><span><a href=\"#TF-IDF-Vectorization-Text-Features\" data-toc-modified-id=\"TF-IDF-Vectorization-Text-Features-8.1\"><span class=\"toc-item-num\">8.1&nbsp;&nbsp;</span>TF-IDF Vectorization Text Features</a></span></li><li><span><a href=\"#Information-Retrieval\" data-toc-modified-id=\"Information-Retrieval-8.2\"><span class=\"toc-item-num\">8.2&nbsp;&nbsp;</span>Information Retrieval</a></span></li><li><span><a href=\"#Clustering\" data-toc-modified-id=\"Clustering-8.3\"><span class=\"toc-item-num\">8.3&nbsp;&nbsp;</span>Clustering</a></span><ul class=\"toc-item\"><li><span><a href=\"#Dimensionality-Reduction\" data-toc-modified-id=\"Dimensionality-Reduction-8.3.1\"><span class=\"toc-item-num\">8.3.1&nbsp;&nbsp;</span>Dimensionality Reduction</a></span></li><li><span><a href=\"#Hierarchical-Clustering\" data-toc-modified-id=\"Hierarchical-Clustering-8.3.2\"><span class=\"toc-item-num\">8.3.2&nbsp;&nbsp;</span>Hierarchical Clustering</a></span></li></ul></li></ul></li><li><span><a href=\"#Results-and-Discussions\" data-toc-modified-id=\"Results-and-Discussions-9\"><span class=\"toc-item-num\">9&nbsp;&nbsp;</span>Results and Discussions</a></span><ul class=\"toc-item\"><li><span><a href=\"#Evaluation-of-Information-Retrieval\" data-toc-modified-id=\"Evaluation-of-Information-Retrieval-9.1\"><span class=\"toc-item-num\">9.1&nbsp;&nbsp;</span>Evaluation of Information Retrieval</a></span></li><li><span><a href=\"#Analyzing-the-Clusters\" data-toc-modified-id=\"Analyzing-the-Clusters-9.2\"><span class=\"toc-item-num\">9.2&nbsp;&nbsp;</span>Analyzing the Clusters</a></span></li></ul></li><li><span><a href=\"#Conclusion\" data-toc-modified-id=\"Conclusion-10\"><span class=\"toc-item-num\">10&nbsp;&nbsp;</span>Conclusion</a></span></li><li><span><a href=\"#Recommendations\" data-toc-modified-id=\"Recommendations-11\"><span class=\"toc-item-num\">11&nbsp;&nbsp;</span>Recommendations</a></span></li><li><span><a href=\"#References-and-Acknowledgement\" data-toc-modified-id=\"References-and-Acknowledgement-12\"><span class=\"toc-item-num\">12&nbsp;&nbsp;</span>References and Acknowledgement</a></span></li></ul></div>"
   ]
  },
  {
   "cell_type": "markdown",
   "metadata": {},
   "source": [
    "# Executive Summary\n",
    "TODO\n",
    "```\n",
    "Does the report have an executive summary?\n",
    "Does the executive summary contain a problem statement?\n",
    "Does the executive summary introduce the dataset under study\n",
    "Does the executive summary briefly introduce the model(s) used?\n",
    "Does the executive summary present/discuss important results?\n",
    "Does the executive summary properly communicate the relevant insights in the\n",
    "study?\n",
    "```\n"
   ]
  },
  {
   "cell_type": "markdown",
   "metadata": {},
   "source": [
    "# Problem Statement\n",
    "TODO"
   ]
  },
  {
   "cell_type": "markdown",
   "metadata": {},
   "source": [
    "# Significance of the Study\n",
    "TODO"
   ]
  },
  {
   "cell_type": "markdown",
   "metadata": {},
   "source": [
    "# Introduction\n",
    "TODO"
   ]
  },
  {
   "cell_type": "code",
   "execution_count": 1,
   "metadata": {
    "ExecuteTime": {
     "end_time": "2020-08-21T06:38:19.031450Z",
     "start_time": "2020-08-21T06:38:17.346419Z"
    }
   },
   "outputs": [],
   "source": [
    "import numpy as np\n",
    "import pandas as pd\n",
    "from matplotlib import pyplot as plt\n",
    "\n",
    "import json\n",
    "import bs4\n",
    "import re\n",
    "from tqdm import tqdm\n",
    "\n",
    "import seaborn as sns\n",
    "sns.set_style('whitegrid')\n",
    "sns.set_context('notebook')"
   ]
  },
  {
   "cell_type": "markdown",
   "metadata": {},
   "source": [
    "# Data Description and Processing"
   ]
  },
  {
   "cell_type": "markdown",
   "metadata": {},
   "source": [
    "## Data Description\n",
    "TODO"
   ]
  },
  {
   "cell_type": "markdown",
   "metadata": {},
   "source": [
    "## Data Processing\n",
    "TODO: Add documentation on code. Explain each step. Lastly, create an overview paragraph here."
   ]
  },
  {
   "cell_type": "code",
   "execution_count": 2,
   "metadata": {
    "ExecuteTime": {
     "end_time": "2020-08-21T06:38:19.037434Z",
     "start_time": "2020-08-21T06:38:19.033442Z"
    }
   },
   "outputs": [],
   "source": [
    "data_dir = \"../data\""
   ]
  },
  {
   "cell_type": "code",
   "execution_count": 3,
   "metadata": {
    "ExecuteTime": {
     "end_time": "2020-08-21T06:38:19.043434Z",
     "start_time": "2020-08-21T06:38:19.039440Z"
    }
   },
   "outputs": [],
   "source": [
    "# import bz2\n",
    "\n",
    "# with bz2.open(f'{data_dir}/bills.json.bz2', 'r') as f:  \n",
    "#     data = f.read()  \n",
    "#     d = json.loads(data.decode(\"utf-8\"))"
   ]
  },
  {
   "cell_type": "code",
   "execution_count": 4,
   "metadata": {
    "ExecuteTime": {
     "end_time": "2020-08-21T06:38:19.049435Z",
     "start_time": "2020-08-21T06:38:19.045436Z"
    }
   },
   "outputs": [],
   "source": [
    "# values = []\n",
    "\n",
    "# for i in tqdm(list(d.values())):\n",
    "#     dic = {}\n",
    "#     soup = bs4.BeautifulSoup(i, 'html.parser')\n",
    "#     content = soup.find('td', attrs = {'id':'content'}).text.strip()\n",
    "#     try:\n",
    "#         dic['congress'] = int(re.search('\\d{2}(?=th Congress)',\n",
    "#                                         content).group(0))\n",
    "#         dic['type'] = re.search('(?<= Congress).+(?= Bill)', content).group(0)\n",
    "#         bill_num = int(re.search('(?<=Bill No. )\\d{1,}', content).group(0))\n",
    "#         dic['bill_num'] = bill_num\n",
    "\n",
    "        \n",
    "#         dic['title'] = re.search(f'(?<=Bill No. {bill_num}).+(?=Filed)',\n",
    "#                                  content).group(0)\n",
    "#         dic['filed_on'] = re.search('(?<=Filed on ).+(?= by)',\n",
    "#                                     content).group(0)\n",
    "#         dic['filed_by'] = re.search('(?<=by ).+', content).group(0)\n",
    "        \n",
    "        \n",
    "#         dic['long_title'] = re.search('(?<=Long title).+', content).group(0)\n",
    "#         dic['scope'] = re.search('(?<=Scope).+', content).group(0)\n",
    "#         dic['subjects'] = re.search('(?<=Subject\\(s\\)).+', content).group(0)\n",
    "#         dic['primary_committee'] = re.search('(?<=Primary committee).+',\n",
    "#                                              content).group(0)\n",
    "#     except:\n",
    "#         pass\n",
    "#     values.append(dic)"
   ]
  },
  {
   "cell_type": "code",
   "execution_count": 5,
   "metadata": {
    "ExecuteTime": {
     "end_time": "2020-08-21T06:38:19.055436Z",
     "start_time": "2020-08-21T06:38:19.051441Z"
    }
   },
   "outputs": [],
   "source": [
    "# df = pd.DataFrame(values)"
   ]
  },
  {
   "cell_type": "code",
   "execution_count": 6,
   "metadata": {
    "ExecuteTime": {
     "end_time": "2020-08-21T06:38:19.060097Z",
     "start_time": "2020-08-21T06:38:19.057437Z"
    }
   },
   "outputs": [],
   "source": [
    "# (df.isna().sum()/len(df)*100).rename('Number of Null Values').to_frame()"
   ]
  },
  {
   "cell_type": "code",
   "execution_count": 7,
   "metadata": {
    "ExecuteTime": {
     "end_time": "2020-08-21T06:38:19.066093Z",
     "start_time": "2020-08-21T06:38:19.062099Z"
    }
   },
   "outputs": [],
   "source": [
    "# # Show before and after\n",
    "# print(len(df))\n",
    "# df.dropna(subset=['filed_by', 'primary_committee'], inplace=True)\n",
    "# print(len(df))"
   ]
  },
  {
   "cell_type": "code",
   "execution_count": 8,
   "metadata": {
    "ExecuteTime": {
     "end_time": "2020-08-21T06:38:19.071097Z",
     "start_time": "2020-08-21T06:38:19.069095Z"
    }
   },
   "outputs": [],
   "source": [
    "# df.to_pickle(f'{data_dir}/bills.pkl', protocol=3)"
   ]
  },
  {
   "cell_type": "code",
   "execution_count": 9,
   "metadata": {
    "ExecuteTime": {
     "end_time": "2020-08-21T06:38:19.076099Z",
     "start_time": "2020-08-21T06:38:19.074095Z"
    }
   },
   "outputs": [],
   "source": [
    "# TODO: Show simple statistics, counts of unique and some info about the raw data"
   ]
  },
  {
   "cell_type": "markdown",
   "metadata": {},
   "source": [
    "## Data Cleaning\n",
    "1. Categorical Features\n",
    "    1. Normalize names of categories \n",
    "    2. Convert strings of sequences of words to list of categories.\n",
    "2. Text Features\n",
    "    1. Combine title and long title\n",
    "    2. Natural Language Processing\n",
    "        1. Removing of punctiations\n",
    "        2. Removing stop words\n",
    "        3. Lemmatization\n",
    "3. Convert dates to datetime columns\n",
    "\n",
    "TODO: Add description and reasoning for each step below."
   ]
  },
  {
   "cell_type": "code",
   "execution_count": 10,
   "metadata": {
    "ExecuteTime": {
     "end_time": "2020-08-21T06:38:19.109445Z",
     "start_time": "2020-08-21T06:38:19.078097Z"
    }
   },
   "outputs": [],
   "source": [
    "df_clean = pd.read_pickle(f'{data_dir}/bills.pkl')"
   ]
  },
  {
   "cell_type": "code",
   "execution_count": 11,
   "metadata": {
    "ExecuteTime": {
     "end_time": "2020-08-21T06:38:19.128845Z",
     "start_time": "2020-08-21T06:38:19.111418Z"
    },
    "scrolled": false
   },
   "outputs": [
    {
     "data": {
      "text/html": [
       "<div>\n",
       "<style scoped>\n",
       "    .dataframe tbody tr th:only-of-type {\n",
       "        vertical-align: middle;\n",
       "    }\n",
       "\n",
       "    .dataframe tbody tr th {\n",
       "        vertical-align: top;\n",
       "    }\n",
       "\n",
       "    .dataframe thead th {\n",
       "        text-align: right;\n",
       "    }\n",
       "</style>\n",
       "<table border=\"1\" class=\"dataframe\">\n",
       "  <thead>\n",
       "    <tr style=\"text-align: right;\">\n",
       "      <th></th>\n",
       "      <th>congress</th>\n",
       "      <th>type</th>\n",
       "      <th>bill_num</th>\n",
       "      <th>title</th>\n",
       "      <th>filed_on</th>\n",
       "      <th>filed_by</th>\n",
       "      <th>long_title</th>\n",
       "      <th>scope</th>\n",
       "      <th>subjects</th>\n",
       "      <th>primary_committee</th>\n",
       "    </tr>\n",
       "  </thead>\n",
       "  <tbody>\n",
       "    <tr>\n",
       "      <th>0</th>\n",
       "      <td>13</td>\n",
       "      <td>Senate</td>\n",
       "      <td>1</td>\n",
       "      <td>SPECIAL MEASURES TO LOWER THE COST OF MEDICINE</td>\n",
       "      <td>June 30, 2004</td>\n",
       "      <td>Flavier, Juan M., Angara, Edgardo J.</td>\n",
       "      <td>AN ACT PRESCRIBING SPECIAL  MEASURES  TO LOWER...</td>\n",
       "      <td>National</td>\n",
       "      <td>Medicines (Lowering the Cost)           Drugs/...</td>\n",
       "      <td>Health and Demography</td>\n",
       "    </tr>\n",
       "    <tr>\n",
       "      <th>1</th>\n",
       "      <td>13</td>\n",
       "      <td>Senate</td>\n",
       "      <td>2</td>\n",
       "      <td>THE CONSTITUTIONAL CONVENTION ACT</td>\n",
       "      <td>June 30, 2004</td>\n",
       "      <td>Flavier, Juan M.</td>\n",
       "      <td>AN ACT CALLING FOR A  CONSTITUTIONAL CONVENTIO...</td>\n",
       "      <td>National</td>\n",
       "      <td>Constitutional Convention               Charte...</td>\n",
       "      <td>Constitutional Amendments, Revision of Codes a...</td>\n",
       "    </tr>\n",
       "    <tr>\n",
       "      <th>2</th>\n",
       "      <td>13</td>\n",
       "      <td>Senate</td>\n",
       "      <td>3</td>\n",
       "      <td>MAGNA CARTA OF PATIENT'S RIGHTS AND OBLIGATIONS</td>\n",
       "      <td>June 30, 2004</td>\n",
       "      <td>Flavier, Juan M., Angara, Edgardo J.</td>\n",
       "      <td>AN ACT DECLARING THE RIGHTS  AND OBLIGATIONS O...</td>\n",
       "      <td>National</td>\n",
       "      <td>Patients Rights and Obligations         Magna ...</td>\n",
       "      <td>Health and Demography</td>\n",
       "    </tr>\n",
       "    <tr>\n",
       "      <th>3</th>\n",
       "      <td>13</td>\n",
       "      <td>Senate</td>\n",
       "      <td>4</td>\n",
       "      <td>HEALTH PROMOTION ACT OF 2004</td>\n",
       "      <td>June 30, 2004</td>\n",
       "      <td>Flavier, Juan M., Angara, Edgardo J.</td>\n",
       "      <td>AN ACT ESTABLISHING A  NATIONAL HEALTH PROMOTI...</td>\n",
       "      <td>National</td>\n",
       "      <td>National Health Promotion Institute     Philip...</td>\n",
       "      <td>Government Corporations and Public Enterprises</td>\n",
       "    </tr>\n",
       "    <tr>\n",
       "      <th>4</th>\n",
       "      <td>13</td>\n",
       "      <td>Senate</td>\n",
       "      <td>5</td>\n",
       "      <td>INCREASING THE ALLOWABLE PERSONAL ADDITIONAL T...</td>\n",
       "      <td>June 30, 2004</td>\n",
       "      <td>Flavier, Juan M.</td>\n",
       "      <td>AN ACT INCREASING THE ALLOWABLE PERSONAL ADDIT...</td>\n",
       "      <td>National</td>\n",
       "      <td>Taxes (Tax Exemption-Individual TaxpayerNation...</td>\n",
       "      <td>Ways and Means</td>\n",
       "    </tr>\n",
       "  </tbody>\n",
       "</table>\n",
       "</div>"
      ],
      "text/plain": [
       "   congress    type  bill_num  \\\n",
       "0        13  Senate         1   \n",
       "1        13  Senate         2   \n",
       "2        13  Senate         3   \n",
       "3        13  Senate         4   \n",
       "4        13  Senate         5   \n",
       "\n",
       "                                               title       filed_on  \\\n",
       "0     SPECIAL MEASURES TO LOWER THE COST OF MEDICINE  June 30, 2004   \n",
       "1                  THE CONSTITUTIONAL CONVENTION ACT  June 30, 2004   \n",
       "2    MAGNA CARTA OF PATIENT'S RIGHTS AND OBLIGATIONS  June 30, 2004   \n",
       "3                       HEALTH PROMOTION ACT OF 2004  June 30, 2004   \n",
       "4  INCREASING THE ALLOWABLE PERSONAL ADDITIONAL T...  June 30, 2004   \n",
       "\n",
       "                               filed_by  \\\n",
       "0  Flavier, Juan M., Angara, Edgardo J.   \n",
       "1                      Flavier, Juan M.   \n",
       "2  Flavier, Juan M., Angara, Edgardo J.   \n",
       "3  Flavier, Juan M., Angara, Edgardo J.   \n",
       "4                      Flavier, Juan M.   \n",
       "\n",
       "                                          long_title     scope  \\\n",
       "0  AN ACT PRESCRIBING SPECIAL  MEASURES  TO LOWER...  National   \n",
       "1  AN ACT CALLING FOR A  CONSTITUTIONAL CONVENTIO...  National   \n",
       "2  AN ACT DECLARING THE RIGHTS  AND OBLIGATIONS O...  National   \n",
       "3  AN ACT ESTABLISHING A  NATIONAL HEALTH PROMOTI...  National   \n",
       "4  AN ACT INCREASING THE ALLOWABLE PERSONAL ADDIT...  National   \n",
       "\n",
       "                                            subjects  \\\n",
       "0  Medicines (Lowering the Cost)           Drugs/...   \n",
       "1  Constitutional Convention               Charte...   \n",
       "2  Patients Rights and Obligations         Magna ...   \n",
       "3  National Health Promotion Institute     Philip...   \n",
       "4  Taxes (Tax Exemption-Individual TaxpayerNation...   \n",
       "\n",
       "                                   primary_committee  \n",
       "0                              Health and Demography  \n",
       "1  Constitutional Amendments, Revision of Codes a...  \n",
       "2                              Health and Demography  \n",
       "3     Government Corporations and Public Enterprises  \n",
       "4                                     Ways and Means  "
      ]
     },
     "execution_count": 11,
     "metadata": {},
     "output_type": "execute_result"
    }
   ],
   "source": [
    "df_clean.head()"
   ]
  },
  {
   "cell_type": "markdown",
   "metadata": {},
   "source": [
    "### Categorical Features"
   ]
  },
  {
   "cell_type": "markdown",
   "metadata": {},
   "source": [
    "#### filed_by"
   ]
  },
  {
   "cell_type": "code",
   "execution_count": 12,
   "metadata": {
    "ExecuteTime": {
     "end_time": "2020-08-21T06:38:19.182472Z",
     "start_time": "2020-08-21T06:38:19.130402Z"
    }
   },
   "outputs": [
    {
     "data": {
      "text/plain": [
       "5685            [Legarda, Loren B.]\n",
       "7498    [Defensor Santiago, Miriam]\n",
       "4308    [Defensor Santiago, Miriam]\n",
       "2797    [Pimentel Jr., Aquilino Q.]\n",
       "7582    [Defensor Santiago, Miriam]\n",
       "Name: filed_by, dtype: object"
      ]
     },
     "execution_count": 12,
     "metadata": {},
     "output_type": "execute_result"
    }
   ],
   "source": [
    "# Manually cleaned\n",
    "filed_on_clean = pd.read_csv(f'{data_dir}/filed_on_clean.csv')\n",
    "df_clean.drop('filed_by', axis=1).merge(filed_on_clean)\n",
    "\n",
    "df_clean['filed_by'] = df_clean['filed_by'].str.split('-')\n",
    "df_clean['filed_by'].sample(5)"
   ]
  },
  {
   "cell_type": "markdown",
   "metadata": {},
   "source": [
    "#### primary_committee"
   ]
  },
  {
   "cell_type": "code",
   "execution_count": 13,
   "metadata": {
    "ExecuteTime": {
     "end_time": "2020-08-21T06:38:19.194419Z",
     "start_time": "2020-08-21T06:38:19.183471Z"
    }
   },
   "outputs": [
    {
     "data": {
      "text/plain": [
       "Health and Demography                                                   1523\n",
       "Education, Arts and Culture                                             1503\n",
       "Justice and Human Rights                                                1428\n",
       "Labor, Employment and Human Resources Development                        826\n",
       "Public Services                                                          681\n",
       "Environment and Natural Resources                                        666\n",
       "Local Government                                                         640\n",
       "Ways and Means                                                           546\n",
       "Agriculture and Food                                                     441\n",
       "Civil Service and Government Reorganization                              427\n",
       "Government Corporations and Public Enterprises                           415\n",
       "Constitutional Amendments, Revision of Codes and Laws                    403\n",
       "Civil Service, Government Reorganization and Professional Regulation     377\n",
       "Public Order and Dangerous Drugs                                         367\n",
       "Trade and Commerce                                                       353\n",
       "Public Information and Mass Media                                        349\n",
       "National Defense and Security                                            315\n",
       "Youth, Women and Family Relations                                        314\n",
       "Banks, Financial Institutions and Currencies                             303\n",
       "Social Justice, Welfare and Rural Development                            287\n",
       "Trade, Commerce and Entrepreneurship                                     276\n",
       "Women, Children, Family Relations and Gender Equality                    258\n",
       "Science and Technology                                                   231\n",
       "Public Works                                                             215\n",
       "Rules                                                                    206\n",
       "Energy                                                                   195\n",
       "Electoral Reforms  and Peoples Participation                             180\n",
       "Finance                                                                  179\n",
       "Public Order and Illegal Drugs                                           170\n",
       "Urban Planning, Housing and Resettlement                                 147\n",
       "Basic Education, Arts and Culture                                        124\n",
       "Economic Affairs                                                         113\n",
       "Agriculture, Food and Agrarian Reform                                     80\n",
       "Cultural Communities                                                      72\n",
       "Higher, Technical and Vocational Education                                69\n",
       "Games, Amusement and Sports                                               65\n",
       "Foreign Relations                                                         59\n",
       "Environment, Natural Resources and Climate Change                         56\n",
       "Agrarian Reform                                                           51\n",
       "Tourism                                                                   50\n",
       "Youth                                                                     48\n",
       "National Defense and Security, Peace, Unification and Reconciliation      42\n",
       "Constitutional Amendments and Revision of Codes                           39\n",
       "Cooperatives                                                              32\n",
       "Sports                                                                    31\n",
       "Games and Amusement                                                       27\n",
       "Accounts                                                                  15\n",
       "Joint Congressional Oversight Committee on Cooperatives                   14\n",
       "Sustainable Development Goals, Innovation and Futures Thinking             9\n",
       "Peace, Unification and Reconciliation                                      9\n",
       "Climate Change                                                             7\n",
       "Amateur Sports Competitiveness                                             4\n",
       "Accountability of Public Officers and Investigations                       2\n",
       "Name: primary_committee, dtype: int64"
      ]
     },
     "execution_count": 13,
     "metadata": {},
     "output_type": "execute_result"
    }
   ],
   "source": [
    "df_clean['primary_committee'].value_counts()"
   ]
  },
  {
   "cell_type": "markdown",
   "metadata": {},
   "source": [
    "### Text Features"
   ]
  },
  {
   "cell_type": "markdown",
   "metadata": {},
   "source": [
    "#### Combine title and long title"
   ]
  },
  {
   "cell_type": "code",
   "execution_count": 14,
   "metadata": {
    "ExecuteTime": {
     "end_time": "2020-08-21T06:38:19.225430Z",
     "start_time": "2020-08-21T06:38:19.195418Z"
    }
   },
   "outputs": [],
   "source": [
    "combined = []\n",
    "for short, long in (list(zip(df_clean[\"title\"], df_clean['long_title']))):\n",
    "    if short in long:\n",
    "        combined += [long.lower()]\n",
    "    else:\n",
    "        combined += [short.lower() +' ' + long.lower()]"
   ]
  },
  {
   "cell_type": "code",
   "execution_count": 15,
   "metadata": {
    "ExecuteTime": {
     "end_time": "2020-08-21T06:38:19.235042Z",
     "start_time": "2020-08-21T06:38:19.226429Z"
    }
   },
   "outputs": [
    {
     "data": {
      "text/plain": [
       "0    special measures to lower the cost of medicine...\n",
       "1    the constitutional convention act an act calli...\n",
       "2    magna carta of patient's rights and obligation...\n",
       "3    health promotion act of 2004 an act establishi...\n",
       "4    increasing the allowable personal additional t...\n",
       "Name: combined_title, dtype: object"
      ]
     },
     "execution_count": 15,
     "metadata": {},
     "output_type": "execute_result"
    }
   ],
   "source": [
    "df_clean['combined_title'] = combined\n",
    "\n",
    "df_clean['combined_title'].head()"
   ]
  },
  {
   "cell_type": "markdown",
   "metadata": {},
   "source": [
    "#### Natural Language Processing"
   ]
  },
  {
   "cell_type": "markdown",
   "metadata": {},
   "source": [
    "##### Removing of punctuations"
   ]
  },
  {
   "cell_type": "code",
   "execution_count": 16,
   "metadata": {
    "ExecuteTime": {
     "end_time": "2020-08-21T06:38:19.303146Z",
     "start_time": "2020-08-21T06:38:19.237045Z"
    }
   },
   "outputs": [],
   "source": [
    "import string\n",
    "punc = string.punctuation.replace('-', '').replace(\"'\", '')\n",
    "table = str.maketrans(' ', ' ', punc)\n",
    "stripped = [w.translate(table) for w in df_clean['combined_title']]"
   ]
  },
  {
   "cell_type": "markdown",
   "metadata": {},
   "source": [
    "##### Removing stop words"
   ]
  },
  {
   "cell_type": "code",
   "execution_count": 17,
   "metadata": {
    "ExecuteTime": {
     "end_time": "2020-08-21T06:38:19.868140Z",
     "start_time": "2020-08-21T06:38:19.309904Z"
    }
   },
   "outputs": [],
   "source": [
    "import nltk\n",
    "# nltk.download('stopwords')"
   ]
  },
  {
   "cell_type": "code",
   "execution_count": 18,
   "metadata": {
    "ExecuteTime": {
     "end_time": "2020-08-21T06:38:19.993494Z",
     "start_time": "2020-08-21T06:38:19.870329Z"
    }
   },
   "outputs": [],
   "source": [
    "# filter out stop words\n",
    "from nltk.corpus import stopwords\n",
    "\n",
    "stop_words = set(stopwords.words('english'))\n",
    "\n",
    "no_stop_words = []\n",
    "for word_list in stripped:\n",
    "    word_list = word_list.split()\n",
    "    words = [w for w in word_list if not w in stop_words]\n",
    "    no_stop_words += [words]"
   ]
  },
  {
   "cell_type": "markdown",
   "metadata": {
    "ExecuteTime": {
     "end_time": "2020-08-13T18:10:22.054932Z",
     "start_time": "2020-08-13T18:10:22.051940Z"
    }
   },
   "source": [
    "#### Lemmatization"
   ]
  },
  {
   "cell_type": "code",
   "execution_count": 19,
   "metadata": {
    "ExecuteTime": {
     "end_time": "2020-08-21T06:38:23.013167Z",
     "start_time": "2020-08-21T06:38:19.994494Z"
    },
    "scrolled": false
   },
   "outputs": [],
   "source": [
    "# nltk.download('wordnet')\n",
    "from nltk.stem import WordNetLemmatizer \n",
    "  \n",
    "lemmatizer = WordNetLemmatizer() \n",
    "\n",
    "lematized = []\n",
    "for word_list in no_stop_words:\n",
    "    words = [lemmatizer.lemmatize(w) for w in word_list]\n",
    "    lematized += [words]"
   ]
  },
  {
   "cell_type": "code",
   "execution_count": 20,
   "metadata": {
    "ExecuteTime": {
     "end_time": "2020-08-21T06:38:23.031214Z",
     "start_time": "2020-08-21T06:38:23.014167Z"
    }
   },
   "outputs": [],
   "source": [
    "title_cleaned = []\n",
    "for i in lematized:\n",
    "    title_cleaned+=[\" \".join(i)]"
   ]
  },
  {
   "cell_type": "code",
   "execution_count": 21,
   "metadata": {
    "ExecuteTime": {
     "end_time": "2020-08-21T06:38:23.043436Z",
     "start_time": "2020-08-21T06:38:23.033192Z"
    }
   },
   "outputs": [
    {
     "data": {
      "text/plain": [
       "8037     act granting additional monthly honorarium bar...\n",
       "3918     philippine coast guard act 2007 act reorganizi...\n",
       "12291    authorizing use special fund preparation natur...\n",
       "3359     woman children's hiv protection act 2007 act p...\n",
       "9995     national stem scholarship database act act man...\n",
       "Name: combined_title, dtype: object"
      ]
     },
     "execution_count": 21,
     "metadata": {},
     "output_type": "execute_result"
    }
   ],
   "source": [
    "df_clean['combined_title'] = title_cleaned\n",
    "df_clean['combined_title'].sample(5)"
   ]
  },
  {
   "cell_type": "markdown",
   "metadata": {},
   "source": [
    "### Convert dates to datetime columns"
   ]
  },
  {
   "cell_type": "code",
   "execution_count": 22,
   "metadata": {
    "ExecuteTime": {
     "end_time": "2020-08-21T06:38:23.229417Z",
     "start_time": "2020-08-21T06:38:23.046436Z"
    }
   },
   "outputs": [
    {
     "data": {
      "text/plain": [
       "0   2004-06-30\n",
       "1   2004-06-30\n",
       "2   2004-06-30\n",
       "3   2004-06-30\n",
       "4   2004-06-30\n",
       "Name: filed_on, dtype: datetime64[ns]"
      ]
     },
     "execution_count": 22,
     "metadata": {},
     "output_type": "execute_result"
    }
   ],
   "source": [
    "df_clean['filed_on'] = pd.to_datetime(df_clean['filed_on'])\n",
    "df_clean['filed_on'].head()"
   ]
  },
  {
   "cell_type": "code",
   "execution_count": 23,
   "metadata": {
    "ExecuteTime": {
     "end_time": "2020-08-21T06:38:23.342437Z",
     "start_time": "2020-08-21T06:38:23.232417Z"
    }
   },
   "outputs": [],
   "source": [
    "df_clean.to_pickle(f'{data_dir}/clean_data.pkl', protocol=3)\n",
    "\n",
    "df_clean = pd.read_pickle(f'{data_dir}/clean_data.pkl')"
   ]
  },
  {
   "cell_type": "markdown",
   "metadata": {},
   "source": [
    "# Exploratory Data Analysis"
   ]
  },
  {
   "cell_type": "markdown",
   "metadata": {},
   "source": [
    "```\n",
    "Do the analyses provide descriptions and rationale for their implementation? For\n",
    "example, if data are visualized and pair plots or swarm plots are provided in the\n",
    "EDA, does the author explain why they are there and what insights are gleaned\n",
    "from the visualizations? If correlations and/or probability distributions are\n",
    "provided, does the author elaborate on them?\n",
    "```\n",
    "\n",
    "TODO: Plot figures and explain. Make it as pretty if possible. :) I can help you. Axis and title should be named well. "
   ]
  },
  {
   "cell_type": "markdown",
   "metadata": {},
   "source": [
    "## Bills per Congress\n",
    "1 bar plot"
   ]
  },
  {
   "cell_type": "markdown",
   "metadata": {},
   "source": [
    "## Wordcloud of Combined Title per Congress\n",
    "Remove stop words that you deem unnecessary. \n",
    "1 wordcloud per congress. make it a 2x3 plot."
   ]
  },
  {
   "cell_type": "markdown",
   "metadata": {},
   "source": [
    "## When are bills filed usually?\n",
    "Number of Bills per Month for each congress\n",
    "1 bar plot per congress. X axis is the month."
   ]
  },
  {
   "cell_type": "markdown",
   "metadata": {},
   "source": [
    "## What are the Scope of the bills?\n",
    "1 Bar plot per congress.\n",
    "Show the number of unique scope. "
   ]
  },
  {
   "cell_type": "markdown",
   "metadata": {},
   "source": [
    "## Word cloud of subject per Congress"
   ]
  },
  {
   "cell_type": "markdown",
   "metadata": {},
   "source": [
    "## How many bills are filed per primary committee?\n",
    "Do this per congress"
   ]
  },
  {
   "cell_type": "markdown",
   "metadata": {
    "ExecuteTime": {
     "end_time": "2020-08-20T07:57:00.848018Z",
     "start_time": "2020-08-20T07:57:00.843005Z"
    }
   },
   "source": [
    "## How many bills are filed per senator?\n",
    "Do this per congress again. "
   ]
  },
  {
   "cell_type": "markdown",
   "metadata": {},
   "source": [
    "# Methodology\n",
    "\n",
    "TODO: Link to each section\n",
    "\n",
    "Here is the overview of our overall pipeline. For more details about how they are done, you can go to their respective sections on this paper.\n",
    "\n",
    "![Pipeline](../resources/pipeline_method.png)\n",
    "\n",
    "1. **Data Scraping**\n",
    "\n",
    "    We used Selenium to scrape the Senate of the Philippines website.\n",
    "\n",
    "\n",
    "2. **Data Cleaning**\n",
    "\n",
    "    We just made the format of features easier to deal with such as normalizing categorical names and converting strings to datetime columns. \n",
    "\n",
    "    We also combined text features and used Natural Language Processing to remove punctiations, remove stop words and simplifying words to their root words using lemmatization.\n",
    "\n",
    "\n",
    "\n",
    "3. **Data Transformation**\n",
    "    \n",
    "    Before doing Information Retrieval and Clustering, we first transformed our data into its vector representation. We used TF-IDF for vectorization and used L2-normalization to make the magnitude of the vectors equal to 1.\n",
    "    \n",
    "    \n",
    "4. **Information Retrieval**\n",
    "    1. **Information Retrieval Function** - \n",
    "        We will create a function that will get the nearest K number of bills using their TF-IDF vector represenation with Euclidean distance as the metric.\n",
    "        \n",
    "    2. **Information Retrieval Evaluation** - \n",
    "        After doing Information Retrieval, we will evaluate the documents retrieved manually and also use the metric AUC-PR to evaluate how the Information Retrieval function works.    \n",
    "    \n",
    "    \n",
    "5. **Clustering** \n",
    "    This section can be done right after Step 3 as it only needs the TF-IDF vector represenation.\n",
    "\n",
    "    1. **Dimensional Reduction** - \n",
    "        We used Singular Value Decomposition to reduce the dimensions of the TF-IDF vector.\n",
    "    \n",
    "    2. **Hierarchical Clustering** - \n",
    "        We used the Ward's method to get clusters of bills using the output vectors from dimensional reduction.\n",
    "    \n",
    "    3. **Clustering Analysis** - \n",
    "        We analyzed what each cluster means and show the characteristics of each bill cluster.\n",
    "        \n",
    "In  this section, **Methodology**, we will show only Steps 3 to 5 in this section except for the **Information Retrieval Evaluation** and **Clustering analysis** which will be discussed in our Results and Discussions. Steps 1 and 2 have already been discussed previously in the **Data Description and Processing** Section."
   ]
  },
  {
   "cell_type": "markdown",
   "metadata": {},
   "source": [
    "## TF-IDF Vectorization Text Features\n",
    "We used Scikit learn's TfidfVectorizer to vectorize our feature, `combined_title`. We set our `max_features` to 1000 so that we will just get the top 1000 absed on the term frequency across the corpus. We also filtered using, `min_df` and `max_df` that would remove the terms that has a document frequency strictly lower or higher than lowest 0.1% and highest 99.9% of the corpus respectively. Lastly, we normalized the length of the vectors to 1 using L2-normalization."
   ]
  },
  {
   "cell_type": "code",
   "execution_count": 24,
   "metadata": {
    "ExecuteTime": {
     "end_time": "2020-08-21T06:38:23.718440Z",
     "start_time": "2020-08-21T06:38:23.344437Z"
    },
    "scrolled": false
   },
   "outputs": [
    {
     "name": "stdout",
     "output_type": "stream",
     "text": [
      "(15239, 1000)\n"
     ]
    }
   ],
   "source": [
    "from sklearn.feature_extraction.text import TfidfVectorizer\n",
    "vectorizer = TfidfVectorizer(min_df=0.001, max_df=0.999, max_features=1000, \n",
    "                             norm='l2')\n",
    "X = vectorizer.fit_transform(df_clean['combined_title']).toarray()\n",
    "print(X.shape)"
   ]
  },
  {
   "cell_type": "markdown",
   "metadata": {},
   "source": [
    "## Information Retrieval"
   ]
  },
  {
   "cell_type": "markdown",
   "metadata": {},
   "source": [
    "TODO: Just show how information retrieval is done here and show a sample query. "
   ]
  },
  {
   "cell_type": "markdown",
   "metadata": {},
   "source": [
    "## Clustering\n",
    "\n",
    "We cluster bills into groups of related bills based on their `combined_title` so that we can create intuitive groupings of related bills that can be used as navigation in the Senate of the Philippine's website for bills. We used Singular Value Decomposition to reduce the dimension of the TF-IDF vectors and we used Hierarchical/Agglomerative Clustering using Ward's method to cluster the bills."
   ]
  },
  {
   "cell_type": "markdown",
   "metadata": {},
   "source": [
    "### Dimensionality Reduction"
   ]
  },
  {
   "cell_type": "code",
   "execution_count": 25,
   "metadata": {
    "ExecuteTime": {
     "end_time": "2020-08-21T06:38:23.724439Z",
     "start_time": "2020-08-21T06:38:23.720437Z"
    }
   },
   "outputs": [],
   "source": [
    "def truncated_svd(X):\n",
    "    \"\"\"Return truncated SVD of X.\"\"\"\n",
    "    q, s, p = np.linalg.svd(X)\n",
    "    return q, np.diag(s), p.T, s**2/np.linalg.norm(s**2, 1)"
   ]
  },
  {
   "cell_type": "markdown",
   "metadata": {},
   "source": [
    "Here are some of the term used as features. "
   ]
  },
  {
   "cell_type": "code",
   "execution_count": 41,
   "metadata": {
    "ExecuteTime": {
     "end_time": "2020-08-21T08:13:40.595535Z",
     "start_time": "2020-08-21T08:13:40.589708Z"
    }
   },
   "outputs": [
    {
     "name": "stdout",
     "output_type": "stream",
     "text": [
      "['workers', 'working', 'year', 'youth', 'zone']\n"
     ]
    }
   ],
   "source": [
    "features = vectorizer.get_feature_names()\n",
    "print(features[-5:])"
   ]
  },
  {
   "cell_type": "markdown",
   "metadata": {},
   "source": [
    "We now decompose our TF-IDF vector using SVD."
   ]
  },
  {
   "cell_type": "code",
   "execution_count": 27,
   "metadata": {
    "ExecuteTime": {
     "end_time": "2020-08-21T06:38:33.055388Z",
     "start_time": "2020-08-21T06:38:23.731392Z"
    }
   },
   "outputs": [],
   "source": [
    "q, s, p, nssd = truncated_svd(X)"
   ]
  },
  {
   "cell_type": "code",
   "execution_count": 52,
   "metadata": {
    "ExecuteTime": {
     "end_time": "2020-08-21T08:17:14.882228Z",
     "start_time": "2020-08-21T08:17:14.873089Z"
    }
   },
   "outputs": [],
   "source": [
    "def plot_svd(X_new, features, p):\n",
    "    \"\"\"\n",
    "    Plot transformed data and features on to the first two singular vectors\n",
    "    \n",
    "    Parameters\n",
    "    ----------\n",
    "    X_new : array\n",
    "        Transformed data\n",
    "    featurs : sequence of str\n",
    "        Feature names\n",
    "    p : array\n",
    "        P matrix\n",
    "    \"\"\"\n",
    "    fig, ax = plt.subplots(1, 2, subplot_kw=dict(aspect='equal'), \n",
    "                           gridspec_kw=dict(wspace=0.4), dpi=150)\n",
    "    ax[0].scatter(X_new[:,0], X_new[:,1])\n",
    "    ax[0].set_xlabel('SV1')\n",
    "    ax[0].set_ylabel('SV2')\n",
    "    \n",
    "    scale = 2\n",
    "    for feature, vec in zip(features, p):\n",
    "        ax[1].arrow(0, 0, scale*vec[0], scale*vec[1], width=0.01, \n",
    "                    ec='none', fc='r')\n",
    "        ax[1].text(scale*vec[0], scale*vec[1], feature, ha='center', \n",
    "                   color='r', fontsize=5)\n",
    "    ax[1].set_xlim(-1, 1)\n",
    "    ax[1].set_ylim(-1, 1)\n",
    "    ax[1].set_xlabel('SV1')\n",
    "    ax[1].set_ylabel('SV2')\n",
    "    fig.suptitle(\"Datapoints and the Feature Vectors Plotted \"\n",
    "                 \"using SV1 and SV2\")"
   ]
  },
  {
   "cell_type": "code",
   "execution_count": 53,
   "metadata": {
    "ExecuteTime": {
     "end_time": "2020-08-21T08:17:19.587708Z",
     "start_time": "2020-08-21T08:17:15.776341Z"
    }
   },
   "outputs": [
    {
     "data": {
      "image/png": "[encoded data removed]",
      "text/plain": [
       "<Figure size 900x600 with 2 Axes>"
      ]
     },
     "metadata": {},
     "output_type": "display_data"
    }
   ],
   "source": [
    "plot_svd(X, features, p)"
   ]
  },
  {
   "cell_type": "markdown",
   "metadata": {},
   "source": [
    "The plot above on the right shows that the word `act` is highly correlated to the first Singular Value or SV1 while the terms `code` and `amending` are highly negatively correlated to SV2. \n",
    "\n",
    "On the plot on the left, we can actually see that using SV1 and SV2 as axis, we can already cluster them into about 3 clusters. One cluster could be the cluster of points in the y-axis while the other would be the points in the x-axis. The last one would be the clusters found in the middle. "
   ]
  },
  {
   "cell_type": "code",
   "execution_count": 54,
   "metadata": {
    "ExecuteTime": {
     "end_time": "2020-08-21T08:22:10.917864Z",
     "start_time": "2020-08-21T08:22:10.660415Z"
    }
   },
   "outputs": [
    {
     "data": {
      "image/png": "[encoded data removed]",
      "text/plain": [
       "<Figure size 864x576 with 1 Axes>"
      ]
     },
     "metadata": {},
     "output_type": "display_data"
    }
   ],
   "source": [
    "fig, ax = plt.subplots(figsize=(12,8))\n",
    "ax.plot(range(1, len(nssd)+1), nssd, '-', label='individual')\n",
    "ax.plot(range(1, len(nssd)+1), nssd.cumsum(), '-', label='cumulative')\n",
    "plt.axhline(0.9, linestyle='--', color='salmon')\n",
    "\n",
    "chosen_sv = np.argwhere(nssd.cumsum() >= 0.9)[0][0]\n",
    "\n",
    "plt.axvline(chosen_sv, color='salmon')\n",
    "\n",
    "ax.legend(['individual', 'cumulative', '90% Variance Explained',\n",
    "           f'Selected Number of SV: {chosen_sv}' ])\n",
    "# ax.set_ylim(0, 1)\n",
    "\n",
    "ax.set_xlabel('Singular Values (SV)')\n",
    "\n",
    "ax.set_ylabel('variance explained')\n",
    "ax.set_title(\"Variance Explained using Singular Values\");"
   ]
  },
  {
   "cell_type": "markdown",
   "metadata": {},
   "source": [
    "The plot above shows that we need the first **612** Singular Values to explain 90% of the variance thus we will just use 612 dimensions for our vectors from the SVD."
   ]
  },
  {
   "cell_type": "code",
   "execution_count": 31,
   "metadata": {
    "ExecuteTime": {
     "end_time": "2020-08-21T06:38:37.455398Z",
     "start_time": "2020-08-21T06:38:37.452387Z"
    }
   },
   "outputs": [],
   "source": [
    "def project_svd(q, s, k):\n",
    "    \"\"\"Returns the projected result of SVD.\"\"\"\n",
    "    return q[:,:k].dot(s[:k,:k])"
   ]
  },
  {
   "cell_type": "markdown",
   "metadata": {},
   "source": [
    "As you can see here, we reduced the dimension of our TF-IDF vector to just 612 dimensions."
   ]
  },
  {
   "cell_type": "code",
   "execution_count": 32,
   "metadata": {
    "ExecuteTime": {
     "end_time": "2020-08-21T06:38:37.632185Z",
     "start_time": "2020-08-21T06:38:37.457397Z"
    }
   },
   "outputs": [
    {
     "data": {
      "text/plain": [
       "(15239, 612)"
      ]
     },
     "execution_count": 32,
     "metadata": {},
     "output_type": "execute_result"
    }
   ],
   "source": [
    "X_svd = project_svd(q, s, chosen_sv)\n",
    "X_svd.shape"
   ]
  },
  {
   "cell_type": "code",
   "execution_count": 55,
   "metadata": {
    "ExecuteTime": {
     "end_time": "2020-08-21T08:31:04.293683Z",
     "start_time": "2020-08-21T08:31:00.474868Z"
    },
    "scrolled": false
   },
   "outputs": [
    {
     "data": {
      "image/png": "[encoded data removed]",
      "text/plain": [
       "<Figure size 1080x1440 with 10 Axes>"
      ]
     },
     "metadata": {},
     "output_type": "display_data"
    }
   ],
   "source": [
    "num_sv = 10\n",
    "cols = 2\n",
    "fig, axes = plt.subplots(int(num_sv/cols), cols, figsize=(15, 20),\n",
    "                        constrained_layout=True)\n",
    "axes = axes.ravel()\n",
    "\n",
    "for i, ax in zip(range(0, num_sv), axes):\n",
    "    sv_num = i+1\n",
    "    order = np.argsort(np.abs(p[:, i]))[-5:]\n",
    "    ax.barh([features[o] for o in order], p[order, i])\n",
    "    ax.set_title(f'SV{sv_num}')\n",
    "    \n",
    "fig.suptitle(\"Top 5 Words Related to Each Singular Value\",  \n",
    "             fontweight=\"bold\");"
   ]
  },
  {
   "cell_type": "markdown",
   "metadata": {},
   "source": [
    "The plot above shows the 10 Singular Values and their top 5 most correlated words (negatively and positively). For each SV, we can interpret it like below. \n",
    "\n",
    "Singular Value\n",
    "1. This seems a more general dimension that is highly correlated with the term act. One notable feature here is the term amending. It may be that this SV is related to amendments.\n",
    "2. SV related to funding or relatively new projects as it is negatively correlated with amending.\n",
    "3. Nationwide-based bills dimension. \n",
    "4. Local government\n",
    "5. Negatively correlated to education.\n",
    "6. Dimension based on National High Scools.\n",
    "7. Revised penal code.\n",
    "8. Negatively correlated to Magna Carta.\n",
    "9. Negatively correlated to Magna Carta.\n",
    "10. Negatively correlated to health care."
   ]
  },
  {
   "cell_type": "markdown",
   "metadata": {},
   "source": [
    "### Hierarchical Clustering\n",
    "After doing dimensional reduction, we will now do hierarchical clustering. We chose hierarchical clustering because our goal is to create a hierarchical way of navigating through the groups of bills. We hope to create different levels of clusters using this method. "
   ]
  },
  {
   "cell_type": "code",
   "execution_count": 36,
   "metadata": {
    "ExecuteTime": {
     "end_time": "2020-08-21T07:53:17.294038Z",
     "start_time": "2020-08-21T07:53:17.079194Z"
    }
   },
   "outputs": [],
   "source": [
    "from scipy.cluster.hierarchy import dendrogram\n",
    "from sklearn.cluster import AgglomerativeClustering\n",
    "\n",
    "\n",
    "def plot_dendrogram(model, **kwargs):\n",
    "    # Create linkage matrix and then plot the dendrogram\n",
    "\n",
    "    # create the counts of samples under each node\n",
    "    counts = np.zeros(model.children_.shape[0])\n",
    "    n_samples = len(model.labels_)\n",
    "    for i, merge in enumerate(model.children_):\n",
    "        current_count = 0\n",
    "        for child_idx in merge:\n",
    "            if child_idx < n_samples:\n",
    "                current_count += 1  # leaf node\n",
    "            else:\n",
    "                current_count += counts[child_idx - n_samples]\n",
    "        counts[i] = current_count\n",
    "\n",
    "    linkage_matrix = np.column_stack([model.children_, model.distances_,\n",
    "                                      counts]).astype(float)\n",
    "\n",
    "    # Plot the corresponding dendrogram\n",
    "    dendrogram(linkage_matrix, **kwargs)"
   ]
  },
  {
   "cell_type": "code",
   "execution_count": 56,
   "metadata": {
    "ExecuteTime": {
     "end_time": "2020-08-21T08:52:14.995062Z",
     "start_time": "2020-08-21T08:50:51.037087Z"
    }
   },
   "outputs": [],
   "source": [
    "# setting distance_threshold=0 ensures we compute the full tree.\n",
    "model = AgglomerativeClustering(distance_threshold=0, n_clusters=None, \n",
    "                                linkage='ward')\n",
    "model = model.fit(X_svd)"
   ]
  },
  {
   "cell_type": "code",
   "execution_count": 68,
   "metadata": {
    "ExecuteTime": {
     "end_time": "2020-08-21T09:07:25.369863Z",
     "start_time": "2020-08-21T09:07:22.852923Z"
    }
   },
   "outputs": [
    {
     "data": {
      "image/png": "[encoded data removed]",
      "text/plain": [
       "<Figure size 1080x576 with 1 Axes>"
      ]
     },
     "metadata": {},
     "output_type": "display_data"
    }
   ],
   "source": [
    "# plot the top three levels of the dendrogram\n",
    "sns.set_style('darkgrid')\n",
    "plt.figure(figsize=(15, 8))\n",
    "plot_dendrogram(model, truncate_mode='level', p=6, color_threshold=8.8)\n",
    "plt.xlabel(\"Number of points in node (or index of point if no parenthesis).\")\n",
    "plt.title('Hierarchical Clustering Dendrogram')\n",
    "plt.axhline(11, color='salmon', linestyle='--')\n",
    "plt.axhline(8.8, color='darkorange', linestyle='--')\n",
    "plt.axhline(6, color='royalblue', linestyle='--')\n",
    "plt.legend([\"$\\Delta$=11\", \"$\\Delta$=8.8\", \"$\\Delta$=6\"])\n",
    "plt.ylabel(\"$\\Delta$\")\n",
    "plt.show()\n",
    "sns.set_style('whitegrid')"
   ]
  },
  {
   "cell_type": "markdown",
   "metadata": {},
   "source": [
    "The plot above shows the dendogram using Ward's method. We used Ward's method because we wanted clusters that has smaller variation from the group centers. Using other methods such as complete, single and average linkage would just create one large cluster and that is not what we want.\n",
    "\n",
    "We chose three Delta's or thresholds because we want to have a general level ($\\Delta = 11$), mid-level  ($\\Delta = 8.8$) and low-level ($\\Delta = 6$) for our navigation. The thresholds chosen are based on eyeballing and putting the threshold where there is a considerable jump of Delta. The mid-level delta has been chosen just based on how many clusters are there and how much we can interpret the clusters. "
   ]
  },
  {
   "cell_type": "code",
   "execution_count": 69,
   "metadata": {
    "ExecuteTime": {
     "end_time": "2020-08-21T09:13:12.743859Z",
     "start_time": "2020-08-21T09:13:12.739849Z"
    }
   },
   "outputs": [],
   "source": [
    "model_a = AgglomerativeClustering(distance_threshold=11, n_clusters=None, \n",
    "                                linkage='ward')\n",
    "\n",
    "model_b = AgglomerativeClustering(distance_threshold=8.8, n_clusters=None, \n",
    "                                linkage='ward')\n",
    "\n",
    "model_c = AgglomerativeClustering(distance_threshold=6, n_clusters=None, \n",
    "                                linkage='ward')"
   ]
  },
  {
   "cell_type": "markdown",
   "metadata": {},
   "source": [
    "We then saved the three levels as `ward_a` (general), `ward_b` (mid) and `ward_c` (low) as columns of our dataframe."
   ]
  },
  {
   "cell_type": "code",
   "execution_count": 70,
   "metadata": {
    "ExecuteTime": {
     "end_time": "2020-08-21T09:17:36.120120Z",
     "start_time": "2020-08-21T09:13:13.329476Z"
    }
   },
   "outputs": [],
   "source": [
    "try:\n",
    "    df_clean = pd.read_pickle(f'{data_dir}/clusters_added.pkl')\n",
    "except:\n",
    "\n",
    "    models = [model_a, model_b, model_c]\n",
    "\n",
    "    for i, model in zip(['ward_a', 'ward_b', 'ward_c'],models):\n",
    "        df_clean[f'clustering_{i}'] = model.fit_predict(X_svd)\n",
    "    \n",
    "    df_clean.to_pickle(f'{data_dir}/clusters_added.pkl', protocol=3)"
   ]
  },
  {
   "cell_type": "markdown",
   "metadata": {},
   "source": [
    "# Results and Discussions"
   ]
  },
  {
   "cell_type": "markdown",
   "metadata": {},
   "source": [
    "## Evaluation of Information Retrieval"
   ]
  },
  {
   "cell_type": "markdown",
   "metadata": {},
   "source": [
    "1. Show AUC-PR for Scope.\n",
    "2. Show AUC-PR per congress number for Primary Commitee.\n",
    "2. Manually evaluate: Use k = 10 and search 5 possible terms. Then manually identify if the results are relevant or not. Get precision. "
   ]
  },
  {
   "cell_type": "markdown",
   "metadata": {},
   "source": [
    "## Analyzing the Clusters"
   ]
  },
  {
   "cell_type": "markdown",
   "metadata": {},
   "source": [
    "1. Word Cloud cluster c\n",
    "2. 5 samples per cluster c dataframe\n",
    "3. Interpretation of each cluster "
   ]
  },
  {
   "cell_type": "code",
   "execution_count": null,
   "metadata": {
    "ExecuteTime": {
     "end_time": "2020-08-21T07:53:17.740139Z",
     "start_time": "2020-08-21T06:38:17.481Z"
    }
   },
   "outputs": [],
   "source": [
    "df_clean = pd.read_pickle('clusters_added.pkl')"
   ]
  },
  {
   "cell_type": "code",
   "execution_count": null,
   "metadata": {
    "ExecuteTime": {
     "end_time": "2020-08-21T07:53:17.741140Z",
     "start_time": "2020-08-21T06:38:17.484Z"
    }
   },
   "outputs": [],
   "source": [
    "temp = df_clean[['filed_on', 'clustering_ward_b']].set_index('filed_on')\n",
    "temp"
   ]
  },
  {
   "cell_type": "markdown",
   "metadata": {},
   "source": [
    "# Conclusion"
   ]
  },
  {
   "cell_type": "markdown",
   "metadata": {},
   "source": [
    "# Recommendations"
   ]
  },
  {
   "cell_type": "markdown",
   "metadata": {},
   "source": [
    "# References and Acknowledgement\n",
    "\n",
    "```\n",
    "As far as the reviewer can tell, does it appear that the final technical report\n",
    "submitted for this project is a product of the student who submitted it?\n",
    "```"
   ]
  }
 ],
 "metadata": {
  "kernelspec": {
   "display_name": "Python 3",
   "language": "python",
   "name": "python3"
  },
  "language_info": {
   "codemirror_mode": {
    "name": "ipython",
    "version": 3
   },
   "file_extension": ".py",
   "mimetype": "text/x-python",
   "name": "python",
   "nbconvert_exporter": "python",
   "pygments_lexer": "ipython3",
   "version": "3.8.3"
  },
  "toc": {
   "base_numbering": 1,
   "nav_menu": {},
   "number_sections": true,
   "sideBar": true,
   "skip_h1_title": false,
   "title_cell": "Table of Contents",
   "title_sidebar": "Contents",
   "toc_cell": true,
   "toc_position": {
    "height": "calc(100% - 180px)",
    "left": "10px",
    "top": "150px",
    "width": "384px"
   },
   "toc_section_display": true,
   "toc_window_display": true
  },
  "varInspector": {
   "cols": {
    "lenName": 16,
    "lenType": 16,
    "lenVar": 40
   },
   "kernels_config": {
    "python": {
     "delete_cmd_postfix": "",
     "delete_cmd_prefix": "del ",
     "library": "var_list.py",
     "varRefreshCmd": "print(var_dic_list())"
    },
    "r": {
     "delete_cmd_postfix": ") ",
     "delete_cmd_prefix": "rm(",
     "library": "var_list.r",
     "varRefreshCmd": "cat(var_dic_list()) "
    }
   },
   "types_to_exclude": [
    "module",
    "function",
    "builtin_function_or_method",
    "instance",
    "_Feature"
   ],
   "window_display": false
  }
 },
 "nbformat": 4,
 "nbformat_minor": 4
}
