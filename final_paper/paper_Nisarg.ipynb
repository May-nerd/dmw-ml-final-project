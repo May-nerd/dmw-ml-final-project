{
 "cells": [
  {
   "cell_type": "markdown",
   "metadata": {},
   "source": [
    "# Congress Progress: Improving Search and Exploration of Senate Bills"
   ]
  },
  {
   "cell_type": "markdown",
   "metadata": {},
   "source": [
    "2  Executive Summary (Maynard) \n",
    "\n",
    "3  Problem Statement (Misha)\n",
    "\n",
    "4  Significance of the Study (Misha)\n",
    "\n",
    "5  Introduction (Misha)\n",
    "\n",
    "6  Data Description and Processing (Nisarg)\n",
    "\n",
    "7  Exploratory Data Analysis\n",
    "\n",
    "    7.1  Number of Bills per Congress (Ronald)\n",
    "\n",
    "    7.2  Wordcloud of Combined Title per Congress (Ronald)\n",
    "\n",
    "    7.3  When are bills filed usually? (Maynard)\n",
    "\n",
    "    7.4  What are the Scope of the bills? (Ronald)\n",
    "\n",
    "    7.5  Word cloud of subject per Congress (Ronald)\n",
    "\n",
    "    7.6  How many bills are filed per primary committee? (Ronald)\n",
    "\n",
    "    7.7  How many bills are filed per senator? (Ronald)\n",
    "\n",
    "8  Methodology \n",
    "\n",
    "8.2  Information Retrieval (Ralph)\n",
    "\n",
    "8.3  Clustering (Maynard)\n",
    "\n",
    "9  Results and Discussions\n",
    "\n",
    "9.1  Evaluation of Information Retrieval (Ralph)\n",
    "\n",
    "9.2  Analyzing the Clusters (Kisko)\n",
    "\n",
    "10  Conclusion (Maynard)\n",
    "\n",
    "11  Recommendations (Misha)\n",
    "\n",
    "12  References and Acknowledgement (Misha)"
   ]
  },
  {
   "cell_type": "markdown",
   "metadata": {
    "toc": true
   },
   "source": [
    "<h1>Table of Contents<span class=\"tocSkip\"></span></h1>\n",
    "<div class=\"toc\"><ul class=\"toc-item\"><li><span><a href=\"#Congress-Progress:-Improving-Search-and-Exploration-of-Senate-Bills\" data-toc-modified-id=\"Congress-Progress:-Improving-Search-and-Exploration-of-Senate-Bills-1\"><span class=\"toc-item-num\">1&nbsp;&nbsp;</span>Congress Progress: Improving Search and Exploration of Senate Bills</a></span></li><li><span><a href=\"#Executive-Summary\" data-toc-modified-id=\"Executive-Summary-2\"><span class=\"toc-item-num\">2&nbsp;&nbsp;</span>Executive Summary</a></span></li><li><span><a href=\"#Problem-Statement\" data-toc-modified-id=\"Problem-Statement-3\"><span class=\"toc-item-num\">3&nbsp;&nbsp;</span>Problem Statement</a></span></li><li><span><a href=\"#Significance-of-the-Study\" data-toc-modified-id=\"Significance-of-the-Study-4\"><span class=\"toc-item-num\">4&nbsp;&nbsp;</span>Significance of the Study</a></span></li><li><span><a href=\"#Introduction\" data-toc-modified-id=\"Introduction-5\"><span class=\"toc-item-num\">5&nbsp;&nbsp;</span>Introduction</a></span></li><li><span><a href=\"#Data-Description-and-Processing\" data-toc-modified-id=\"Data-Description-and-Processing-6\"><span class=\"toc-item-num\">6&nbsp;&nbsp;</span>Data Description and Processing</a></span><ul class=\"toc-item\"><li><span><a href=\"#Data-Description\" data-toc-modified-id=\"Data-Description-6.1\"><span class=\"toc-item-num\">6.1&nbsp;&nbsp;</span>Data Description</a></span></li><li><span><a href=\"#Data-Processing\" data-toc-modified-id=\"Data-Processing-6.2\"><span class=\"toc-item-num\">6.2&nbsp;&nbsp;</span>Data Processing</a></span></li><li><span><a href=\"#Data-Cleaning\" data-toc-modified-id=\"Data-Cleaning-6.3\"><span class=\"toc-item-num\">6.3&nbsp;&nbsp;</span>Data Cleaning</a></span><ul class=\"toc-item\"><li><span><a href=\"#Categorical-Features\" data-toc-modified-id=\"Categorical-Features-6.3.1\"><span class=\"toc-item-num\">6.3.1&nbsp;&nbsp;</span>Categorical Features</a></span><ul class=\"toc-item\"><li><span><a href=\"#filed_by\" data-toc-modified-id=\"filed_by-6.3.1.1\"><span class=\"toc-item-num\">6.3.1.1&nbsp;&nbsp;</span>filed_by</a></span></li><li><span><a href=\"#primary_committee\" data-toc-modified-id=\"primary_committee-6.3.1.2\"><span class=\"toc-item-num\">6.3.1.2&nbsp;&nbsp;</span>primary_committee</a></span></li></ul></li><li><span><a href=\"#Text-Features\" data-toc-modified-id=\"Text-Features-6.3.2\"><span class=\"toc-item-num\">6.3.2&nbsp;&nbsp;</span>Text Features</a></span><ul class=\"toc-item\"><li><span><a href=\"#Combine-title-and-long-title\" data-toc-modified-id=\"Combine-title-and-long-title-6.3.2.1\"><span class=\"toc-item-num\">6.3.2.1&nbsp;&nbsp;</span>Combine title and long title</a></span></li><li><span><a href=\"#Natural-Language-Processing\" data-toc-modified-id=\"Natural-Language-Processing-6.3.2.2\"><span class=\"toc-item-num\">6.3.2.2&nbsp;&nbsp;</span>Natural Language Processing</a></span></li><li><span><a href=\"#Lemmatization\" data-toc-modified-id=\"Lemmatization-6.3.2.3\"><span class=\"toc-item-num\">6.3.2.3&nbsp;&nbsp;</span>Lemmatization</a></span></li></ul></li><li><span><a href=\"#Convert-dates-to-datetime-columns\" data-toc-modified-id=\"Convert-dates-to-datetime-columns-6.3.3\"><span class=\"toc-item-num\">6.3.3&nbsp;&nbsp;</span>Convert dates to datetime columns</a></span></li></ul></li></ul></li><li><span><a href=\"#Exploratory-Data-Analysis\" data-toc-modified-id=\"Exploratory-Data-Analysis-7\"><span class=\"toc-item-num\">7&nbsp;&nbsp;</span>Exploratory Data Analysis</a></span><ul class=\"toc-item\"><li><span><a href=\"#Bills-per-Congress\" data-toc-modified-id=\"Bills-per-Congress-7.1\"><span class=\"toc-item-num\">7.1&nbsp;&nbsp;</span>Bills per Congress</a></span></li><li><span><a href=\"#Wordcloud-of-Combined-Title-per-Congress\" data-toc-modified-id=\"Wordcloud-of-Combined-Title-per-Congress-7.2\"><span class=\"toc-item-num\">7.2&nbsp;&nbsp;</span>Wordcloud of Combined Title per Congress</a></span></li><li><span><a href=\"#When-are-bills-filed-usually?\" data-toc-modified-id=\"When-are-bills-filed-usually?-7.3\"><span class=\"toc-item-num\">7.3&nbsp;&nbsp;</span>When are bills filed usually?</a></span></li><li><span><a href=\"#What-are-the-Scope-of-the-bills?\" data-toc-modified-id=\"What-are-the-Scope-of-the-bills?-7.4\"><span class=\"toc-item-num\">7.4&nbsp;&nbsp;</span>What are the Scope of the bills?</a></span></li><li><span><a href=\"#Word-cloud-of-subject-per-Congress\" data-toc-modified-id=\"Word-cloud-of-subject-per-Congress-7.5\"><span class=\"toc-item-num\">7.5&nbsp;&nbsp;</span>Word cloud of subject per Congress</a></span></li><li><span><a href=\"#How-many-bills-are-filed-per-primary-committee?\" data-toc-modified-id=\"How-many-bills-are-filed-per-primary-committee?-7.6\"><span class=\"toc-item-num\">7.6&nbsp;&nbsp;</span>How many bills are filed per primary committee?</a></span></li><li><span><a href=\"#How-many-bills-are-filed-per-senator?\" data-toc-modified-id=\"How-many-bills-are-filed-per-senator?-7.7\"><span class=\"toc-item-num\">7.7&nbsp;&nbsp;</span>How many bills are filed per senator?</a></span></li></ul></li><li><span><a href=\"#Methodology\" data-toc-modified-id=\"Methodology-8\"><span class=\"toc-item-num\">8&nbsp;&nbsp;</span>Methodology</a></span><ul class=\"toc-item\"><li><span><a href=\"#TF-IDF-Vectorization-Text-Features\" data-toc-modified-id=\"TF-IDF-Vectorization-Text-Features-8.1\"><span class=\"toc-item-num\">8.1&nbsp;&nbsp;</span>TF-IDF Vectorization Text Features</a></span></li><li><span><a href=\"#Information-Retrieval\" data-toc-modified-id=\"Information-Retrieval-8.2\"><span class=\"toc-item-num\">8.2&nbsp;&nbsp;</span>Information Retrieval</a></span></li><li><span><a href=\"#Clustering\" data-toc-modified-id=\"Clustering-8.3\"><span class=\"toc-item-num\">8.3&nbsp;&nbsp;</span>Clustering</a></span><ul class=\"toc-item\"><li><span><a href=\"#Dimensionality-Reduction\" data-toc-modified-id=\"Dimensionality-Reduction-8.3.1\"><span class=\"toc-item-num\">8.3.1&nbsp;&nbsp;</span>Dimensionality Reduction</a></span></li><li><span><a href=\"#Hierarchical-Clustering\" data-toc-modified-id=\"Hierarchical-Clustering-8.3.2\"><span class=\"toc-item-num\">8.3.2&nbsp;&nbsp;</span>Hierarchical Clustering</a></span></li></ul></li></ul></li><li><span><a href=\"#Results-and-Discussions\" data-toc-modified-id=\"Results-and-Discussions-9\"><span class=\"toc-item-num\">9&nbsp;&nbsp;</span>Results and Discussions</a></span><ul class=\"toc-item\"><li><span><a href=\"#Evaluation-of-Information-Retrieval\" data-toc-modified-id=\"Evaluation-of-Information-Retrieval-9.1\"><span class=\"toc-item-num\">9.1&nbsp;&nbsp;</span>Evaluation of Information Retrieval</a></span></li><li><span><a href=\"#Analyzing-the-Clusters\" data-toc-modified-id=\"Analyzing-the-Clusters-9.2\"><span class=\"toc-item-num\">9.2&nbsp;&nbsp;</span>Analyzing the Clusters</a></span></li></ul></li><li><span><a href=\"#Conclusion\" data-toc-modified-id=\"Conclusion-10\"><span class=\"toc-item-num\">10&nbsp;&nbsp;</span>Conclusion</a></span></li><li><span><a href=\"#Recommendations\" data-toc-modified-id=\"Recommendations-11\"><span class=\"toc-item-num\">11&nbsp;&nbsp;</span>Recommendations</a></span></li><li><span><a href=\"#References-and-Acknowledgement\" data-toc-modified-id=\"References-and-Acknowledgement-12\"><span class=\"toc-item-num\">12&nbsp;&nbsp;</span>References and Acknowledgement</a></span></li></ul></div>"
   ]
  },
  {
   "cell_type": "markdown",
   "metadata": {},
   "source": [
    "# Executive Summary\n",
    "TODO\n",
    "```\n",
    "Does the report have an executive summary?\n",
    "Does the executive summary contain a problem statement?\n",
    "Does the executive summary introduce the dataset under study\n",
    "Does the executive summary briefly introduce the model(s) used?\n",
    "Does the executive summary present/discuss important results?\n",
    "Does the executive summary properly communicate the relevant insights in the\n",
    "study?\n",
    "```\n"
   ]
  },
  {
   "cell_type": "markdown",
   "metadata": {},
   "source": [
    "# Problem Statement\n",
    "TODO"
   ]
  },
  {
   "cell_type": "markdown",
   "metadata": {},
   "source": [
    "# Significance of the Study\n",
    "TODO"
   ]
  },
  {
   "cell_type": "markdown",
   "metadata": {},
   "source": [
    "# Introduction\n",
    "TODO"
   ]
  },
  {
   "cell_type": "code",
   "execution_count": 1,
   "metadata": {
    "ExecuteTime": {
     "end_time": "2020-08-20T18:17:41.171691Z",
     "start_time": "2020-08-20T18:17:38.880854Z"
    }
   },
   "outputs": [],
   "source": [
    "import numpy as np\n",
    "import pandas as pd\n",
    "from matplotlib import pyplot as plt\n",
    "\n",
    "import json\n",
    "import bs4\n",
    "import re\n",
    "from tqdm import tqdm\n",
    "\n",
    "import seaborn as sns\n",
    "sns.set_style('whitegrid')\n",
    "sns.set_context('notebook')"
   ]
  },
  {
   "cell_type": "markdown",
   "metadata": {},
   "source": [
    "# Data Description and Processing"
   ]
  },
  {
   "attachments": {},
   "cell_type": "markdown",
   "metadata": {},
   "source": [
    "## Data Description\n",
    "\n",
    "The data was scraped from the offical website of the senate of the Philippines - http://www.senate.gov.ph/lis/leg_sys.aspx?congress=18&type=bill .\n",
    "\n",
    "<img src=\"website.png\" width=\"500\"/>\n",
    "\n",
    "Each bill opened to the \"Overview\" of the page. Each bill had its own link but the buttons were scripted as Java buttons which did not allow for direct scraping through requests. The full information needed for this study appeared on the \"All information\" tab of the link.\n",
    "\n",
    "<img src=\"bill.png\" width=\"350\"/>\n",
    "\n",
    "All available information on this particular tab was extracted in case there would have been some use for it. The following comprise the columns of the dataset generated:\n",
    "1. Congress - The number of the congress. The website holds bills for the 13th to the present, 18th, congress. Each congress number corresponds to an election period.\n",
    "2. Type - The bill can belong to the senate or house. Only the senate bills were used for this study.\n",
    "3. Bill Number - The bill number.\n",
    "4. Title - The title of the bill.\n",
    "5. Filed on - Date of filing the bill.\n",
    "6. Filed by - Person(s) incharge of filing the bill.\n",
    "7. Long title - A more descriptive title for the bill. Includes some additional keywords.\n",
    "8. Scope - The bill can be national or local.\n",
    "9. Subject(s) - Assigned tag(s) for the bill.\n",
    "10. Primary Committee - Bills need to be approved by a committee. This committee gives information on the theme of the bill as well."
   ]
  },
  {
   "cell_type": "markdown",
   "metadata": {},
   "source": [
    "## Data Scraping\n",
    "\n",
    "Since the data is stored in a hyperlink button, it had to be scraped via the Selenium library and a time costly process. A sample snippet code can be seen below that ran for all bills of the 13th senate. The html page source of each bill was stored into a pickle file."
   ]
  },
  {
   "cell_type": "code",
   "execution_count": null,
   "metadata": {},
   "outputs": [],
   "source": [
    "# from selenium import webdriver\n",
    "\n",
    "# links = []\n",
    "# i = 13\n",
    "# for k in range(1, 3000):\n",
    "#     links.append(f'http://www.senate.gov.ph/lis/'\n",
    "#                  f'bill_res.aspx?congress={i}&q=SBN-{k}')\n",
    "    \n",
    "# from msedge.selenium_tools import Edge, EdgeOptions\n",
    "\n",
    "# driver = webdriver.Edge()\n",
    "# result_dict = dict()\n",
    "# for i, url in enumerate(tqdm(links)):\n",
    "#     driver.get(url)\n",
    "#     try:\n",
    "#         button = driver.find_element_by_id('lbAll')\n",
    "#         button.click()\n",
    "#     except:\n",
    "#         continue\n",
    "#     html = driver.page_source\n",
    "#     result_dict[url] = html\n",
    "    \n",
    "# driver.quit()\n",
    "# pd.to_pickle(result_dict, f\"13th_senate_bills.pkl\")"
   ]
  },
  {
   "cell_type": "markdown",
   "metadata": {},
   "source": [
    "All pickle files were then combined into a json file and compressed."
   ]
  },
  {
   "cell_type": "code",
   "execution_count": null,
   "metadata": {},
   "outputs": [],
   "source": [
    "# all_data = dict()\n",
    "# for i in range(13, 19):\n",
    "#     all_data.update(pd.read_pickle(f\"{i}th_senate_bills.pkl\"))\n",
    "    \n",
    "# with open('bills.json', 'w') as json_file:\n",
    "#     json.dump(all_data, json_file)"
   ]
  },
  {
   "cell_type": "markdown",
   "metadata": {},
   "source": [
    "## Data Processing\n",
    "To view the data in an orderly fashion, it had to be converted into a pandas dataframe. To do so, the following steps were taken:"
   ]
  },
  {
   "cell_type": "code",
   "execution_count": 2,
   "metadata": {
    "ExecuteTime": {
     "end_time": "2020-08-20T18:17:53.924617Z",
     "start_time": "2020-08-20T18:17:53.918928Z"
    }
   },
   "outputs": [],
   "source": [
    "data_dir = \"../data\""
   ]
  },
  {
   "cell_type": "markdown",
   "metadata": {},
   "source": [
    "1. The compressed json file needed to be read. All the data was loaded into a dictionary."
   ]
  },
  {
   "cell_type": "code",
   "execution_count": 3,
   "metadata": {
    "ExecuteTime": {
     "end_time": "2020-08-20T09:11:59.107931Z",
     "start_time": "2020-08-20T09:11:59.105931Z"
    }
   },
   "outputs": [],
   "source": [
    "# import bz2\n",
    "\n",
    "# with bz2.open(f'{data_dir}/bills.json.bz2', 'r') as f:  \n",
    "#     data = f.read()  \n",
    "#     d = json.loads(data.decode(\"utf-8\"))"
   ]
  },
  {
   "cell_type": "markdown",
   "metadata": {},
   "source": [
    "2. Each value in the dictionary includes the complete html page source for a bill.<br>\n",
    "    2.1 Each dictionary value was inputted into a BeautifulSoup object with an html parser.<br>\n",
    "    2.2 All the content was placed as a single string of text in the \"td\" element with the attribute of \"id\" equal to \"content\".<br>\n",
    "    2.3 The data for each column had to be extracted by regex functions from the text content. The data was placed usually placed between words related to the the search term. For example, the number of the congress appeared as \"13th Congress\" so the digits before \"th Congress\" were searched.<br>\n",
    "    2.4 Each item was stored in a dictionary with the column name as the key.<br>\n",
    "    2.5 Not all bill numbers were present so a try/except had to be added to the code to ignore them."
   ]
  },
  {
   "cell_type": "code",
   "execution_count": 4,
   "metadata": {
    "ExecuteTime": {
     "end_time": "2020-08-20T09:11:59.112932Z",
     "start_time": "2020-08-20T09:11:59.109932Z"
    }
   },
   "outputs": [],
   "source": [
    "# values = []\n",
    "\n",
    "# for i in tqdm(list(d.values())):\n",
    "#     dic = {}\n",
    "#     soup = bs4.BeautifulSoup(i, 'html.parser')\n",
    "#     content = soup.find('td', attrs = {'id':'content'}).text.strip()\n",
    "#     try:\n",
    "#         dic['congress'] = int(re.search('\\d{2}(?=th Congress)',\n",
    "#                                         content).group(0))\n",
    "#         dic['type'] = re.search('(?<= Congress).+(?= Bill)',\n",
    "#                                 content).group(0)\n",
    "#         bill_num = int(re.search('(?<=Bill No. )\\d{1,}', content).group(0))\n",
    "#         dic['bill_num'] = bill_num\n",
    "#         dic['title'] = re.search(f'(?<=Bill No. {bill_num}).+(?=Filed)',\n",
    "#                                  content).group(0)\n",
    "#         dic['filed_on'] = re.search('(?<=Filed on ).+(?= by)',\n",
    "#                                     content).group(0)\n",
    "#         dic['filed_by'] = re.search('(?<=by ).+', content).group(0)\n",
    "#         dic['long_title'] = re.search('(?<=Long title).+', content).group(0)\n",
    "#         dic['scope'] = re.search('(?<=Scope).+', content).group(0)\n",
    "#         dic['subjects'] = re.search('(?<=Subject\\(s\\)).+', content).group(0)\n",
    "#         dic['primary_committee'] = re.search('(?<=Primary committee).+',\n",
    "#                                              content).group(0)\n",
    "#     except:\n",
    "#         pass\n",
    "#     values.append(dic)"
   ]
  },
  {
   "cell_type": "markdown",
   "metadata": {},
   "source": [
    "3. The dictionary was converted into a dataframe."
   ]
  },
  {
   "cell_type": "code",
   "execution_count": 5,
   "metadata": {
    "ExecuteTime": {
     "end_time": "2020-08-20T09:11:59.118942Z",
     "start_time": "2020-08-20T09:11:59.114933Z"
    }
   },
   "outputs": [],
   "source": [
    "# df = pd.DataFrame(values)"
   ]
  },
  {
   "cell_type": "code",
   "execution_count": 6,
   "metadata": {
    "ExecuteTime": {
     "end_time": "2020-08-20T09:11:59.125566Z",
     "start_time": "2020-08-20T09:11:59.122938Z"
    }
   },
   "outputs": [],
   "source": [
    "# (df.isna().sum()/len(df)*100).rename('Number of Null Values').to_frame()"
   ]
  },
  {
   "cell_type": "markdown",
   "metadata": {},
   "source": [
    "4. Since the primary committee would be used as the target variable/ground truth in the latter parts of this study, rows missing this had to be dropped. A total of 402 rows out of 15641 rows were dropped."
   ]
  },
  {
   "cell_type": "code",
   "execution_count": 7,
   "metadata": {
    "ExecuteTime": {
     "end_time": "2020-08-20T09:11:59.131509Z",
     "start_time": "2020-08-20T09:11:59.127508Z"
    }
   },
   "outputs": [],
   "source": [
    "# # Show before and after\n",
    "# print(len(df))\n",
    "# df.dropna(subset=['primary_committee'], inplace=True)\n",
    "# print(len(df))"
   ]
  },
  {
   "cell_type": "code",
   "execution_count": 8,
   "metadata": {
    "ExecuteTime": {
     "end_time": "2020-08-20T09:11:59.138065Z",
     "start_time": "2020-08-20T09:11:59.135178Z"
    }
   },
   "outputs": [],
   "source": [
    "# df.to_pickle(f'{data_dir}/bills.pkl', protocol=3)"
   ]
  },
  {
   "cell_type": "markdown",
   "metadata": {},
   "source": [
    "Looking at the data, we end up with 15239 bills or rows of data."
   ]
  },
  {
   "cell_type": "code",
   "execution_count": 6,
   "metadata": {
    "ExecuteTime": {
     "end_time": "2020-08-20T18:19:12.742820Z",
     "start_time": "2020-08-20T18:19:12.725196Z"
    }
   },
   "outputs": [
    {
     "name": "stdout",
     "output_type": "stream",
     "text": [
      "<class 'pandas.core.frame.DataFrame'>\n",
      "Int64Index: 15239 entries, 0 to 15640\n",
      "Data columns (total 10 columns):\n",
      " #   Column             Non-Null Count  Dtype \n",
      "---  ------             --------------  ----- \n",
      " 0   congress           15239 non-null  int64 \n",
      " 1   type               15239 non-null  object\n",
      " 2   bill_num           15239 non-null  int64 \n",
      " 3   title              15239 non-null  object\n",
      " 4   filed_on           15239 non-null  object\n",
      " 5   filed_by           15239 non-null  object\n",
      " 6   long_title         15239 non-null  object\n",
      " 7   scope              15239 non-null  object\n",
      " 8   subjects           15239 non-null  object\n",
      " 9   primary_committee  15239 non-null  object\n",
      "dtypes: int64(2), object(8)\n",
      "memory usage: 1.3+ MB\n"
     ]
    }
   ],
   "source": [
    "df.info()"
   ]
  },
  {
   "cell_type": "markdown",
   "metadata": {},
   "source": [
    "The number of unique values for each column can be seen below. The span of the study covers 6 congress'. There are repeating titles. There are 53 unique primary committees present to check the bills."
   ]
  },
  {
   "cell_type": "code",
   "execution_count": 11,
   "metadata": {
    "ExecuteTime": {
     "end_time": "2020-08-20T18:25:35.607646Z",
     "start_time": "2020-08-20T18:25:35.560143Z"
    }
   },
   "outputs": [
    {
     "data": {
      "text/plain": [
       "congress                 6\n",
       "type                     1\n",
       "bill_num              3027\n",
       "title                11617\n",
       "filed_on              1549\n",
       "filed_by               727\n",
       "long_title           10561\n",
       "scope                    2\n",
       "subjects              9406\n",
       "primary_committee       53\n",
       "dtype: int64"
      ]
     },
     "execution_count": 11,
     "metadata": {},
     "output_type": "execute_result"
    }
   ],
   "source": [
    "df.nunique()"
   ]
  },
  {
   "cell_type": "markdown",
   "metadata": {},
   "source": [
    "## Data Cleaning\n",
    "1. Categorical Features\n",
    "2. Text Features\n",
    "    1. Combine title and long title\n",
    "    2. Natural Language Processing\n",
    "        1. Removing of punctiations\n",
    "        2. Removing stop words\n",
    "        3. Lemmatization\n",
    "3. Convert dates to datetime columns"
   ]
  },
  {
   "cell_type": "code",
   "execution_count": 10,
   "metadata": {
    "ExecuteTime": {
     "end_time": "2020-08-20T09:11:59.178236Z",
     "start_time": "2020-08-20T09:11:59.145224Z"
    }
   },
   "outputs": [],
   "source": [
    "df_clean = pd.read_pickle(f'{data_dir}/bills.pkl')"
   ]
  },
  {
   "cell_type": "code",
   "execution_count": 11,
   "metadata": {
    "ExecuteTime": {
     "end_time": "2020-08-20T09:11:59.202245Z",
     "start_time": "2020-08-20T09:11:59.180236Z"
    },
    "scrolled": false
   },
   "outputs": [
    {
     "data": {
      "text/html": [
       "<div>\n",
       "<style scoped>\n",
       "    .dataframe tbody tr th:only-of-type {\n",
       "        vertical-align: middle;\n",
       "    }\n",
       "\n",
       "    .dataframe tbody tr th {\n",
       "        vertical-align: top;\n",
       "    }\n",
       "\n",
       "    .dataframe thead th {\n",
       "        text-align: right;\n",
       "    }\n",
       "</style>\n",
       "<table border=\"1\" class=\"dataframe\">\n",
       "  <thead>\n",
       "    <tr style=\"text-align: right;\">\n",
       "      <th></th>\n",
       "      <th>congress</th>\n",
       "      <th>type</th>\n",
       "      <th>bill_num</th>\n",
       "      <th>title</th>\n",
       "      <th>filed_on</th>\n",
       "      <th>filed_by</th>\n",
       "      <th>long_title</th>\n",
       "      <th>scope</th>\n",
       "      <th>subjects</th>\n",
       "      <th>primary_committee</th>\n",
       "    </tr>\n",
       "  </thead>\n",
       "  <tbody>\n",
       "    <tr>\n",
       "      <th>0</th>\n",
       "      <td>13</td>\n",
       "      <td>Senate</td>\n",
       "      <td>1</td>\n",
       "      <td>SPECIAL MEASURES TO LOWER THE COST OF MEDICINE</td>\n",
       "      <td>June 30, 2004</td>\n",
       "      <td>Flavier, Juan M., Angara, Edgardo J.</td>\n",
       "      <td>AN ACT PRESCRIBING SPECIAL  MEASURES  TO LOWER...</td>\n",
       "      <td>National</td>\n",
       "      <td>Medicines (Lowering the Cost)           Drugs/...</td>\n",
       "      <td>Health and Demography</td>\n",
       "    </tr>\n",
       "    <tr>\n",
       "      <th>1</th>\n",
       "      <td>13</td>\n",
       "      <td>Senate</td>\n",
       "      <td>2</td>\n",
       "      <td>THE CONSTITUTIONAL CONVENTION ACT</td>\n",
       "      <td>June 30, 2004</td>\n",
       "      <td>Flavier, Juan M.</td>\n",
       "      <td>AN ACT CALLING FOR A  CONSTITUTIONAL CONVENTIO...</td>\n",
       "      <td>National</td>\n",
       "      <td>Constitutional Convention               Charte...</td>\n",
       "      <td>Constitutional Amendments, Revision of Codes a...</td>\n",
       "    </tr>\n",
       "    <tr>\n",
       "      <th>2</th>\n",
       "      <td>13</td>\n",
       "      <td>Senate</td>\n",
       "      <td>3</td>\n",
       "      <td>MAGNA CARTA OF PATIENT'S RIGHTS AND OBLIGATIONS</td>\n",
       "      <td>June 30, 2004</td>\n",
       "      <td>Flavier, Juan M., Angara, Edgardo J.</td>\n",
       "      <td>AN ACT DECLARING THE RIGHTS  AND OBLIGATIONS O...</td>\n",
       "      <td>National</td>\n",
       "      <td>Patients Rights and Obligations         Magna ...</td>\n",
       "      <td>Health and Demography</td>\n",
       "    </tr>\n",
       "    <tr>\n",
       "      <th>3</th>\n",
       "      <td>13</td>\n",
       "      <td>Senate</td>\n",
       "      <td>4</td>\n",
       "      <td>HEALTH PROMOTION ACT OF 2004</td>\n",
       "      <td>June 30, 2004</td>\n",
       "      <td>Flavier, Juan M., Angara, Edgardo J.</td>\n",
       "      <td>AN ACT ESTABLISHING A  NATIONAL HEALTH PROMOTI...</td>\n",
       "      <td>National</td>\n",
       "      <td>National Health Promotion Institute     Philip...</td>\n",
       "      <td>Government Corporations and Public Enterprises</td>\n",
       "    </tr>\n",
       "    <tr>\n",
       "      <th>4</th>\n",
       "      <td>13</td>\n",
       "      <td>Senate</td>\n",
       "      <td>5</td>\n",
       "      <td>INCREASING THE ALLOWABLE PERSONAL ADDITIONAL T...</td>\n",
       "      <td>June 30, 2004</td>\n",
       "      <td>Flavier, Juan M.</td>\n",
       "      <td>AN ACT INCREASING THE ALLOWABLE PERSONAL ADDIT...</td>\n",
       "      <td>National</td>\n",
       "      <td>Taxes (Tax Exemption-Individual TaxpayerNation...</td>\n",
       "      <td>Ways and Means</td>\n",
       "    </tr>\n",
       "  </tbody>\n",
       "</table>\n",
       "</div>"
      ],
      "text/plain": [
       "   congress    type  bill_num  \\\n",
       "0        13  Senate         1   \n",
       "1        13  Senate         2   \n",
       "2        13  Senate         3   \n",
       "3        13  Senate         4   \n",
       "4        13  Senate         5   \n",
       "\n",
       "                                               title       filed_on  \\\n",
       "0     SPECIAL MEASURES TO LOWER THE COST OF MEDICINE  June 30, 2004   \n",
       "1                  THE CONSTITUTIONAL CONVENTION ACT  June 30, 2004   \n",
       "2    MAGNA CARTA OF PATIENT'S RIGHTS AND OBLIGATIONS  June 30, 2004   \n",
       "3                       HEALTH PROMOTION ACT OF 2004  June 30, 2004   \n",
       "4  INCREASING THE ALLOWABLE PERSONAL ADDITIONAL T...  June 30, 2004   \n",
       "\n",
       "                               filed_by  \\\n",
       "0  Flavier, Juan M., Angara, Edgardo J.   \n",
       "1                      Flavier, Juan M.   \n",
       "2  Flavier, Juan M., Angara, Edgardo J.   \n",
       "3  Flavier, Juan M., Angara, Edgardo J.   \n",
       "4                      Flavier, Juan M.   \n",
       "\n",
       "                                          long_title     scope  \\\n",
       "0  AN ACT PRESCRIBING SPECIAL  MEASURES  TO LOWER...  National   \n",
       "1  AN ACT CALLING FOR A  CONSTITUTIONAL CONVENTIO...  National   \n",
       "2  AN ACT DECLARING THE RIGHTS  AND OBLIGATIONS O...  National   \n",
       "3  AN ACT ESTABLISHING A  NATIONAL HEALTH PROMOTI...  National   \n",
       "4  AN ACT INCREASING THE ALLOWABLE PERSONAL ADDIT...  National   \n",
       "\n",
       "                                            subjects  \\\n",
       "0  Medicines (Lowering the Cost)           Drugs/...   \n",
       "1  Constitutional Convention               Charte...   \n",
       "2  Patients Rights and Obligations         Magna ...   \n",
       "3  National Health Promotion Institute     Philip...   \n",
       "4  Taxes (Tax Exemption-Individual TaxpayerNation...   \n",
       "\n",
       "                                   primary_committee  \n",
       "0                              Health and Demography  \n",
       "1  Constitutional Amendments, Revision of Codes a...  \n",
       "2                              Health and Demography  \n",
       "3     Government Corporations and Public Enterprises  \n",
       "4                                     Ways and Means  "
      ]
     },
     "execution_count": 11,
     "metadata": {},
     "output_type": "execute_result"
    }
   ],
   "source": [
    "df_clean.head()"
   ]
  },
  {
   "cell_type": "markdown",
   "metadata": {},
   "source": [
    "### Categorical Features"
   ]
  },
  {
   "cell_type": "markdown",
   "metadata": {},
   "source": [
    "#### primary_committee\n",
    "\n",
    "All the primary committees can be seen below."
   ]
  },
  {
   "cell_type": "code",
   "execution_count": 13,
   "metadata": {
    "ExecuteTime": {
     "end_time": "2020-08-20T09:11:59.304954Z",
     "start_time": "2020-08-20T09:11:59.262938Z"
    },
    "scrolled": true
   },
   "outputs": [
    {
     "data": {
      "text/plain": [
       "Basic Education, Arts and Culture                                        1627\n",
       "Health and Demography                                                    1523\n",
       "Justice and Human Rights                                                 1428\n",
       "Labor, Employment and Human Resources Development                         826\n",
       "Civil Service, Government Reorganization and Professional Regulation      804\n",
       "Environment, Natural Resources and Climate Change                         729\n",
       "Public Services                                                           681\n",
       "Local Government                                                          640\n",
       "Trade, Commerce and Entrepreneurship                                      629\n",
       "Agriculture, Food and Agrarian Reform                                     572\n",
       "Ways and Means                                                            546\n",
       "Public Order and Dangerous Drugs                                          537\n",
       "Constitutional Amendments and Revision of Codes                           442\n",
       "Government Corporations and Public Enterprises                            415\n",
       "National Defense and Security, Peace, Unification and Reconciliation      366\n",
       "Youth                                                                     362\n",
       "Public Information and Mass Media                                         349\n",
       "Banks, Financial Institutions and Currencies                              303\n",
       "Social Justice, Welfare and Rural Development                             287\n",
       "Women, Children, Family Relations and Gender Equality                     258\n",
       "Science and Technology                                                    231\n",
       "Public Works                                                              215\n",
       "Rules                                                                     206\n",
       "Energy                                                                    195\n",
       "Electoral Reforms and People’s Participation                              180\n",
       "Finance                                                                   179\n",
       "Urban Planning, Housing and Resettlement                                  147\n",
       "Economic Affairs                                                          113\n",
       "Games and Amusement                                                        92\n",
       "Cultural Communities                                                       72\n",
       "Higher, Technical and Vocational Education                                 69\n",
       "Foreign Relations                                                          59\n",
       "Tourism                                                                    50\n",
       "Cooperatives                                                               46\n",
       "Sports                                                                     35\n",
       "Accounts                                                                   15\n",
       "Sustainable Development Goals, Innovation and Futures Thinking              9\n",
       "Accountability of Public Officers and Investigations                        2\n",
       "Name: primary_committee, dtype: int64"
      ]
     },
     "execution_count": 13,
     "metadata": {},
     "output_type": "execute_result"
    }
   ],
   "source": [
    "df_clean['primary_committee'].value_counts()"
   ]
  },
  {
   "cell_type": "markdown",
   "metadata": {},
   "source": [
    "### Text Features"
   ]
  },
  {
   "cell_type": "markdown",
   "metadata": {},
   "source": [
    "#### Combine title and long title\n",
    "\n",
    "Since the title and long title are slightly different, the 2 were combined to get all words available for the bill."
   ]
  },
  {
   "cell_type": "code",
   "execution_count": 14,
   "metadata": {
    "ExecuteTime": {
     "end_time": "2020-08-20T09:11:59.348573Z",
     "start_time": "2020-08-20T09:11:59.307954Z"
    }
   },
   "outputs": [
    {
     "name": "stderr",
     "output_type": "stream",
     "text": [
      "100%|████████████████████████████████████████████████████████████████████████| 15239/15239 [00:00<00:00, 619338.76it/s]\n"
     ]
    }
   ],
   "source": [
    "combined = []\n",
    "for short, long in list(zip(df_clean[\"title\"], df_clean['long_title'])):\n",
    "    if short in long:\n",
    "        combined += [long.lower()]\n",
    "    else:\n",
    "        combined += [short.lower() +' ' + long.lower()]"
   ]
  },
  {
   "cell_type": "code",
   "execution_count": 15,
   "metadata": {
    "ExecuteTime": {
     "end_time": "2020-08-20T09:11:59.359168Z",
     "start_time": "2020-08-20T09:11:59.350573Z"
    }
   },
   "outputs": [
    {
     "data": {
      "text/plain": [
       "0    special measures to lower the cost of medicine...\n",
       "1    the constitutional convention act an act calli...\n",
       "2    magna carta of patient's rights and obligation...\n",
       "3    health promotion act of 2004 an act establishi...\n",
       "4    increasing the allowable personal additional t...\n",
       "Name: combined_title, dtype: object"
      ]
     },
     "execution_count": 15,
     "metadata": {},
     "output_type": "execute_result"
    }
   ],
   "source": [
    "df_clean['combined_title'] = combined\n",
    "df_clean['combined_title'].head()"
   ]
  },
  {
   "cell_type": "markdown",
   "metadata": {},
   "source": [
    "#### Natural Language Processing\n",
    "\n",
    "To allow for a better/cleaner tfidf in the latter sections of this study, the combined title values needed to be prepared as well."
   ]
  },
  {
   "cell_type": "markdown",
   "metadata": {},
   "source": [
    "##### Removing of punctuations\n",
    "\n",
    "The \"-\" and \"'\" punctuations were replaced by blank spaces. This would prevent words that may or may not have these punctuations to be considered as different words."
   ]
  },
  {
   "cell_type": "code",
   "execution_count": 16,
   "metadata": {
    "ExecuteTime": {
     "end_time": "2020-08-20T09:11:59.429943Z",
     "start_time": "2020-08-20T09:11:59.363169Z"
    }
   },
   "outputs": [],
   "source": [
    "import string\n",
    "punc = string.punctuation.replace('-', '').replace(\"'\", '')\n",
    "table = str.maketrans(' ', ' ', punc)\n",
    "stripped = [w.translate(table) for w in df_clean['combined_title']]"
   ]
  },
  {
   "cell_type": "markdown",
   "metadata": {},
   "source": [
    "##### Removing stop words\n",
    "The stopwords are removed to clearly see the key words."
   ]
  },
  {
   "cell_type": "code",
   "execution_count": 17,
   "metadata": {
    "ExecuteTime": {
     "end_time": "2020-08-20T09:11:59.994185Z",
     "start_time": "2020-08-20T09:11:59.436945Z"
    }
   },
   "outputs": [],
   "source": [
    "import nltk\n",
    "# nltk.download('stopwords')"
   ]
  },
  {
   "cell_type": "code",
   "execution_count": 18,
   "metadata": {
    "ExecuteTime": {
     "end_time": "2020-08-20T09:12:00.127221Z",
     "start_time": "2020-08-20T09:11:59.996183Z"
    }
   },
   "outputs": [],
   "source": [
    "# filter out stop words\n",
    "from nltk.corpus import stopwords\n",
    "\n",
    "stop_words = set(stopwords.words('english'))\n",
    "\n",
    "no_stop_words = []\n",
    "for word_list in stripped:\n",
    "    word_list = word_list.split()\n",
    "    words = [w for w in word_list if not w in stop_words]\n",
    "    no_stop_words += [words]"
   ]
  },
  {
   "cell_type": "markdown",
   "metadata": {
    "ExecuteTime": {
     "end_time": "2020-08-13T18:10:22.054932Z",
     "start_time": "2020-08-13T18:10:22.051940Z"
    }
   },
   "source": [
    "#### Lemmatization\n",
    "The words are lemmatized to allow for words that have different tenses or verb forms to be considered as a single word."
   ]
  },
  {
   "cell_type": "code",
   "execution_count": 19,
   "metadata": {
    "ExecuteTime": {
     "end_time": "2020-08-20T09:12:03.244989Z",
     "start_time": "2020-08-20T09:12:00.134240Z"
    },
    "scrolled": false
   },
   "outputs": [],
   "source": [
    "# nltk.download('wordnet')\n",
    "from nltk.stem import WordNetLemmatizer \n",
    "  \n",
    "lemmatizer = WordNetLemmatizer() \n",
    "\n",
    "lematized = []\n",
    "for word_list in no_stop_words:\n",
    "    words = [lemmatizer.lemmatize(w) for w in word_list]\n",
    "    lematized += [words]"
   ]
  },
  {
   "cell_type": "code",
   "execution_count": 20,
   "metadata": {
    "ExecuteTime": {
     "end_time": "2020-08-20T09:12:03.272001Z",
     "start_time": "2020-08-20T09:12:03.250992Z"
    }
   },
   "outputs": [],
   "source": [
    "title_cleaned = []\n",
    "for i in lematized:\n",
    "    title_cleaned+=[\" \".join(i)]"
   ]
  },
  {
   "cell_type": "code",
   "execution_count": 21,
   "metadata": {
    "ExecuteTime": {
     "end_time": "2020-08-20T09:12:03.285939Z",
     "start_time": "2020-08-20T09:12:03.275005Z"
    }
   },
   "outputs": [
    {
     "data": {
      "text/plain": [
       "13901    senior high school reserve officer training co...\n",
       "3340     act amending republic act 6713 also known act ...\n",
       "5431     lucena city regional trial court act creating ...\n",
       "15316    amending section 2371012 20 ra 9160 anti-money...\n",
       "7620     act amending republic act 8485 also known anim...\n",
       "Name: combined_title, dtype: object"
      ]
     },
     "execution_count": 21,
     "metadata": {},
     "output_type": "execute_result"
    }
   ],
   "source": [
    "df_clean['combined_title'] = title_cleaned\n",
    "df_clean['combined_title'].sample(5)"
   ]
  },
  {
   "cell_type": "markdown",
   "metadata": {},
   "source": [
    "### Convert dates to datetime columns"
   ]
  },
  {
   "cell_type": "code",
   "execution_count": 22,
   "metadata": {
    "ExecuteTime": {
     "end_time": "2020-08-20T09:12:03.469447Z",
     "start_time": "2020-08-20T09:12:03.287936Z"
    }
   },
   "outputs": [
    {
     "data": {
      "text/plain": [
       "0   2004-06-30\n",
       "1   2004-06-30\n",
       "2   2004-06-30\n",
       "3   2004-06-30\n",
       "4   2004-06-30\n",
       "Name: filed_on, dtype: datetime64[ns]"
      ]
     },
     "execution_count": 22,
     "metadata": {},
     "output_type": "execute_result"
    }
   ],
   "source": [
    "df_clean['filed_on'] = pd.to_datetime(df_clean['filed_on'])\n",
    "df_clean['filed_on'].head()"
   ]
  },
  {
   "cell_type": "code",
   "execution_count": 23,
   "metadata": {
    "ExecuteTime": {
     "end_time": "2020-08-20T09:12:03.567941Z",
     "start_time": "2020-08-20T09:12:03.471447Z"
    }
   },
   "outputs": [],
   "source": [
    "df_clean.to_pickle(f'{data_dir}/clean_data.pkl', protocol=3)\n",
    "\n",
    "df_clean = pd.read_pickle(f'{data_dir}/clean_data.pkl')"
   ]
  },
  {
   "cell_type": "markdown",
   "metadata": {},
   "source": [
    "# Exploratory Data Analysis"
   ]
  },
  {
   "cell_type": "markdown",
   "metadata": {},
   "source": [
    "```\n",
    "Do the analyses provide descriptions and rationale for their implementation? For\n",
    "example, if data are visualized and pair plots or swarm plots are provided in the\n",
    "EDA, does the author explain why they are there and what insights are gleaned\n",
    "from the visualizations? If correlations and/or probability distributions are\n",
    "provided, does the author elaborate on them?\n",
    "```\n",
    "\n",
    "TODO: Plot figures and explain. Make it as pretty if possible. :) I can help you. Axis and title should be named well. "
   ]
  },
  {
   "cell_type": "markdown",
   "metadata": {},
   "source": [
    "## Bills per Congress\n",
    "1 bar plot"
   ]
  },
  {
   "cell_type": "markdown",
   "metadata": {},
   "source": [
    "## Wordcloud of Combined Title per Congress\n",
    "Remove stop words that you deem unnecessary. \n",
    "1 wordcloud per congress. make it a 2x3 plot."
   ]
  },
  {
   "cell_type": "markdown",
   "metadata": {},
   "source": [
    "## When are bills filed usually?\n",
    "Number of Bills per Month for each congress\n",
    "1 bar plot per congress. X axis is the month."
   ]
  },
  {
   "cell_type": "markdown",
   "metadata": {},
   "source": [
    "## What are the Scope of the bills?\n",
    "1 Bar plot per congress.\n",
    "Show the number of unique scope. "
   ]
  },
  {
   "cell_type": "markdown",
   "metadata": {},
   "source": [
    "## Word cloud of subject per Congress"
   ]
  },
  {
   "cell_type": "markdown",
   "metadata": {},
   "source": [
    "## How many bills are filed per primary committee?\n",
    "Do this per congress"
   ]
  },
  {
   "cell_type": "markdown",
   "metadata": {
    "ExecuteTime": {
     "end_time": "2020-08-20T07:57:00.848018Z",
     "start_time": "2020-08-20T07:57:00.843005Z"
    }
   },
   "source": [
    "## How many bills are filed per senator?\n",
    "Do this per congress again. "
   ]
  },
  {
   "cell_type": "markdown",
   "metadata": {},
   "source": [
    "# Methodology\n",
    "*(Nisarg would suggest to keep this before data description to keep data scraping as our first step)<br>*\n",
    "TODO: Create overview of methodology"
   ]
  },
  {
   "cell_type": "markdown",
   "metadata": {},
   "source": [
    "## TF-IDF Vectorization Text Features"
   ]
  },
  {
   "cell_type": "code",
   "execution_count": 24,
   "metadata": {
    "ExecuteTime": {
     "end_time": "2020-08-20T09:12:03.952462Z",
     "start_time": "2020-08-20T09:12:03.570939Z"
    },
    "scrolled": false
   },
   "outputs": [
    {
     "name": "stdout",
     "output_type": "stream",
     "text": [
      "(15239, 1000)\n"
     ]
    }
   ],
   "source": [
    "from sklearn.feature_extraction.text import TfidfVectorizer\n",
    "vectorizer = TfidfVectorizer(min_df=0.001, max_df=0.999, max_features=1000)\n",
    "X = vectorizer.fit_transform(df_clean['combined_title']).toarray()\n",
    "print(X.shape)"
   ]
  },
  {
   "cell_type": "markdown",
   "metadata": {},
   "source": [
    "## Information Retrieval"
   ]
  },
  {
   "cell_type": "markdown",
   "metadata": {},
   "source": [
    "TODO: Just show how information retrieval is done here and show a sample query. "
   ]
  },
  {
   "cell_type": "markdown",
   "metadata": {},
   "source": [
    "## Clustering"
   ]
  },
  {
   "cell_type": "markdown",
   "metadata": {},
   "source": [
    "### Dimensionality Reduction"
   ]
  },
  {
   "cell_type": "code",
   "execution_count": 25,
   "metadata": {
    "ExecuteTime": {
     "end_time": "2020-08-20T09:12:04.512516Z",
     "start_time": "2020-08-20T09:12:03.954480Z"
    }
   },
   "outputs": [
    {
     "ename": "RuntimeError",
     "evalue": "No active exception to reraise",
     "output_type": "error",
     "traceback": [
      "\u001b[1;31m---------------------------------------------------------------------------\u001b[0m",
      "\u001b[1;31mRuntimeError\u001b[0m                              Traceback (most recent call last)",
      "\u001b[1;32m<ipython-input-25-9c9a2cba73bf>\u001b[0m in \u001b[0;36m<module>\u001b[1;34m\u001b[0m\n\u001b[1;32m----> 1\u001b[1;33m \u001b[1;32mraise\u001b[0m\u001b[1;33m\u001b[0m\u001b[1;33m\u001b[0m\u001b[0m\n\u001b[0m",
      "\u001b[1;31mRuntimeError\u001b[0m: No active exception to reraise"
     ]
    }
   ],
   "source": [
    "raise"
   ]
  },
  {
   "cell_type": "code",
   "execution_count": null,
   "metadata": {
    "ExecuteTime": {
     "end_time": "2020-08-20T09:12:04.514534Z",
     "start_time": "2020-08-20T09:11:57.423Z"
    }
   },
   "outputs": [],
   "source": [
    "def truncated_svd(X):\n",
    "    \"\"\"Return truncated SVD of X.\"\"\"\n",
    "    q, s, p = np.linalg.svd(X)\n",
    "    return q, np.diag(s), p.T, s**2/np.linalg.norm(s**2, 1)"
   ]
  },
  {
   "cell_type": "code",
   "execution_count": null,
   "metadata": {
    "ExecuteTime": {
     "end_time": "2020-08-20T09:12:04.515560Z",
     "start_time": "2020-08-20T09:11:57.426Z"
    }
   },
   "outputs": [],
   "source": [
    "features = vectorizer.get_feature_names()"
   ]
  },
  {
   "cell_type": "code",
   "execution_count": null,
   "metadata": {
    "ExecuteTime": {
     "end_time": "2020-08-20T09:12:04.516554Z",
     "start_time": "2020-08-20T09:11:57.429Z"
    }
   },
   "outputs": [],
   "source": [
    "q, s, p, nssd = truncated_svd(X)"
   ]
  },
  {
   "cell_type": "code",
   "execution_count": null,
   "metadata": {
    "ExecuteTime": {
     "end_time": "2020-08-20T09:12:04.518554Z",
     "start_time": "2020-08-20T09:11:57.433Z"
    }
   },
   "outputs": [],
   "source": [
    "def plot_svd(X_new, features, p):\n",
    "    \"\"\"\n",
    "    Plot transformed data and features on to the first two singular vectors\n",
    "    \n",
    "    Parameters\n",
    "    ----------\n",
    "    X_new : array\n",
    "        Transformed data\n",
    "    featurs : sequence of str\n",
    "        Feature names\n",
    "    p : array\n",
    "        P matrix\n",
    "    \"\"\"\n",
    "    fig, ax = plt.subplots(1, 2, subplot_kw=dict(aspect='equal'), \n",
    "                           gridspec_kw=dict(wspace=0.4), dpi=150)\n",
    "    ax[0].scatter(X_new[:,0], X_new[:,1])\n",
    "    ax[0].set_xlabel('SV1')\n",
    "    ax[0].set_ylabel('SV2')\n",
    "\n",
    "    for feature, vec in zip(features, p):\n",
    "        ax[1].arrow(0, 0, vec[0], vec[1], width=0.01, ec='none', fc='r')\n",
    "        ax[1].text(vec[0], vec[1], feature, ha='center', color='r', fontsize=5)\n",
    "    ax[1].set_xlim(-1, 1)\n",
    "    ax[1].set_ylim(-1, 1)\n",
    "    ax[1].set_xlabel('SV1')\n",
    "    ax[1].set_ylabel('SV2')"
   ]
  },
  {
   "cell_type": "code",
   "execution_count": null,
   "metadata": {
    "ExecuteTime": {
     "end_time": "2020-08-20T09:12:04.519555Z",
     "start_time": "2020-08-20T09:11:57.436Z"
    }
   },
   "outputs": [],
   "source": [
    "plot_svd(X, features, p)"
   ]
  },
  {
   "cell_type": "code",
   "execution_count": null,
   "metadata": {
    "ExecuteTime": {
     "end_time": "2020-08-20T09:12:04.520556Z",
     "start_time": "2020-08-20T09:11:57.446Z"
    }
   },
   "outputs": [],
   "source": [
    "fig, ax = plt.subplots(figsize=(12,8))\n",
    "ax.plot(range(1, len(nssd)+1), nssd, '-', label='individual')\n",
    "ax.plot(range(1, len(nssd)+1), nssd.cumsum(), '-', label='cumulative')\n",
    "plt.axhline(0.9, linestyle='--', color='salmon')\n",
    "\n",
    "chosen_sv = np.argwhere(nssd.cumsum() >= 0.9)[0][0]\n",
    "\n",
    "plt.axvline(chosen_sv, color='salmon')\n",
    "\n",
    "ax.legend(['individual', 'cumulative', '90% Variance Explained',\n",
    "           f'Selected Number of SV: {chosen_sv}' ])\n",
    "# ax.set_ylim(0, 1)\n",
    "\n",
    "ax.set_xlabel('SV')\n",
    "\n",
    "ax.set_ylabel('variance explained');"
   ]
  },
  {
   "cell_type": "code",
   "execution_count": null,
   "metadata": {
    "ExecuteTime": {
     "end_time": "2020-08-20T09:12:04.522558Z",
     "start_time": "2020-08-20T09:11:57.451Z"
    }
   },
   "outputs": [],
   "source": [
    "def project_svd(q, s, k):\n",
    "    \"\"\"Returns the projected result of SVD.\"\"\"\n",
    "    return q[:,:k].dot(s[:k,:k])"
   ]
  },
  {
   "cell_type": "code",
   "execution_count": null,
   "metadata": {
    "ExecuteTime": {
     "end_time": "2020-08-20T09:12:04.523557Z",
     "start_time": "2020-08-20T09:11:57.455Z"
    }
   },
   "outputs": [],
   "source": [
    "X_svd = project_svd(q, s, chosen_sv)\n",
    "X_svd.shape"
   ]
  },
  {
   "cell_type": "code",
   "execution_count": null,
   "metadata": {
    "ExecuteTime": {
     "end_time": "2020-08-20T09:12:04.525110Z",
     "start_time": "2020-08-20T09:11:57.458Z"
    },
    "scrolled": false
   },
   "outputs": [],
   "source": [
    "num_sv = 20\n",
    "cols = 2\n",
    "fig, axes = plt.subplots(int(num_sv/cols), cols, figsize=(15, 40),\n",
    "                        constrained_layout=True)\n",
    "axes = axes.ravel()\n",
    "\n",
    "for i, ax in zip(range(0, num_sv), axes):\n",
    "    sv_num = i+1\n",
    "    order = np.argsort(np.abs(p[:, i]))[-5:]\n",
    "    ax.barh([features[o] for o in order], p[order, i])\n",
    "    ax.set_title(f'SV{sv_num}')\n",
    "    \n",
    "fig.suptitle(\"Top 5 Words Related to Each Singular Value\",  \n",
    "             fontweight=\"bold\");"
   ]
  },
  {
   "cell_type": "markdown",
   "metadata": {},
   "source": [
    "### Hierarchical Clustering"
   ]
  },
  {
   "cell_type": "code",
   "execution_count": null,
   "metadata": {
    "ExecuteTime": {
     "end_time": "2020-08-20T09:12:04.526109Z",
     "start_time": "2020-08-20T09:11:57.463Z"
    }
   },
   "outputs": [],
   "source": [
    "raise"
   ]
  },
  {
   "cell_type": "code",
   "execution_count": null,
   "metadata": {
    "ExecuteTime": {
     "end_time": "2020-08-20T09:12:04.528111Z",
     "start_time": "2020-08-20T09:11:57.467Z"
    }
   },
   "outputs": [],
   "source": [
    "# from scipy.cluster.hierarchy import linkage, dendrogram\n",
    "# Z = linkage(X_svd, method='ward', optimal_ordering=True)"
   ]
  },
  {
   "cell_type": "code",
   "execution_count": null,
   "metadata": {
    "ExecuteTime": {
     "end_time": "2020-08-20T09:12:04.530111Z",
     "start_time": "2020-08-20T09:11:57.471Z"
    }
   },
   "outputs": [],
   "source": [
    "# fig, ax = plt.subplots()\n",
    "# dn = dendrogram(Z, ax=ax, p=20, truncate_mode='level', color_threshold=4.3)\n",
    "# ax.axhline(4.3, linestyle='--', color='salmon')\n",
    "# ax.set_xlabel('Samples')\n",
    "# ax.set_title(\"Dendogram for Doing Agglomerative \"\n",
    "#              \"Clustering with Ward's Method\")\n",
    "# ax.set_ylabel(r'$\\Delta$');"
   ]
  },
  {
   "cell_type": "code",
   "execution_count": null,
   "metadata": {
    "ExecuteTime": {
     "end_time": "2020-08-20T09:12:04.532111Z",
     "start_time": "2020-08-20T09:11:57.474Z"
    }
   },
   "outputs": [],
   "source": [
    "# fig, ax = plt.subplots()\n",
    "# dn = dendrogram(Z, ax=ax, p=20, truncate_mode='level', color_threshold=4.3)\n",
    "# ax.axhline(4.3, linestyle='--', color='salmon')\n",
    "# ax.set_xlabel('Samples')\n",
    "# ax.set_title(\"Dendogram for Doing Agglomerative \"\n",
    "#              \"Clustering with Ward's Method\")\n",
    "# ax.set_ylabel(r'$\\Delta$');"
   ]
  },
  {
   "cell_type": "code",
   "execution_count": null,
   "metadata": {
    "ExecuteTime": {
     "end_time": "2020-08-20T09:12:04.533112Z",
     "start_time": "2020-08-20T09:11:57.476Z"
    }
   },
   "outputs": [],
   "source": [
    "from scipy.cluster.hierarchy import dendrogram\n",
    "from sklearn.cluster import AgglomerativeClustering\n",
    "\n",
    "\n",
    "def plot_dendrogram(model, **kwargs):\n",
    "    # Create linkage matrix and then plot the dendrogram\n",
    "\n",
    "    # create the counts of samples under each node\n",
    "    counts = np.zeros(model.children_.shape[0])\n",
    "    n_samples = len(model.labels_)\n",
    "    for i, merge in enumerate(model.children_):\n",
    "        current_count = 0\n",
    "        for child_idx in merge:\n",
    "            if child_idx < n_samples:\n",
    "                current_count += 1  # leaf node\n",
    "            else:\n",
    "                current_count += counts[child_idx - n_samples]\n",
    "        counts[i] = current_count\n",
    "\n",
    "    linkage_matrix = np.column_stack([model.children_, model.distances_,\n",
    "                                      counts]).astype(float)\n",
    "\n",
    "    # Plot the corresponding dendrogram\n",
    "    dendrogram(linkage_matrix, **kwargs)"
   ]
  },
  {
   "cell_type": "code",
   "execution_count": null,
   "metadata": {
    "ExecuteTime": {
     "end_time": "2020-08-20T09:12:04.535112Z",
     "start_time": "2020-08-20T09:11:57.479Z"
    }
   },
   "outputs": [],
   "source": [
    "# setting distance_threshold=0 ensures we compute the full tree.\n",
    "model = AgglomerativeClustering(distance_threshold=0, n_clusters=None, \n",
    "                                linkage='ward')\n",
    "model = model.fit()"
   ]
  },
  {
   "cell_type": "code",
   "execution_count": null,
   "metadata": {
    "ExecuteTime": {
     "end_time": "2020-08-20T09:12:04.536111Z",
     "start_time": "2020-08-20T09:11:57.483Z"
    }
   },
   "outputs": [],
   "source": [
    "# plot the top three levels of the dendrogram\n",
    "plt.figure(figsize=(15, 8))\n",
    "plot_dendrogram(model, truncate_mode='level', p=10, color_threshold=8.8)\n",
    "plt.xlabel(\"Number of points in node (or index of point if no parenthesis).\")\n",
    "plt.title('Hierarchical Clustering Dendrogram')\n",
    "plt.axhline(11, color='salmon', linestyle='--')\n",
    "plt.axhline(8.8, color='salmon', linestyle='--')\n",
    "plt.axhline(6, color='salmon', linestyle='--')\n",
    "plt.show()"
   ]
  },
  {
   "cell_type": "code",
   "execution_count": null,
   "metadata": {
    "ExecuteTime": {
     "end_time": "2020-08-20T09:12:04.537111Z",
     "start_time": "2020-08-20T09:11:57.486Z"
    }
   },
   "outputs": [],
   "source": [
    "model2 = AgglomerativeClustering(distance_threshold=11, n_clusters=None, \n",
    "                                linkage='ward')\n",
    "\n",
    "model3 = AgglomerativeClustering(distance_threshold=8.8, n_clusters=None, \n",
    "                                linkage='ward')\n",
    "\n",
    "model4 = AgglomerativeClustering(distance_threshold=6, n_clusters=None, \n",
    "                                linkage='ward')"
   ]
  },
  {
   "cell_type": "code",
   "execution_count": null,
   "metadata": {
    "ExecuteTime": {
     "end_time": "2020-08-20T09:12:04.539112Z",
     "start_time": "2020-08-20T09:11:57.489Z"
    }
   },
   "outputs": [],
   "source": [
    "models = [model2, model3, model4]\n",
    "\n",
    "for i, model in zip(['ward_a', 'ward_b', 'ward_c'],models):\n",
    "    df_clean[f'clustering_{i}'] = model.fit_predict(X_svd)"
   ]
  },
  {
   "cell_type": "code",
   "execution_count": null,
   "metadata": {
    "ExecuteTime": {
     "end_time": "2020-08-20T09:12:04.540113Z",
     "start_time": "2020-08-20T09:11:57.491Z"
    }
   },
   "outputs": [],
   "source": [
    "df_clean['clustering_ward_c'] = model4.fit_predict(X_svd)"
   ]
  },
  {
   "cell_type": "code",
   "execution_count": null,
   "metadata": {
    "ExecuteTime": {
     "end_time": "2020-08-20T09:12:04.542112Z",
     "start_time": "2020-08-20T09:11:57.495Z"
    }
   },
   "outputs": [],
   "source": [
    "df_clean['clustering_ward_c'].value_counts()"
   ]
  },
  {
   "cell_type": "code",
   "execution_count": null,
   "metadata": {
    "ExecuteTime": {
     "end_time": "2020-08-20T09:12:04.543112Z",
     "start_time": "2020-08-20T09:11:57.498Z"
    },
    "scrolled": false
   },
   "outputs": [],
   "source": [
    "pd.set_option('display.max_rows', 500)\n",
    "df_clean.groupby('clustering_ward_b')['clustering_ward_c'].value_counts().to_frame().loc[[1,2,6]]"
   ]
  },
  {
   "cell_type": "code",
   "execution_count": null,
   "metadata": {
    "ExecuteTime": {
     "end_time": "2020-08-20T09:12:04.544114Z",
     "start_time": "2020-08-20T09:11:57.502Z"
    }
   },
   "outputs": [],
   "source": [
    "df_clean.to_pickle(f'{data_dir}/clusters_added.pkl', protocol=3)\n",
    "# df_clean = pd.read_pickle('clusters_added.pkl')"
   ]
  },
  {
   "cell_type": "markdown",
   "metadata": {},
   "source": [
    "# Results and Discussions"
   ]
  },
  {
   "cell_type": "markdown",
   "metadata": {},
   "source": [
    "## Evaluation of Information Retrieval"
   ]
  },
  {
   "cell_type": "markdown",
   "metadata": {},
   "source": [
    "1. Show AUC-PR for Scope.\n",
    "2. Show AUC-PR per congress number for Primary Commitee.\n",
    "2. Manually evaluate: Use k = 10 and search 5 possible terms. Then manually identify if the results are relevant or not. Get precision. "
   ]
  },
  {
   "cell_type": "markdown",
   "metadata": {},
   "source": [
    "## Analyzing the Clusters"
   ]
  },
  {
   "cell_type": "markdown",
   "metadata": {},
   "source": [
    "1. Word Cloud cluster c\n",
    "2. 5 samples per cluster c dataframe\n",
    "3. Interpretation of each cluster "
   ]
  },
  {
   "cell_type": "code",
   "execution_count": null,
   "metadata": {
    "ExecuteTime": {
     "end_time": "2020-08-20T09:12:04.546113Z",
     "start_time": "2020-08-20T09:11:57.509Z"
    }
   },
   "outputs": [],
   "source": [
    "df_clean = pd.read_pickle('clusters_added.pkl')"
   ]
  },
  {
   "cell_type": "code",
   "execution_count": null,
   "metadata": {
    "ExecuteTime": {
     "end_time": "2020-08-20T09:12:04.547113Z",
     "start_time": "2020-08-20T09:11:57.512Z"
    }
   },
   "outputs": [],
   "source": [
    "temp = df_clean[['filed_on', 'clustering_ward_b']].set_index('filed_on')\n",
    "temp"
   ]
  },
  {
   "cell_type": "markdown",
   "metadata": {},
   "source": [
    "# Conclusion"
   ]
  },
  {
   "cell_type": "markdown",
   "metadata": {},
   "source": [
    "# Recommendations"
   ]
  },
  {
   "cell_type": "markdown",
   "metadata": {},
   "source": [
    "# References and Acknowledgement\n",
    "\n",
    "```\n",
    "As far as the reviewer can tell, does it appear that the final technical report\n",
    "submitted for this project is a product of the student who submitted it?\n",
    "```"
   ]
  }
 ],
 "metadata": {
  "kernelspec": {
   "display_name": "Python 3",
   "language": "python",
   "name": "python3"
  },
  "language_info": {
   "codemirror_mode": {
    "name": "ipython",
    "version": 3
   },
   "file_extension": ".py",
   "mimetype": "text/x-python",
   "name": "python",
   "nbconvert_exporter": "python",
   "pygments_lexer": "ipython3",
   "version": "3.7.6"
  },
  "toc": {
   "base_numbering": 1,
   "nav_menu": {},
   "number_sections": true,
   "sideBar": true,
   "skip_h1_title": false,
   "title_cell": "Table of Contents",
   "title_sidebar": "Contents",
   "toc_cell": true,
   "toc_position": {
    "height": "calc(100% - 180px)",
    "left": "10px",
    "top": "150px",
    "width": "384px"
   },
   "toc_section_display": true,
   "toc_window_display": true
  },
  "varInspector": {
   "cols": {
    "lenName": 16,
    "lenType": 16,
    "lenVar": 40
   },
   "kernels_config": {
    "python": {
     "delete_cmd_postfix": "",
     "delete_cmd_prefix": "del ",
     "library": "var_list.py",
     "varRefreshCmd": "print(var_dic_list())"
    },
    "r": {
     "delete_cmd_postfix": ") ",
     "delete_cmd_prefix": "rm(",
     "library": "var_list.r",
     "varRefreshCmd": "cat(var_dic_list()) "
    }
   },
   "types_to_exclude": [
    "module",
    "function",
    "builtin_function_or_method",
    "instance",
    "_Feature"
   ],
   "window_display": false
  }
 },
 "nbformat": 4,
 "nbformat_minor": 4
}
