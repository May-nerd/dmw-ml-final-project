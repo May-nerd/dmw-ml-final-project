{
 "cells": [
  {
   "cell_type": "code",
   "execution_count": 1,
   "metadata": {
    "ExecuteTime": {
     "end_time": "2020-08-11T10:33:12.237224Z",
     "start_time": "2020-08-11T10:33:11.387749Z"
    }
   },
   "outputs": [],
   "source": [
    "import bs4\n",
    "import requests\n",
    "import pandas as pd\n",
    "from selenium import webdriver\n",
    "from tqdm import tqdm"
   ]
  },
  {
   "cell_type": "code",
   "execution_count": 2,
   "metadata": {
    "ExecuteTime": {
     "end_time": "2020-08-11T10:33:12.243217Z",
     "start_time": "2020-08-11T10:33:12.238214Z"
    }
   },
   "outputs": [],
   "source": [
    "links = []\n",
    "i = 16\n",
    "for k in range(1, 3000):\n",
    "    links.append(f'http://www.senate.gov.ph/lis/'\n",
    "                 f'bill_res.aspx?congress={i}&q=SBN-{k}')"
   ]
  },
  {
   "cell_type": "code",
   "execution_count": 3,
   "metadata": {
    "ExecuteTime": {
     "end_time": "2020-08-11T10:33:15.367223Z",
     "start_time": "2020-08-11T10:33:12.245217Z"
    },
    "scrolled": true
   },
   "outputs": [],
   "source": [
    "from msedge.selenium_tools import Edge, EdgeOptions\n",
    "\n",
    "# # Launch Microsoft Edge (Chromium)\n",
    "# edge_options = EdgeOptions()\n",
    "# edge_options.use_chromium = True\n",
    "# edge_options.add_argument('headless')\n",
    "# # edge_options.add_argument('disable-gpu')\n",
    "\n",
    "# # Headless\n",
    "# driver = Edge(options = edge_options)\n",
    "\n",
    "# With head\n",
    "driver = webdriver.Edge()"
   ]
  },
  {
   "cell_type": "code",
   "execution_count": 4,
   "metadata": {
    "ExecuteTime": {
     "end_time": "2020-08-11T11:20:18.412235Z",
     "start_time": "2020-08-11T10:33:15.369226Z"
    },
    "scrolled": false
   },
   "outputs": [
    {
     "name": "stderr",
     "output_type": "stream",
     "text": [
      "100%|██████████████████████████████████████████████████████████████████████████████| 2999/2999 [47:03<00:00,  1.06it/s]\n"
     ]
    }
   ],
   "source": [
    "import time\n",
    "result_dict = dict()\n",
    "for i, url in enumerate(tqdm(links)):\n",
    "    driver.get(url)\n",
    "    time.sleep(1)\n",
    "    try:\n",
    "        button = driver.find_element_by_id('lbAll')\n",
    "        button.click()\n",
    "    except:\n",
    "        continue\n",
    "    html = driver.page_source\n",
    "    result_dict[url] = html"
   ]
  },
  {
   "cell_type": "code",
   "execution_count": 5,
   "metadata": {
    "ExecuteTime": {
     "end_time": "2020-08-11T11:20:20.538006Z",
     "start_time": "2020-08-11T11:20:18.414236Z"
    }
   },
   "outputs": [],
   "source": [
    "driver.quit()"
   ]
  },
  {
   "cell_type": "code",
   "execution_count": 7,
   "metadata": {
    "ExecuteTime": {
     "end_time": "2020-08-11T11:24:21.601433Z",
     "start_time": "2020-08-11T11:24:21.501675Z"
    }
   },
   "outputs": [],
   "source": [
    "pd.to_pickle(result_dict, f\"16th_senate_bills.pkl\")"
   ]
  },
  {
   "cell_type": "code",
   "execution_count": null,
   "metadata": {},
   "outputs": [],
   "source": []
  }
 ],
 "metadata": {
  "kernelspec": {
   "display_name": "Python 3",
   "language": "python",
   "name": "python3"
  },
  "language_info": {
   "codemirror_mode": {
    "name": "ipython",
    "version": 3
   },
   "file_extension": ".py",
   "mimetype": "text/x-python",
   "name": "python",
   "nbconvert_exporter": "python",
   "pygments_lexer": "ipython3",
   "version": "3.8.3"
  },
  "toc": {
   "base_numbering": 1,
   "nav_menu": {},
   "number_sections": true,
   "sideBar": true,
   "skip_h1_title": false,
   "title_cell": "Table of Contents",
   "title_sidebar": "Contents",
   "toc_cell": false,
   "toc_position": {},
   "toc_section_display": true,
   "toc_window_display": false
  },
  "varInspector": {
   "cols": {
    "lenName": 16,
    "lenType": 16,
    "lenVar": 40
   },
   "kernels_config": {
    "python": {
     "delete_cmd_postfix": "",
     "delete_cmd_prefix": "del ",
     "library": "var_list.py",
     "varRefreshCmd": "print(var_dic_list())"
    },
    "r": {
     "delete_cmd_postfix": ") ",
     "delete_cmd_prefix": "rm(",
     "library": "var_list.r",
     "varRefreshCmd": "cat(var_dic_list()) "
    }
   },
   "types_to_exclude": [
    "module",
    "function",
    "builtin_function_or_method",
    "instance",
    "_Feature"
   ],
   "window_display": false
  }
 },
 "nbformat": 4,
 "nbformat_minor": 4
}
