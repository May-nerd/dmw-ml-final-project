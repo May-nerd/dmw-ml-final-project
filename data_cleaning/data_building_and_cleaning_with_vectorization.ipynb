{
 "cells": [
  {
   "cell_type": "code",
   "execution_count": 1,
   "metadata": {
    "ExecuteTime": {
     "end_time": "2020-08-13T18:31:22.255938Z",
     "start_time": "2020-08-13T18:31:21.612297Z"
    }
   },
   "outputs": [],
   "source": [
    "import pandas as pd\n",
    "import json\n",
    "import bs4\n",
    "import re\n",
    "from tqdm import tqdm"
   ]
  },
  {
   "cell_type": "code",
   "execution_count": 2,
   "metadata": {
    "ExecuteTime": {
     "end_time": "2020-08-13T18:31:22.259940Z",
     "start_time": "2020-08-13T18:31:22.256943Z"
    }
   },
   "outputs": [],
   "source": [
    "# import bz2\n",
    "\n",
    "# with bz2.open('../data_scraping/bills.json.bz2', 'r') as f:  \n",
    "#     data = f.read()  \n",
    "#     d = json.loads(data.decode(\"utf-8\"))"
   ]
  },
  {
   "cell_type": "code",
   "execution_count": 3,
   "metadata": {
    "ExecuteTime": {
     "end_time": "2020-08-13T18:31:22.264941Z",
     "start_time": "2020-08-13T18:31:22.261942Z"
    }
   },
   "outputs": [],
   "source": [
    "# values = []\n",
    "\n",
    "# for i in tqdm(list(d.values())):\n",
    "#     dic = {}\n",
    "#     soup = bs4.BeautifulSoup(i, 'html.parser')\n",
    "#     content = soup.find('td', attrs = {'id':'content'}).text.strip()\n",
    "#     try:\n",
    "#         dic['congress'] = int(re.search('\\d{2}(?=th Congress)',\n",
    "#                                         content).group(0))\n",
    "#         dic['type'] = re.search('(?<= Congress).+(?= Bill)', content).group(0)\n",
    "#         bill_num = int(re.search('(?<=Bill No. )\\d{1,}', content).group(0))\n",
    "#         dic['bill_num'] = bill_num\n",
    "#         dic['title'] = re.search(f'(?<=BillTi No. {bill_num}).+(?=Filed)',\n",
    "#                                  content).group(0)\n",
    "#         dic['filed_on'] = re.search('(?<=Filed on ).+(?= by)',\n",
    "#                                     content).group(0)\n",
    "#         dic['filed_by'] = re.search('(?<=by ).+', content).group(0)\n",
    "#         dic['introduced_by'] = re.search('(?<=Introduced by ).+',\n",
    "#                                          content).group(0)\n",
    "#         dic['long_title'] = re.search('(?<=Long title).+', content).group(0)\n",
    "#         dic['scope'] = re.search('(?<=Scope).+', content).group(0)\n",
    "#         dic['subjects'] = re.search('(?<=Subject\\(s\\)).+', content).group(0)\n",
    "#         dic['primary_committee'] = re.search('(?<=Primary committee).+',\n",
    "#                                              content).group(0)\n",
    "#         dic['secondary_committee'] = re.search('(?<=Secondary committee).+',\n",
    "#                                                content).group(0)\n",
    "#     except:\n",
    "#         pass\n",
    "#     values.append(dic)"
   ]
  },
  {
   "cell_type": "code",
   "execution_count": 4,
   "metadata": {
    "ExecuteTime": {
     "end_time": "2020-08-13T18:31:22.362973Z",
     "start_time": "2020-08-13T18:31:22.266942Z"
    }
   },
   "outputs": [],
   "source": [
    "df = pd.read_csv('bills.csv')"
   ]
  },
  {
   "cell_type": "code",
   "execution_count": 5,
   "metadata": {
    "ExecuteTime": {
     "end_time": "2020-08-13T18:31:22.381967Z",
     "start_time": "2020-08-13T18:31:22.363964Z"
    }
   },
   "outputs": [
    {
     "data": {
      "text/plain": [
       "Unnamed: 0                0\n",
       "congress                  0\n",
       "type                      0\n",
       "bill_num                  0\n",
       "title                     0\n",
       "filed_on                  0\n",
       "filed_by                  0\n",
       "introduced_by           498\n",
       "long_title              498\n",
       "scope                   498\n",
       "subjects                846\n",
       "primary_committee       882\n",
       "secondary_committee    5138\n",
       "dtype: int64"
      ]
     },
     "execution_count": 5,
     "metadata": {},
     "output_type": "execute_result"
    }
   ],
   "source": [
    "df.isna().sum()"
   ]
  },
  {
   "cell_type": "code",
   "execution_count": 6,
   "metadata": {
    "ExecuteTime": {
     "end_time": "2020-08-13T18:31:22.399972Z",
     "start_time": "2020-08-13T18:31:22.382978Z"
    }
   },
   "outputs": [
    {
     "data": {
      "text/html": [
       "<div>\n",
       "<style scoped>\n",
       "    .dataframe tbody tr th:only-of-type {\n",
       "        vertical-align: middle;\n",
       "    }\n",
       "\n",
       "    .dataframe tbody tr th {\n",
       "        vertical-align: top;\n",
       "    }\n",
       "\n",
       "    .dataframe thead th {\n",
       "        text-align: right;\n",
       "    }\n",
       "</style>\n",
       "<table border=\"1\" class=\"dataframe\">\n",
       "  <thead>\n",
       "    <tr style=\"text-align: right;\">\n",
       "      <th></th>\n",
       "      <th>Unnamed: 0</th>\n",
       "      <th>congress</th>\n",
       "      <th>type</th>\n",
       "      <th>bill_num</th>\n",
       "      <th>title</th>\n",
       "      <th>filed_on</th>\n",
       "      <th>filed_by</th>\n",
       "      <th>introduced_by</th>\n",
       "      <th>long_title</th>\n",
       "      <th>scope</th>\n",
       "      <th>subjects</th>\n",
       "      <th>primary_committee</th>\n",
       "      <th>secondary_committee</th>\n",
       "    </tr>\n",
       "  </thead>\n",
       "  <tbody>\n",
       "    <tr>\n",
       "      <th>15444</th>\n",
       "      <td>15445</td>\n",
       "      <td>18</td>\n",
       "      <td>Senate</td>\n",
       "      <td>1541</td>\n",
       "      <td>AMENDING SECTION 3 OF RA 7797 (AN ACT TO LENGT...</td>\n",
       "      <td>May 26, 2020</td>\n",
       "      <td>Sotto III, Vicente C., Villanueva, Joel, Tolen...</td>\n",
       "      <td>NaN</td>\n",
       "      <td>NaN</td>\n",
       "      <td>NaN</td>\n",
       "      <td>NaN</td>\n",
       "      <td>NaN</td>\n",
       "      <td>NaN</td>\n",
       "    </tr>\n",
       "    <tr>\n",
       "      <th>15465</th>\n",
       "      <td>15466</td>\n",
       "      <td>18</td>\n",
       "      <td>Senate</td>\n",
       "      <td>1562</td>\n",
       "      <td>RECRUITMENT QUOTA OF FEMALE PHILIPPINE NATIONA...</td>\n",
       "      <td>May 28, 2020</td>\n",
       "      <td>Revilla Jr., Ramon Bong, De Lima, Leila M., De...</td>\n",
       "      <td>NaN</td>\n",
       "      <td>NaN</td>\n",
       "      <td>NaN</td>\n",
       "      <td>NaN</td>\n",
       "      <td>NaN</td>\n",
       "      <td>NaN</td>\n",
       "    </tr>\n",
       "    <tr>\n",
       "      <th>15466</th>\n",
       "      <td>15467</td>\n",
       "      <td>18</td>\n",
       "      <td>Senate</td>\n",
       "      <td>1563</td>\n",
       "      <td>PNP, BFP, BJMP AND BUCOR HEIGHT EQUALITY ACT</td>\n",
       "      <td>May 28, 2020</td>\n",
       "      <td>Zubiri, Juan Miguel \"Migz\" F., Sotto III, Vice...</td>\n",
       "      <td>NaN</td>\n",
       "      <td>NaN</td>\n",
       "      <td>NaN</td>\n",
       "      <td>NaN</td>\n",
       "      <td>NaN</td>\n",
       "      <td>NaN</td>\n",
       "    </tr>\n",
       "    <tr>\n",
       "      <th>15467</th>\n",
       "      <td>15468</td>\n",
       "      <td>18</td>\n",
       "      <td>Senate</td>\n",
       "      <td>1564</td>\n",
       "      <td>BAYANIHAN TO RECOVER AS ONE ACT</td>\n",
       "      <td>June 1, 2020</td>\n",
       "      <td>Marcos, Imee R., Angara, Sonny, Recto, Ralph G...</td>\n",
       "      <td>NaN</td>\n",
       "      <td>NaN</td>\n",
       "      <td>NaN</td>\n",
       "      <td>NaN</td>\n",
       "      <td>NaN</td>\n",
       "      <td>NaN</td>\n",
       "    </tr>\n",
       "    <tr>\n",
       "      <th>15485</th>\n",
       "      <td>15486</td>\n",
       "      <td>18</td>\n",
       "      <td>Senate</td>\n",
       "      <td>1582</td>\n",
       "      <td>SAFE PATHWAYS ACT</td>\n",
       "      <td>June 3, 2020</td>\n",
       "      <td>Cayetano, Pia S., Tolentino, Francis \"Tol\" N.,...</td>\n",
       "      <td>NaN</td>\n",
       "      <td>NaN</td>\n",
       "      <td>NaN</td>\n",
       "      <td>NaN</td>\n",
       "      <td>NaN</td>\n",
       "      <td>NaN</td>\n",
       "    </tr>\n",
       "  </tbody>\n",
       "</table>\n",
       "</div>"
      ],
      "text/plain": [
       "       Unnamed: 0  congress    type  bill_num  \\\n",
       "15444       15445        18  Senate      1541   \n",
       "15465       15466        18  Senate      1562   \n",
       "15466       15467        18  Senate      1563   \n",
       "15467       15468        18  Senate      1564   \n",
       "15485       15486        18  Senate      1582   \n",
       "\n",
       "                                                   title      filed_on  \\\n",
       "15444  AMENDING SECTION 3 OF RA 7797 (AN ACT TO LENGT...  May 26, 2020   \n",
       "15465  RECRUITMENT QUOTA OF FEMALE PHILIPPINE NATIONA...  May 28, 2020   \n",
       "15466       PNP, BFP, BJMP AND BUCOR HEIGHT EQUALITY ACT  May 28, 2020   \n",
       "15467                    BAYANIHAN TO RECOVER AS ONE ACT  June 1, 2020   \n",
       "15485                                  SAFE PATHWAYS ACT  June 3, 2020   \n",
       "\n",
       "                                                filed_by introduced_by  \\\n",
       "15444  Sotto III, Vicente C., Villanueva, Joel, Tolen...           NaN   \n",
       "15465  Revilla Jr., Ramon Bong, De Lima, Leila M., De...           NaN   \n",
       "15466  Zubiri, Juan Miguel \"Migz\" F., Sotto III, Vice...           NaN   \n",
       "15467  Marcos, Imee R., Angara, Sonny, Recto, Ralph G...           NaN   \n",
       "15485  Cayetano, Pia S., Tolentino, Francis \"Tol\" N.,...           NaN   \n",
       "\n",
       "      long_title scope subjects primary_committee secondary_committee  \n",
       "15444        NaN   NaN      NaN               NaN                 NaN  \n",
       "15465        NaN   NaN      NaN               NaN                 NaN  \n",
       "15466        NaN   NaN      NaN               NaN                 NaN  \n",
       "15467        NaN   NaN      NaN               NaN                 NaN  \n",
       "15485        NaN   NaN      NaN               NaN                 NaN  "
      ]
     },
     "execution_count": 6,
     "metadata": {},
     "output_type": "execute_result"
    }
   ],
   "source": [
    "df[df['introduced_by'].isna()].tail()"
   ]
  },
  {
   "cell_type": "markdown",
   "metadata": {},
   "source": [
    "Note: bill_num 1582 has a scope and long title but I think it is not really important."
   ]
  },
  {
   "cell_type": "code",
   "execution_count": 7,
   "metadata": {
    "ExecuteTime": {
     "end_time": "2020-08-13T18:31:22.410974Z",
     "start_time": "2020-08-13T18:31:22.401972Z"
    }
   },
   "outputs": [],
   "source": [
    "df.dropna(subset=['filed_by'], inplace=True)"
   ]
  },
  {
   "cell_type": "code",
   "execution_count": 8,
   "metadata": {
    "ExecuteTime": {
     "end_time": "2020-08-13T18:31:22.417976Z",
     "start_time": "2020-08-13T18:31:22.412974Z"
    }
   },
   "outputs": [
    {
     "data": {
      "text/plain": [
       "15640"
      ]
     },
     "execution_count": 8,
     "metadata": {},
     "output_type": "execute_result"
    }
   ],
   "source": [
    "len(df)"
   ]
  },
  {
   "cell_type": "code",
   "execution_count": 9,
   "metadata": {
    "ExecuteTime": {
     "end_time": "2020-08-13T18:31:22.435980Z",
     "start_time": "2020-08-13T18:31:22.419977Z"
    }
   },
   "outputs": [],
   "source": [
    "df['long_title'] = df['long_title'].fillna('')\n",
    "df = df.fillna(\"N/A\")"
   ]
  },
  {
   "cell_type": "code",
   "execution_count": 10,
   "metadata": {
    "ExecuteTime": {
     "end_time": "2020-08-13T18:31:22.442980Z",
     "start_time": "2020-08-13T18:31:22.437981Z"
    }
   },
   "outputs": [
    {
     "data": {
      "text/plain": [
       "15640"
      ]
     },
     "execution_count": 10,
     "metadata": {},
     "output_type": "execute_result"
    }
   ],
   "source": [
    "len(df)"
   ]
  },
  {
   "cell_type": "markdown",
   "metadata": {},
   "source": [
    "We will keep these bills and we can make Unknown as a catch all label for target variables. "
   ]
  },
  {
   "cell_type": "code",
   "execution_count": 11,
   "metadata": {
    "ExecuteTime": {
     "end_time": "2020-08-13T18:31:22.460985Z",
     "start_time": "2020-08-13T18:31:22.443983Z"
    }
   },
   "outputs": [
    {
     "data": {
      "text/plain": [
       "Unnamed: 0             0\n",
       "congress               0\n",
       "type                   0\n",
       "bill_num               0\n",
       "title                  0\n",
       "filed_on               0\n",
       "filed_by               0\n",
       "introduced_by          0\n",
       "long_title             0\n",
       "scope                  0\n",
       "subjects               0\n",
       "primary_committee      0\n",
       "secondary_committee    0\n",
       "dtype: int64"
      ]
     },
     "execution_count": 11,
     "metadata": {},
     "output_type": "execute_result"
    }
   ],
   "source": [
    "df.isna().sum()"
   ]
  },
  {
   "cell_type": "code",
   "execution_count": 12,
   "metadata": {
    "ExecuteTime": {
     "end_time": "2020-08-13T18:31:22.466986Z",
     "start_time": "2020-08-13T18:31:22.461986Z"
    }
   },
   "outputs": [
    {
     "data": {
      "text/plain": [
       "15640"
      ]
     },
     "execution_count": 12,
     "metadata": {},
     "output_type": "execute_result"
    }
   ],
   "source": [
    "len(df)"
   ]
  },
  {
   "cell_type": "code",
   "execution_count": 13,
   "metadata": {
    "ExecuteTime": {
     "end_time": "2020-08-13T18:31:22.494002Z",
     "start_time": "2020-08-13T18:31:22.468988Z"
    }
   },
   "outputs": [],
   "source": [
    "df.to_pickle('bills.pkl', protocol=3)"
   ]
  },
  {
   "cell_type": "markdown",
   "metadata": {},
   "source": [
    "## Preprocessing Pipeline\n",
    "\n",
    "1. Data Cleaning\n",
    "    1. Categorical Features\n",
    "        1. Normalize names of categories \n",
    "        2. Convert strings of sequences of words to list of categories.\n",
    "    2. Text Features\n",
    "        1. Combine title and long title\n",
    "        2. Natural Language Processing\n",
    "            1. Removing of punctiations\n",
    "            2. Removing stop words\n",
    "            3. Lemmatization\n",
    "    3. Convert dates to datetime columns\n",
    "\n",
    "3. TF-IDF Vectorization Text Features for Clustering"
   ]
  },
  {
   "cell_type": "code",
   "execution_count": 14,
   "metadata": {
    "ExecuteTime": {
     "end_time": "2020-08-13T18:31:22.524008Z",
     "start_time": "2020-08-13T18:31:22.494994Z"
    }
   },
   "outputs": [],
   "source": [
    "df = pd.read_pickle('bills.pkl')"
   ]
  },
  {
   "cell_type": "code",
   "execution_count": 15,
   "metadata": {
    "ExecuteTime": {
     "end_time": "2020-08-13T18:31:22.532001Z",
     "start_time": "2020-08-13T18:31:22.525008Z"
    }
   },
   "outputs": [],
   "source": [
    "cols_used = ['congress', 'bill_num', 'title', 'long_title', 'filed_on',\n",
    "             'filed_by', 'introduced_by',  'primary_committee']\n",
    "df = df[cols_used]"
   ]
  },
  {
   "cell_type": "code",
   "execution_count": 16,
   "metadata": {
    "ExecuteTime": {
     "end_time": "2020-08-13T18:31:22.544004Z",
     "start_time": "2020-08-13T18:31:22.533003Z"
    },
    "scrolled": false
   },
   "outputs": [
    {
     "data": {
      "text/html": [
       "<div>\n",
       "<style scoped>\n",
       "    .dataframe tbody tr th:only-of-type {\n",
       "        vertical-align: middle;\n",
       "    }\n",
       "\n",
       "    .dataframe tbody tr th {\n",
       "        vertical-align: top;\n",
       "    }\n",
       "\n",
       "    .dataframe thead th {\n",
       "        text-align: right;\n",
       "    }\n",
       "</style>\n",
       "<table border=\"1\" class=\"dataframe\">\n",
       "  <thead>\n",
       "    <tr style=\"text-align: right;\">\n",
       "      <th></th>\n",
       "      <th>congress</th>\n",
       "      <th>bill_num</th>\n",
       "      <th>title</th>\n",
       "      <th>long_title</th>\n",
       "      <th>filed_on</th>\n",
       "      <th>filed_by</th>\n",
       "      <th>introduced_by</th>\n",
       "      <th>primary_committee</th>\n",
       "    </tr>\n",
       "  </thead>\n",
       "  <tbody>\n",
       "    <tr>\n",
       "      <th>0</th>\n",
       "      <td>13</td>\n",
       "      <td>1</td>\n",
       "      <td>SPECIAL MEASURES TO LOWER THE COST OF MEDICINE</td>\n",
       "      <td>AN ACT PRESCRIBING SPECIAL  MEASURES  TO LOWER...</td>\n",
       "      <td>June 30, 2004</td>\n",
       "      <td>Flavier, Juan M., Angara, Edgardo J.</td>\n",
       "      <td>Senator FLAVIER;</td>\n",
       "      <td>Health and Demography</td>\n",
       "    </tr>\n",
       "    <tr>\n",
       "      <th>1</th>\n",
       "      <td>13</td>\n",
       "      <td>2</td>\n",
       "      <td>THE CONSTITUTIONAL CONVENTION ACT</td>\n",
       "      <td>AN ACT CALLING FOR A  CONSTITUTIONAL CONVENTIO...</td>\n",
       "      <td>June 30, 2004</td>\n",
       "      <td>Flavier, Juan M.</td>\n",
       "      <td>Senator FLAVIER;</td>\n",
       "      <td>Constitutional Amendments, Revision of Codes a...</td>\n",
       "    </tr>\n",
       "    <tr>\n",
       "      <th>2</th>\n",
       "      <td>13</td>\n",
       "      <td>3</td>\n",
       "      <td>MAGNA CARTA OF PATIENT'S RIGHTS AND OBLIGATIONS</td>\n",
       "      <td>AN ACT DECLARING THE RIGHTS  AND OBLIGATIONS O...</td>\n",
       "      <td>June 30, 2004</td>\n",
       "      <td>Flavier, Juan M., Angara, Edgardo J.</td>\n",
       "      <td>Senator FLAVIER;</td>\n",
       "      <td>Health and Demography</td>\n",
       "    </tr>\n",
       "    <tr>\n",
       "      <th>3</th>\n",
       "      <td>13</td>\n",
       "      <td>4</td>\n",
       "      <td>HEALTH PROMOTION ACT OF 2004</td>\n",
       "      <td>AN ACT ESTABLISHING A  NATIONAL HEALTH PROMOTI...</td>\n",
       "      <td>June 30, 2004</td>\n",
       "      <td>Flavier, Juan M., Angara, Edgardo J.</td>\n",
       "      <td>Senator FLAVIER;</td>\n",
       "      <td>Government Corporations and Public Enterprises</td>\n",
       "    </tr>\n",
       "    <tr>\n",
       "      <th>4</th>\n",
       "      <td>13</td>\n",
       "      <td>5</td>\n",
       "      <td>INCREASING THE ALLOWABLE PERSONAL ADDITIONAL T...</td>\n",
       "      <td>AN ACT INCREASING THE ALLOWABLE PERSONAL ADDIT...</td>\n",
       "      <td>June 30, 2004</td>\n",
       "      <td>Flavier, Juan M.</td>\n",
       "      <td>Senator FLAVIER;</td>\n",
       "      <td>Ways and Means</td>\n",
       "    </tr>\n",
       "  </tbody>\n",
       "</table>\n",
       "</div>"
      ],
      "text/plain": [
       "   congress  bill_num                                              title  \\\n",
       "0        13         1     SPECIAL MEASURES TO LOWER THE COST OF MEDICINE   \n",
       "1        13         2                  THE CONSTITUTIONAL CONVENTION ACT   \n",
       "2        13         3    MAGNA CARTA OF PATIENT'S RIGHTS AND OBLIGATIONS   \n",
       "3        13         4                       HEALTH PROMOTION ACT OF 2004   \n",
       "4        13         5  INCREASING THE ALLOWABLE PERSONAL ADDITIONAL T...   \n",
       "\n",
       "                                          long_title       filed_on  \\\n",
       "0  AN ACT PRESCRIBING SPECIAL  MEASURES  TO LOWER...  June 30, 2004   \n",
       "1  AN ACT CALLING FOR A  CONSTITUTIONAL CONVENTIO...  June 30, 2004   \n",
       "2  AN ACT DECLARING THE RIGHTS  AND OBLIGATIONS O...  June 30, 2004   \n",
       "3  AN ACT ESTABLISHING A  NATIONAL HEALTH PROMOTI...  June 30, 2004   \n",
       "4  AN ACT INCREASING THE ALLOWABLE PERSONAL ADDIT...  June 30, 2004   \n",
       "\n",
       "                               filed_by     introduced_by  \\\n",
       "0  Flavier, Juan M., Angara, Edgardo J.  Senator FLAVIER;   \n",
       "1                      Flavier, Juan M.  Senator FLAVIER;   \n",
       "2  Flavier, Juan M., Angara, Edgardo J.  Senator FLAVIER;   \n",
       "3  Flavier, Juan M., Angara, Edgardo J.  Senator FLAVIER;   \n",
       "4                      Flavier, Juan M.  Senator FLAVIER;   \n",
       "\n",
       "                                   primary_committee  \n",
       "0                              Health and Demography  \n",
       "1  Constitutional Amendments, Revision of Codes a...  \n",
       "2                              Health and Demography  \n",
       "3     Government Corporations and Public Enterprises  \n",
       "4                                     Ways and Means  "
      ]
     },
     "execution_count": 16,
     "metadata": {},
     "output_type": "execute_result"
    }
   ],
   "source": [
    "df.head()"
   ]
  },
  {
   "cell_type": "markdown",
   "metadata": {},
   "source": [
    "## Data Cleaning"
   ]
  },
  {
   "cell_type": "code",
   "execution_count": 17,
   "metadata": {
    "ExecuteTime": {
     "end_time": "2020-08-13T18:31:22.550006Z",
     "start_time": "2020-08-13T18:31:22.546007Z"
    }
   },
   "outputs": [],
   "source": [
    "df_clean = df.copy()"
   ]
  },
  {
   "cell_type": "markdown",
   "metadata": {},
   "source": [
    "### Categorical Features"
   ]
  },
  {
   "cell_type": "markdown",
   "metadata": {},
   "source": [
    "#### filed_by"
   ]
  },
  {
   "cell_type": "code",
   "execution_count": 18,
   "metadata": {
    "ExecuteTime": {
     "end_time": "2020-08-13T18:31:22.594024Z",
     "start_time": "2020-08-13T18:31:22.552007Z"
    }
   },
   "outputs": [
    {
     "data": {
      "text/plain": [
       "6697                            [Lapid, Manuel \"Lito\" M, ]\n",
       "4597                                       [Villar, Manny]\n",
       "15047                                 [De Lima, Leila M, ]\n",
       "12412                       [Escudero, Francis \"Chiz\" G, ]\n",
       "14468    [Binay, Maria Lourdes Nancy S, , De Lima, Leil...\n",
       "Name: filed_by, dtype: object"
      ]
     },
     "execution_count": 18,
     "metadata": {},
     "output_type": "execute_result"
    }
   ],
   "source": [
    "# TODO: Still needs a lot of cleaning\n",
    "\n",
    "df_clean['filed_by'] = df_clean['filed_by'].str.split('.')\n",
    "df_clean['filed_by'].sample(5)"
   ]
  },
  {
   "cell_type": "markdown",
   "metadata": {},
   "source": [
    "#### introduced_ by"
   ]
  },
  {
   "cell_type": "code",
   "execution_count": 19,
   "metadata": {
    "ExecuteTime": {
     "end_time": "2020-08-13T18:31:22.631033Z",
     "start_time": "2020-08-13T18:31:22.595035Z"
    }
   },
   "outputs": [],
   "source": [
    "# TODO: Still needs a lot of cleaning\n",
    "# less effort because column might not be used later\n",
    "\n",
    "df_clean['introduced_by'] = df_clean['introduced_by'].str.replace(\n",
    "    'Senator |Senators |;', '')\n",
    "\n",
    "df_clean['introduced_by'] = df_clean['introduced_by'].str.split(r'and|,')"
   ]
  },
  {
   "cell_type": "markdown",
   "metadata": {},
   "source": [
    "#### primary_committee"
   ]
  },
  {
   "cell_type": "code",
   "execution_count": 20,
   "metadata": {
    "ExecuteTime": {
     "end_time": "2020-08-13T18:31:22.641025Z",
     "start_time": "2020-08-13T18:31:22.632024Z"
    }
   },
   "outputs": [
    {
     "data": {
      "text/plain": [
       "Health and Demography                                                   1495\n",
       "Education, Arts and Culture                                             1479\n",
       "Justice and Human Rights                                                1381\n",
       "N/A                                                                      882\n",
       "Labor, Employment and Human Resources Development                        804\n",
       "Public Services                                                          668\n",
       "Environment and Natural Resources                                        636\n",
       "Local Government                                                         628\n",
       "Ways and Means                                                           522\n",
       "Agriculture and Food                                                     426\n",
       "Civil Service and Government Reorganization                              415\n",
       "Government Corporations and Public Enterprises                           409\n",
       "Constitutional Amendments, Revision of Codes and Laws                    398\n",
       "Public Order and Dangerous Drugs                                         355\n",
       "Trade and Commerce                                                       347\n",
       "Civil Service, Government Reorganization and Professional Regulation     345\n",
       "Public Information and Mass Media                                        343\n",
       "Youth, Women and Family Relations                                        309\n",
       "National Defense and Security                                            308\n",
       "Banks, Financial Institutions and Currencies                             286\n",
       "Social Justice, Welfare and Rural Development                            274\n",
       "Trade, Commerce and Entrepreneurship                                     258\n",
       "Women, Children, Family Relations and Gender Equality                    247\n",
       "Science and Technology                                                   218\n",
       "Public Works                                                             211\n",
       "Rules                                                                    206\n",
       "Energy                                                                   181\n",
       "Finance                                                                  173\n",
       "Electoral Reforms  and Peoples Participation                             170\n",
       "Public Order and Illegal Drugs                                           165\n",
       "Urban Planning, Housing and Resettlement                                 138\n",
       "Basic Education, Arts and Culture                                        120\n",
       "Economic Affairs                                                          92\n",
       "Agriculture, Food and Agrarian Reform                                     77\n",
       "Cultural Communities                                                      70\n",
       "Higher, Technical and Vocational Education                                67\n",
       "Games, Amusement and Sports                                               64\n",
       "Environment, Natural Resources and Climate Change                         56\n",
       "Foreign Relations                                                         56\n",
       "Agrarian Reform                                                           50\n",
       "Tourism                                                                   47\n",
       "Youth                                                                     44\n",
       "National Defense and Security, Peace, Unification and Reconciliation      41\n",
       "Constitutional Amendments and Revision of Codes                           38\n",
       "Cooperatives                                                              30\n",
       "Sports                                                                    29\n",
       "Games and Amusement                                                       27\n",
       "Accounts                                                                  15\n",
       "Joint Congressional Oversight Committee on Cooperatives                   13\n",
       "Peace, Unification and Reconciliation                                      9\n",
       "Sustainable Development Goals, Innovation and Futures Thinking             8\n",
       "Climate Change                                                             6\n",
       "Amateur Sports Competitiveness                                             4\n",
       "Name: primary_committee, dtype: int64"
      ]
     },
     "execution_count": 20,
     "metadata": {},
     "output_type": "execute_result"
    }
   ],
   "source": [
    "# No need for cleaning for now\n",
    "\n",
    "# {'Amateur Sports Competitiveness': 'Games, Amusement and Sports',\n",
    "#  'Climate Change':'Environment, Natural Resources and Climate Change', \n",
    "#  'Peace, Unification and Reconciliation': 'National Defense and Security, Peace, Unification and Reconciliation',\n",
    "#  'Games and Amusement': 'Games, Amusement and Sports',\n",
    "#  'Sports': 'Games, Amusement and Sports',\n",
    "#  'Cooperatives': 'Cooperatives'\n",
    "#  }\n",
    "\n",
    "df_clean['primary_committee'].value_counts()"
   ]
  },
  {
   "cell_type": "markdown",
   "metadata": {},
   "source": [
    "    2. Text Features\n",
    "        1. Combine title and long title\n",
    "        2. Natural Language Processing\n",
    "            1. Removing of punctiations\n",
    "            2. Removing stop words\n",
    "            3. Lemmatization"
   ]
  },
  {
   "cell_type": "markdown",
   "metadata": {},
   "source": [
    "### Text Features"
   ]
  },
  {
   "cell_type": "markdown",
   "metadata": {},
   "source": [
    "#### Combine title and long title"
   ]
  },
  {
   "cell_type": "code",
   "execution_count": 39,
   "metadata": {
    "ExecuteTime": {
     "end_time": "2020-08-13T18:48:11.442118Z",
     "start_time": "2020-08-13T18:48:11.410110Z"
    }
   },
   "outputs": [
    {
     "data": {
      "text/plain": [
       "0    special measures to lower the cost of medicine...\n",
       "1    the constitutional convention act an act calli...\n",
       "2    magna carta of patient's rights and obligation...\n",
       "3    health promotion act of 2004 an act establishi...\n",
       "4    increasing the allowable personal additional t...\n",
       "Name: combined_title, dtype: object"
      ]
     },
     "execution_count": 39,
     "metadata": {},
     "output_type": "execute_result"
    }
   ],
   "source": [
    "df_clean['combined_title'] = df_clean[\"title\"] + ' ' + df_clean['long_title']\n",
    "\n",
    "\n",
    "df_clean['combined_title'] = df_clean['combined_title'].str.lower()\n",
    "\n",
    "df_clean['combined_title'].head()"
   ]
  },
  {
   "cell_type": "markdown",
   "metadata": {},
   "source": [
    "#### Natural Language Processing"
   ]
  },
  {
   "cell_type": "markdown",
   "metadata": {},
   "source": [
    "##### Removing of punctuations"
   ]
  },
  {
   "cell_type": "code",
   "execution_count": 74,
   "metadata": {
    "ExecuteTime": {
     "end_time": "2020-08-13T19:05:24.867343Z",
     "start_time": "2020-08-13T19:05:24.811333Z"
    }
   },
   "outputs": [],
   "source": [
    "import string\n",
    "punc = string.punctuation.replace('-', '').replace(\"'\", '')\n",
    "table = str.maketrans(' ', ' ', punc)\n",
    "stripped = [w.translate(table) for w in df_clean['combined_title']]"
   ]
  },
  {
   "cell_type": "markdown",
   "metadata": {},
   "source": [
    "##### Removing stop words"
   ]
  },
  {
   "cell_type": "code",
   "execution_count": 75,
   "metadata": {
    "ExecuteTime": {
     "end_time": "2020-08-13T19:05:26.574033Z",
     "start_time": "2020-08-13T19:05:26.568022Z"
    }
   },
   "outputs": [
    {
     "name": "stderr",
     "output_type": "stream",
     "text": [
      "[nltk_data] Downloading package stopwords to\n",
      "[nltk_data]     C:\\Users\\Zephy\\AppData\\Roaming\\nltk_data...\n",
      "[nltk_data]   Package stopwords is already up-to-date!\n"
     ]
    },
    {
     "data": {
      "text/plain": [
       "True"
      ]
     },
     "execution_count": 75,
     "metadata": {},
     "output_type": "execute_result"
    }
   ],
   "source": [
    "import nltk\n",
    "nltk.download('stopwords')"
   ]
  },
  {
   "cell_type": "code",
   "execution_count": 76,
   "metadata": {
    "ExecuteTime": {
     "end_time": "2020-08-13T19:05:28.213389Z",
     "start_time": "2020-08-13T19:05:28.117369Z"
    }
   },
   "outputs": [],
   "source": [
    "# filter out stop words\n",
    "from nltk.corpus import stopwords\n",
    "\n",
    "stop_words = set(stopwords.words('english'))\n",
    "\n",
    "no_stop_words = []\n",
    "for word_list in stripped:\n",
    "    word_list = word_list.split()\n",
    "    words = [w for w in word_list if not w in stop_words]\n",
    "    no_stop_words += [words]"
   ]
  },
  {
   "cell_type": "markdown",
   "metadata": {
    "ExecuteTime": {
     "end_time": "2020-08-13T18:10:22.054932Z",
     "start_time": "2020-08-13T18:10:22.051940Z"
    }
   },
   "source": [
    "#### Lemmatization"
   ]
  },
  {
   "cell_type": "code",
   "execution_count": 77,
   "metadata": {
    "ExecuteTime": {
     "end_time": "2020-08-13T19:05:31.058027Z",
     "start_time": "2020-08-13T19:05:29.691722Z"
    },
    "scrolled": false
   },
   "outputs": [
    {
     "name": "stderr",
     "output_type": "stream",
     "text": [
      "[nltk_data] Downloading package wordnet to\n",
      "[nltk_data]     C:\\Users\\Zephy\\AppData\\Roaming\\nltk_data...\n",
      "[nltk_data]   Package wordnet is already up-to-date!\n"
     ]
    }
   ],
   "source": [
    "nltk.download('wordnet')\n",
    "from nltk.stem import WordNetLemmatizer \n",
    "  \n",
    "lemmatizer = WordNetLemmatizer() \n",
    "\n",
    "lematized = []\n",
    "for word_list in no_stop_words:\n",
    "    words = [lemmatizer.lemmatize(w) for w in word_list]\n",
    "    lematized += [words]"
   ]
  },
  {
   "cell_type": "code",
   "execution_count": 78,
   "metadata": {
    "ExecuteTime": {
     "end_time": "2020-08-13T19:05:32.571366Z",
     "start_time": "2020-08-13T19:05:32.554362Z"
    }
   },
   "outputs": [],
   "source": [
    "title_cleaned = []\n",
    "for i in lematized:\n",
    "    title_cleaned+=[\" \".join(i)]"
   ]
  },
  {
   "cell_type": "code",
   "execution_count": 79,
   "metadata": {
    "ExecuteTime": {
     "end_time": "2020-08-13T19:05:34.082705Z",
     "start_time": "2020-08-13T19:05:34.074703Z"
    }
   },
   "outputs": [
    {
     "data": {
      "text/plain": [
       "7003     philippine park miniparks development act act ...\n",
       "13350    social medium awareness school university act ...\n",
       "7448     plain language health insurance act act enhanc...\n",
       "7251     std prevention act act instituting comprehensi...\n",
       "15124    magna carta worker informal economy macwie act...\n",
       "Name: combined_title, dtype: object"
      ]
     },
     "execution_count": 79,
     "metadata": {},
     "output_type": "execute_result"
    }
   ],
   "source": [
    "df_clean['combined_title'] = title_cleaned\n",
    "df_clean['combined_title'].sample(5)"
   ]
  },
  {
   "cell_type": "markdown",
   "metadata": {},
   "source": [
    "### Convert dates to datetime columns"
   ]
  },
  {
   "cell_type": "code",
   "execution_count": 80,
   "metadata": {
    "ExecuteTime": {
     "end_time": "2020-08-13T19:05:35.562667Z",
     "start_time": "2020-08-13T19:05:35.553665Z"
    }
   },
   "outputs": [
    {
     "data": {
      "text/plain": [
       "0   2004-06-30\n",
       "1   2004-06-30\n",
       "2   2004-06-30\n",
       "3   2004-06-30\n",
       "4   2004-06-30\n",
       "Name: filed_on, dtype: datetime64[ns]"
      ]
     },
     "execution_count": 80,
     "metadata": {},
     "output_type": "execute_result"
    }
   ],
   "source": [
    "df_clean['filed_on'] = pd.to_datetime(df_clean['filed_on'])\n",
    "df_clean['filed_on'].head()"
   ]
  },
  {
   "cell_type": "code",
   "execution_count": 87,
   "metadata": {
    "ExecuteTime": {
     "end_time": "2020-08-13T19:23:07.512065Z",
     "start_time": "2020-08-13T19:23:07.470065Z"
    }
   },
   "outputs": [],
   "source": [
    "df_clean.to_pickle('clean_data.pkl', protocol=3)"
   ]
  },
  {
   "cell_type": "markdown",
   "metadata": {},
   "source": [
    "## TF-IDF Vectorization Text Features for Clustering"
   ]
  },
  {
   "cell_type": "code",
   "execution_count": 85,
   "metadata": {
    "ExecuteTime": {
     "end_time": "2020-08-13T19:07:02.929769Z",
     "start_time": "2020-08-13T19:07:02.586684Z"
    },
    "scrolled": true
   },
   "outputs": [
    {
     "name": "stdout",
     "output_type": "stream",
     "text": [
      "['10', '109', '11', '12', '129', '13', '14', '15', '1980', '1987', '1991', '1992', '1995', '1997', '1998', '20', '2002', '2004', '2005', '2006', '2007', '2008', '2010', '2011', '2013', '2014', '2015', '2016', '2017', '2018', '2019', '2020', '209', '24', '25', '27', '30', '3815', '386', '40', '442', '6975', '7160', '7394', '8424', '881', '9184', 'abolishing', 'abroad', 'abuse', 'academic', 'academy', 'access', 'account', 'accountability', 'acquisition', 'act', 'action', 'activity', 'added', 'additional', 'address', 'administration', 'administrative', 'adopting', 'adoption', 'advertising', 'affair', 'afp', 'age', 'agency', 'agrarian', 'agreement', 'agricultural', 'agriculture', 'aid', 'air', 'airport', 'alcohol', 'allocating', 'allocation', 'allotment', 'allowance', 'allowing', 'also', 'alternative', 'amend', 'amended', 'amending', 'amendment', 'among', 'amount', 'amusement', 'an', 'andor', 'animal', 'annual', 'application', 'appointment', 'appropriate', 'appropriating', 'appropriation', 'aquatic', 'area', 'armed', 'art', 'article', 'assessment', 'asset', 'assistance', 'association', 'athlete', 'authority', 'authorizing', 'autism', 'automated', 'automatic', 'autonomous', 'available', 'aviation', 'awareness', 'bag', 'bamboo', 'ban', 'bank', 'banning', 'barangay', 'barangays', 'base', 'based', 'basic', 'bata', 'bataan', 'bed', 'beneficiary', 'benefit', 'bilang', 'bill', 'birth', 'blg', 'board', 'body', 'book', 'branch', 'breast', 'broadcast', 'broadcasting', 'budget', 'building', 'bureau', 'business', 'cable', 'calamity', 'campaign', 'campus', 'cancer', 'candidate', 'capability', 'capacity', 'capital', 'card', 'care', 'career', 'carta', 'case', 'cash', 'cebu', 'center', 'central', 'certain', 'certificate', 'certification', 'change', 'chapter', 'charge', 'charity', 'charter', 'child', 'childrens', 'cigarette', 'circumstance', 'citizen', 'citizenship', 'city', 'civil', 'claim', 'class', 'classification', 'coast', 'coastal', 'coconut', 'code', 'collection', 'college', 'combat', 'commercial', 'commission', 'committed', 'committee', 'commonwealth', 'communication', 'community', 'company', 'compensation', 'competition', 'competitiveness', 'compliance', 'component', 'comprehensive', 'compulsory', 'computer', 'concern', 'condition', 'conduct', 'congress', 'congressional', 'conservation', 'constitution', 'constitutional', 'construction', 'consumer', 'continuing', 'contract', 'contractor', 'contractual', 'contribution', 'control', 'controlled', 'conversion', 'converting', 'cooperative', 'coordinating', 'corp', 'corporate', 'corporation', 'corrupt', 'cost', 'cotabato', 'council', 'country', 'course', 'court', 'coverage', 'covered', 'create', 'creating', 'creation', 'credit', 'crime', 'criminal', 'crisis', 'crop', 'cultural', 'culture', 'curriculum', 'custody', 'custom', 'dangerous', 'data', 'database', 'date', 'davao', 'day', 'death', 'debt', 'declaring', 'decree', 'decriminalizing', 'defense', 'defining', 'degree', 'del', 'delivery', 'dental', 'department', 'dependent', 'deposit', 'designating', 'detention', 'develop', 'development', 'device', 'direct', 'disability', 'disabled', 'disaster', 'disclosure', 'discount', 'discrimination', 'disease', 'disorder', 'disposition', 'distribution', 'district', 'division', 'domestic', 'donation', 'driver', 'driving', 'drug', 'due', 'duty', 'early', 'economic', 'education', 'educational', 'effect', 'effective', 'efficiency', 'eight', 'elderly', 'election', 'elective', 'electoral', 'electric', 'electricity', 'electronic', 'elementary', 'eligibility', 'emergency', 'employee', 'employer', 'employment', 'empowerment', 'encourage', 'energy', 'enforcement', 'engineering', 'enhance', 'enhancement', 'enhancing', 'ensure', 'ensuring', 'enterprise', 'entitled', 'entity', 'entrepreneurship', 'environment', 'environmental', 'equal', 'equipment', 'equitable', 'establish', 'establishing', 'establishment', 'estate', 'ethical', 'every', 'examination', 'excellence', 'executive', 'exempt', 'exempting', 'exemption', 'existing', 'expand', 'expanded', 'expanding', 'expense', 'exploitation', 'extending', 'extension', 'facilitate', 'facility', 'failure', 'fair', 'false', 'family', 'farmer', 'farming', 'favor', 'fee', 'fifty', 'filing', 'filipino', 'film', 'finance', 'financial', 'financing', 'fire', 'firearm', 'first', 'fiscal', 'fishery', 'five', 'fixed', 'food', 'force', 'foreign', 'forest', 'forfeiture', 'form', 'forty', 'four', 'framework', 'franchise', 'fraud', 'free', 'freedom', 'full', 'function', 'fund', 'funding', 'game', 'gas', 'gender', 'general', 'generation', 'gifted', 'give', 'giving', 'good', 'governance', 'governing', 'government', 'governmentowned', 'grade', 'graduate', 'grant', 'granted', 'granting', 'green', 'ground', 'group', 'growth', 'gsis', 'guard', 'guideline', 'handicapped', 'harassment', 'hazard', 'hazardous', 'health', 'heritage', 'high', 'higher', 'highway', 'holiday', 'home', 'honor', 'hospital', 'housing', 'human', 'hundred', 'identification', 'identity', 'ii', 'iii', 'illegal', 'immigration', 'implement', 'implementation', 'implementing', 'importation', 'imposed', 'imposing', 'imposition', 'imprisonment', 'improve', 'improvement', 'improving', 'inc', 'incentive', 'include', 'including', 'inclusion', 'inclusive', 'income', 'increase', 'increasing', 'independent', 'indigenous', 'indigent', 'individual', 'industrial', 'industry', 'infant', 'informal', 'information', 'infrastructure', 'initiative', 'injury', 'institute', 'instituting', 'institution', 'institutional', 'institutionalizing', 'insurance', 'integrated', 'integrating', 'intellectual', 'interest', 'internal', 'international', 'internet', 'investigation', 'investment', 'involuntary', 'involving', 'irrigation', 'island', 'issuance', 'issue', 'jail', 'job', 'jose', 'judicial', 'judiciary', 'jurisdiction', 'justice', 'kabataan', 'killed', 'known', 'la', 'labeling', 'labor', 'laguna', 'lake', 'lanao', 'land', 'landscape', 'language', 'law', 'learning', 'least', 'leave', 'legal', 'legislative', 'level', 'lgus', 'liability', 'libel', 'library', 'license', 'licensure', 'life', 'limit', 'limiting', 'line', 'literacy', 'livelihood', 'loan', 'local', 'located', 'loss', 'made', 'magna', 'maintain', 'maintenance', 'making', 'management', 'mandate', 'mandating', 'mandatory', 'mangrove', 'manila', 'manufacture', 'marine', 'maritime', 'market', 'marketing', 'marriage', 'material', 'maternity', 'mathematics', 'matter', 'may', 'measure', 'meat', 'mechanism', 'medical', 'medicine', 'medium', 'member', 'memorial', 'mental', 'metro', 'metropolitan', 'micro', 'migrant', 'military', 'mindanao', 'mineral', 'minimum', 'mining', 'minor', 'mitigation', 'mobile', 'modernization', 'modernizing', 'money', 'monitoring', 'month', 'monthly', 'mother', 'motor', 'motorcycle', 'movie', 'municipal', 'municipality', 'museum', 'music', 'muslim', 'name', 'national', 'nationwide', 'natural', 'necessary', 'need', 'negro', 'network', 'new', 'news', 'ng', 'ni', 'nonworking', 'norte', 'northern', 'nuclear', 'number', 'numbered', 'nursing', 'nutrition', 'occupational', 'offender', 'offense', 'office', 'officer', 'official', 'oil', 'old', 'older', 'ombudsman', 'omnibus', 'one', 'open', 'operate', 'operation', 'operator', 'opportunity', 'order', 'organ', 'organization', 'oriental', 'orientation', 'otherwise', 'overseas', 'owner', 'ownership', 'packaging', 'palawan', 'pambansa', 'paragraph', 'parent', 'park', 'part', 'participation', 'partnership', 'party', 'passenger', 'patient', 'pay', 'payment', 'pd', 'peace', 'penal', 'penalizing', 'penalty', 'pension', 'people', 'percent', 'performance', 'period', 'permanent', 'permit', 'person', 'personal', 'personnel', 'pertinent', 'peso', 'petroleum', 'philippine', 'phone', 'physical', 'place', 'plan', 'planning', 'plastic', 'pnp', 'police', 'policy', 'political', 'pollution', 'poor', 'port', 'position', 'poverty', 'power', 'practice', 'pregnancy', 'pregnant', 'premium', 'preparedness', 'prescribing', 'prescription', 'preservation', 'president', 'presidential', 'prevent', 'prevention', 'preventive', 'price', 'primary', 'print', 'priority', 'prison', 'prisoner', 'privacy', 'private', 'privilege', 'procedure', 'proceeding', 'process', 'procurement', 'producer', 'product', 'production', 'productivity', 'profession', 'professional', 'program', 'prohibit', 'prohibited', 'prohibiting', 'prohibition', 'project', 'promote', 'promoting', 'promotion', 'property', 'prosecution', 'prosecutor', 'protect', 'protected', 'protecting', 'protection', 'protective', 'provide', 'provided', 'providing', 'province', 'provincial', 'provision', 'public', 'publication', 'punishing', 'punishment', 'purchase', 'purpose', 'pursuant', 'qualified', 'quality', 'quezon', 'ra', 'radio', 'railway', 'rano', 'rape', 'rate', 'rationalization', 'rationalizing', 'real', 'recognizing', 'record', 'recovery', 'recycling', 'redefining', 'reduce', 'reducing', 'reduction', 'reform', 'regarding', 'region', 'regional', 'registration', 'registry', 'regular', 'regulate', 'regulating', 'regulation', 'regulatory', 'rehabilitation', 'related', 'relating', 'relation', 'release', 'relief', 'rendered', 'rental', 'reorganization', 'reorganizing', 'repealing', 'report', 'reporting', 'representation', 'representative', 'republic', 'require', 'required', 'requirement', 'requiring', 'research', 'reserve', 'residential', 'resource', 'respective', 'response', 'responsibility', 'responsible', 'restriction', 'retail', 'retired', 'retirement', 'revenue', 'review', 'revised', 'reward', 'rice', 'right', 'risk', 'river', 'road', 'rule', 'rural', 'sa', 'safe', 'safety', 'said', 'salary', 'sale', 'samar', 'san', 'sangguniang', 'scheme', 'scholarship', 'school', 'science', 'sea', 'seafarer', 'sec', 'secondary', 'secretary', 'section', 'sector', 'security', 'senior', 'separating', 'separation', 'service', 'seven', 'seventy', 'sex', 'sexual', 'shall', 'share', 'sign', 'sim', 'similar', 'site', 'six', 'skill', 'small', 'social', 'solicitor', 'solo', 'source', 'space', 'special', 'sport', 'spouse', 'standard', 'state', 'station', 'stationed', 'status', 'stiffer', 'strategic', 'street', 'strengthen', 'strengthening', 'structure', 'student', 'study', 'subdivision', 'subject', 'subscriber', 'subsidy', 'substance', 'sugar', 'supply', 'support', 'supporting', 'sur', 'sustainable', 'system', 'tanod', 'tariff', 'tax', 'taxpayer', 'teacher', 'teaching', 'technical', 'technology', 'telecommunication', 'telephone', 'television', 'ten', 'tenure', 'term', 'tertiary', 'tesda', 'testing', 'the', 'theft', 'thereby', 'therefor', 'therefore', 'therein', 'thereof', 'thereto', 'thousand', 'three', 'throughout', 'time', 'title', 'titling', 'tobacco', 'total', 'tourism', 'trade', 'traffic', 'training', 'transaction', 'transfer', 'transmission', 'transparency', 'transport', 'transportation', 'travel', 'treatment', 'tree', 'trial', 'trust', 'tuition', 'twenty', 'twentyfive', 'two', 'type', 'uniform', 'unit', 'universal', 'university', 'unlawful', 'unpaid', 'upgrading', 'upon', 'urban', 'use', 'used', 'user', 'utility', 'utilization', 'value', 'valueadded', 'vehicle', 'veteran', 'victim', 'video', 'violation', 'violence', 'violent', 'volunteer', 'wage', 'warning', 'waste', 'water', 'watershed', 'wealth', 'welfare', 'well', 'whistleblower', 'within', 'witness', 'woman', 'work', 'worker', 'working', 'year', 'youth', 'zone']\n",
      "(15640, 1000)\n"
     ]
    }
   ],
   "source": [
    "from sklearn.feature_extraction.text import TfidfVectorizer\n",
    "vectorizer = TfidfVectorizer(max_features=1000)\n",
    "X = vectorizer.fit_transform(df_clean['combined_title'])\n",
    "print(vectorizer.get_feature_names())\n",
    "print(X.shape)"
   ]
  },
  {
   "cell_type": "markdown",
   "metadata": {},
   "source": [
    "## Clustering"
   ]
  },
  {
   "cell_type": "code",
   "execution_count": null,
   "metadata": {},
   "outputs": [],
   "source": []
  }
 ],
 "metadata": {
  "kernelspec": {
   "display_name": "Python 3",
   "language": "python",
   "name": "python3"
  },
  "language_info": {
   "codemirror_mode": {
    "name": "ipython",
    "version": 3
   },
   "file_extension": ".py",
   "mimetype": "text/x-python",
   "name": "python",
   "nbconvert_exporter": "python",
   "pygments_lexer": "ipython3",
   "version": "3.8.3"
  },
  "toc": {
   "base_numbering": 1,
   "nav_menu": {},
   "number_sections": true,
   "sideBar": true,
   "skip_h1_title": false,
   "title_cell": "Table of Contents",
   "title_sidebar": "Contents",
   "toc_cell": false,
   "toc_position": {},
   "toc_section_display": true,
   "toc_window_display": false
  },
  "varInspector": {
   "cols": {
    "lenName": 16,
    "lenType": 16,
    "lenVar": 40
   },
   "kernels_config": {
    "python": {
     "delete_cmd_postfix": "",
     "delete_cmd_prefix": "del ",
     "library": "var_list.py",
     "varRefreshCmd": "print(var_dic_list())"
    },
    "r": {
     "delete_cmd_postfix": ") ",
     "delete_cmd_prefix": "rm(",
     "library": "var_list.r",
     "varRefreshCmd": "cat(var_dic_list()) "
    }
   },
   "types_to_exclude": [
    "module",
    "function",
    "builtin_function_or_method",
    "instance",
    "_Feature"
   ],
   "window_display": false
  }
 },
 "nbformat": 4,
 "nbformat_minor": 4
}
