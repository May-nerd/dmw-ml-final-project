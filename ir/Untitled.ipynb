{
 "cells": [
  {
   "cell_type": "code",
   "execution_count": 1,
   "metadata": {
    "ExecuteTime": {
     "end_time": "2020-08-16T09:58:53.850088Z",
     "start_time": "2020-08-16T09:58:51.852316Z"
    }
   },
   "outputs": [],
   "source": [
    "import pandas as pd\n",
    "import re\n",
    "import bz2\n",
    "import numpy as np\n",
    "import matplotlib.pyplot as plt\n",
    "import json\n",
    "from sklearn.feature_extraction.text import TfidfVectorizer, CountVectorizer\n",
    "from sklearn.decomposition import TruncatedSVD\n",
    "from sklearn.cluster import KMeans\n",
    "from scipy.spatial.distance import cosine\n",
    "from sklearn.feature_selection import SelectKBest\n",
    "from sklearn.feature_selection import mutual_info_classif\n",
    "from sklearn.cluster import FeatureAgglomeration\n",
    "from sklearn.cluster import AgglomerativeClustering\n",
    "from sklearn.feature_selection import VarianceThreshold\n",
    "from sklearn.metrics import calinski_harabasz_score\n",
    "from sklearn.metrics import silhouette_score\n",
    "from scipy.spatial.distance import euclidean, cityblock\n",
    "from sklearn.decomposition import NMF\n",
    "from collections import defaultdict\n",
    "from sklearn.preprocessing import StandardScaler, MinMaxScaler\n",
    "from tqdm import tqdm"
   ]
  },
  {
   "cell_type": "code",
   "execution_count": 2,
   "metadata": {
    "ExecuteTime": {
     "end_time": "2020-08-16T09:58:53.857046Z",
     "start_time": "2020-08-16T09:58:53.852854Z"
    }
   },
   "outputs": [],
   "source": [
    "def nearest_k(query, objects, k, dist):\n",
    "    \"\"\"Return the indices to objects most similar to query\n",
    "    \n",
    "    Parameters\n",
    "    ----------\n",
    "    query : ndarray\n",
    "        query object represented in the same form vector representation as the\n",
    "        objects\n",
    "    objects : ndarray\n",
    "        vector-represented objects in the database; rows correspond to \n",
    "        objects, columns correspond to features\n",
    "    k : int\n",
    "        number of most similar objects to return\n",
    "    dist : function\n",
    "        accepts two ndarrays as parameters then returns their distance\n",
    "    \n",
    "    Returns\n",
    "    -------\n",
    "    ndarray\n",
    "        Indices to the most similar objects in the database\n",
    "    \"\"\"\n",
    "    return np.argsort([dist(query, o) for o in objects])[:k]"
   ]
  },
  {
   "cell_type": "code",
   "execution_count": 3,
   "metadata": {
    "ExecuteTime": {
     "end_time": "2020-08-16T09:58:54.160034Z",
     "start_time": "2020-08-16T09:58:53.881724Z"
    }
   },
   "outputs": [],
   "source": [
    "bills = df_cleaned = pd.read_pickle('../data_cleaning/clusters_added.pkl')"
   ]
  },
  {
   "cell_type": "code",
   "execution_count": 4,
   "metadata": {
    "ExecuteTime": {
     "end_time": "2020-08-16T09:58:56.573973Z",
     "start_time": "2020-08-16T09:58:56.569672Z"
    }
   },
   "outputs": [],
   "source": [
    "# bills.head()['scope']"
   ]
  },
  {
   "cell_type": "code",
   "execution_count": 5,
   "metadata": {
    "ExecuteTime": {
     "end_time": "2020-08-16T09:58:57.524460Z",
     "start_time": "2020-08-16T09:58:56.916166Z"
    }
   },
   "outputs": [],
   "source": [
    "tfidf = TfidfVectorizer(token_pattern=r'[a-z]+', stop_words='english', min_df=0.01, max_df=0.99).fit(bills['combined_title'])\n",
    "X_idf  = tfidf.transform(bills['combined_title']).toarray()\n",
    "X_feat_names = tfidf.get_feature_names()"
   ]
  },
  {
   "cell_type": "code",
   "execution_count": 9,
   "metadata": {
    "ExecuteTime": {
     "end_time": "2020-08-16T10:08:36.229341Z",
     "start_time": "2020-08-16T10:06:28.774039Z"
    }
   },
   "outputs": [
    {
     "data": {
      "text/plain": [
       "6.56320257129853"
      ]
     },
     "execution_count": 9,
     "metadata": {},
     "output_type": "execute_result"
    }
   ],
   "source": [
    "nmf = NMF()\n",
    "X_nmf = nmf.fit_transform(X_idf)\n",
    "nmf.reconstruction_err_\n",
    "# reconstruction_err = []\n",
    "# for k in range(len(X_feat_names)):\n",
    "#     nmf_1 = NMF(n_components=k+1)\n",
    "#     nmf_1.fit(X_idf)\n",
    "#     reconstruction_err.append(nmf_1.reconstruction_err_)"
   ]
  },
  {
   "cell_type": "code",
   "execution_count": null,
   "metadata": {
    "ExecuteTime": {
     "end_time": "2020-08-16T10:00:32.626588Z",
     "start_time": "2020-08-16T10:00:02.685Z"
    }
   },
   "outputs": [],
   "source": [
    "# km = KMeans(n_clusters=3, max_iter=300, tol=1e-4, n_jobs=-1).fit(X_svd)\n",
    "# y_pred = km.predict(X_svd)\n",
    "dist = euclidean\n",
    "# actual = y_pred[j]\n",
    "# all_labels = y_pred\n",
    "# length = bills.shape[0]\n",
    "\n",
    "pres = defaultdict(list)\n",
    "rec = defaultdict(list)\n",
    "# for i in tqdm(range(10000, 10050)):\n",
    "    #     print(i)\n",
    "\n",
    "for s_i in tqdm(range(1500)):  #first 5 of the data as query one by one\n",
    "    s = np.random.randint(bills.shape[0])\n",
    "    nearest = bills.iloc[nearest_k(X_svd[s, :], X_svd, bills.shape[0], dist)]\n",
    "    r = []\n",
    "    k = bills.shape[0]\n",
    "    for j in range(k):\n",
    "    #         print(j)\n",
    "        r.append(nearest['scope'].iloc[j] == bills['scope'].iloc[s])\n",
    "    r = sum(r)\n",
    "    precision = r/k\n",
    "    n = sum(bills['scope'] == bills['scope'].iloc[s])\n",
    "    recall = r/n\n",
    "    pres[s].append(precision)\n",
    "    rec[s].append(recall)"
   ]
  },
  {
   "cell_type": "code",
   "execution_count": 24,
   "metadata": {
    "ExecuteTime": {
     "end_time": "2020-08-16T09:09:58.335171Z",
     "start_time": "2020-08-16T09:09:58.329083Z"
    }
   },
   "outputs": [
    {
     "data": {
      "text/plain": [
       "0.0005348121588573262"
      ]
     },
     "execution_count": 24,
     "metadata": {},
     "output_type": "execute_result"
    }
   ],
   "source": [
    "np.trapz(pres, rec)"
   ]
  },
  {
   "cell_type": "code",
   "execution_count": null,
   "metadata": {
    "ExecuteTime": {
     "start_time": "2020-08-16T09:19:04.761Z"
    }
   },
   "outputs": [],
   "source": [
    "km = KMeans(n_clusters=3, max_iter=300, tol=1e-4, n_jobs=-1).fit(X_svd)\n",
    "y_pred = km.predict(X_svd)\n",
    "dist = euclidean\n",
    "# actual = y_pred[j]\n",
    "all_labels = y_pred\n",
    "# length = bills.shape[0]\n",
    "\n",
    "pres = []\n",
    "rec = []\n",
    "s = 0\n",
    "\n",
    "for i in tqdm(range(1, bills.shape[0]+1)):\n",
    "    print(i)\n",
    "    nearest = bills.iloc[nearest_k(X_svd[s, :], X_svd, i, dist)]\n",
    "    r = []\n",
    "    \n",
    "    k = i\n",
    "    for j in range(k):\n",
    "        r.append(nearest['scope'].iloc[j] == bills['scope'].iloc[s])\n",
    "    r = sum(r)\n",
    "    precision = r/k\n",
    "    n = sum(bills['scope'] == bills['scope'].iloc[s])\n",
    "    recall = r/n\n",
    "    pres.append(precision)\n",
    "    rec.append(recall)"
   ]
  },
  {
   "cell_type": "code",
   "execution_count": 35,
   "metadata": {
    "ExecuteTime": {
     "end_time": "2020-08-16T09:12:42.570148Z",
     "start_time": "2020-08-16T09:12:42.387453Z"
    }
   },
   "outputs": [
    {
     "data": {
      "text/plain": [
       "[0.651465125877012,\n",
       " 0.6515339111294538,\n",
       " 0.6516026963818957,\n",
       " 0.6516714816343376,\n",
       " 0.6517402668867794,\n",
       " 0.6518090521392214,\n",
       " 0.6518778373916633,\n",
       " 0.6519466226441051,\n",
       " 0.652015407896547,\n",
       " 0.6520841931489889,\n",
       " 0.6521529784014307,\n",
       " 0.6522217636538726,\n",
       " 0.6522905489063144,\n",
       " 0.6523593341587564,\n",
       " 0.6524281194111983,\n",
       " 0.6524281194111983,\n",
       " 0.6524969046636401,\n",
       " 0.652565689916082,\n",
       " 0.6526344751685239,\n",
       " 0.6526344751685239,\n",
       " 0.6527032604209657,\n",
       " 0.6527720456734076,\n",
       " 0.6528408309258495,\n",
       " 0.6529096161782914,\n",
       " 0.6529784014307333,\n",
       " 0.6530471866831751,\n",
       " 0.653115971935617,\n",
       " 0.6531847571880589,\n",
       " 0.6532535424405007,\n",
       " 0.6533223276929426,\n",
       " 0.6533911129453845,\n",
       " 0.6534598981978263,\n",
       " 0.6534598981978263,\n",
       " 0.6535286834502683,\n",
       " 0.6535974687027102,\n",
       " 0.653666253955152,\n",
       " 0.6537350392075939,\n",
       " 0.6538038244600358,\n",
       " 0.6538726097124776,\n",
       " 0.6539413949649195,\n",
       " 0.6540101802173613,\n",
       " 0.6540789654698033,\n",
       " 0.6541477507222452,\n",
       " 0.654216535974687,\n",
       " 0.6542853212271289,\n",
       " 0.6543541064795708,\n",
       " 0.6544228917320126,\n",
       " 0.6544916769844545,\n",
       " 0.6545604622368965,\n",
       " 0.6546292474893383,\n",
       " 0.6546980327417802,\n",
       " 0.654766817994222,\n",
       " 0.6548356032466639,\n",
       " 0.6549043884991058,\n",
       " 0.6549731737515476,\n",
       " 0.6550419590039895,\n",
       " 0.6551107442564315,\n",
       " 0.6551795295088733,\n",
       " 0.6552483147613152,\n",
       " 0.6553171000137571,\n",
       " 0.6553858852661989,\n",
       " 0.6554546705186408,\n",
       " 0.6555234557710827,\n",
       " 0.6555922410235245,\n",
       " 0.6556610262759665,\n",
       " 0.6557298115284083,\n",
       " 0.6557985967808502,\n",
       " 0.6558673820332921,\n",
       " 0.6559361672857339,\n",
       " 0.6560049525381758,\n",
       " 0.6560737377906177,\n",
       " 0.6561425230430595,\n",
       " 0.6562113082955014,\n",
       " 0.6562800935479434,\n",
       " 0.6563488788003852,\n",
       " 0.6564176640528271,\n",
       " 0.656486449305269,\n",
       " 0.6565552345577108,\n",
       " 0.6566240198101527,\n",
       " 0.6566928050625945,\n",
       " 0.6567615903150364,\n",
       " 0.6568303755674784,\n",
       " 0.6568303755674784,\n",
       " 0.6568991608199202,\n",
       " 0.6569679460723621,\n",
       " 0.657036731324804,\n",
       " 0.6571055165772458,\n",
       " 0.6571743018296877,\n",
       " 0.6572430870821296,\n",
       " 0.6573118723345714,\n",
       " 0.6573806575870134,\n",
       " 0.6574494428394552,\n",
       " 0.6575182280918971,\n",
       " 0.657587013344339,\n",
       " 0.6576557985967808,\n",
       " 0.6577245838492227,\n",
       " 0.6577933691016646,\n",
       " 0.6578621543541064,\n",
       " 0.6579309396065484,\n",
       " 0.6579997248589903]"
      ]
     },
     "execution_count": 35,
     "metadata": {},
     "output_type": "execute_result"
    },
    {
     "data": {
      "image/png": "[encoded data removed]",
      "text/plain": [
       "<Figure size 432x288 with 1 Axes>"
      ]
     },
     "metadata": {
      "needs_background": "light"
     },
     "output_type": "display_data"
    }
   ],
   "source": [
    "fig, ax = plt.subplots()\n",
    "ax.set_aspect('equal')\n",
    "ax.step(rec, pres, where='post')\n",
    "ax.fill_between(rec, pres, step='post', alpha=0.6)\n",
    "    \n",
    "ax.set_xlim(0, 1)\n",
    "ax.set_ylim(0, 1)\n",
    "    \n",
    "ax.set_xlabel('recall')\n",
    "ax.set_ylabel('precision')\n",
    "np.trapz(pres, rec)\n",
    "rec"
   ]
  }
 ],
 "metadata": {
  "kernelspec": {
   "display_name": "Python 3",
   "language": "python",
   "name": "python3"
  },
  "language_info": {
   "codemirror_mode": {
    "name": "ipython",
    "version": 3
   },
   "file_extension": ".py",
   "mimetype": "text/x-python",
   "name": "python",
   "nbconvert_exporter": "python",
   "pygments_lexer": "ipython3",
   "version": "3.7.6"
  }
 },
 "nbformat": 4,
 "nbformat_minor": 4
}
