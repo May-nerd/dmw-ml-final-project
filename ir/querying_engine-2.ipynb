{
 "cells": [
  {
   "cell_type": "code",
   "execution_count": 30,
   "metadata": {
    "ExecuteTime": {
     "end_time": "2020-08-21T09:57:43.937896Z",
     "start_time": "2020-08-21T09:57:43.926498Z"
    }
   },
   "outputs": [],
   "source": [
    "import pandas as pd\n",
    "import numpy as np\n",
    "import matplotlib.pyplot as plt\n",
    "from sklearn.feature_extraction.text import TfidfVectorizer, CountVectorizer\n",
    "from sklearn.decomposition import TruncatedSVD\n",
    "from sklearn.cluster import KMeans\n",
    "from scipy.spatial.distance import cosine\n",
    "from sklearn.feature_selection import SelectKBest\n",
    "from sklearn.metrics import calinski_harabasz_score\n",
    "from sklearn.metrics import silhouette_score\n",
    "from scipy.spatial.distance import euclidean, cityblock\n",
    "import nltk\n",
    "\n",
    "import seaborn as sns"
   ]
  },
  {
   "cell_type": "code",
   "execution_count": 31,
   "metadata": {
    "ExecuteTime": {
     "end_time": "2020-08-21T09:57:44.115301Z",
     "start_time": "2020-08-21T09:57:44.106303Z"
    }
   },
   "outputs": [],
   "source": [
    "def nearest_k(query, objects, k, dist):\n",
    "    \"\"\"Return the indices to objects most similar to query\n",
    "    \n",
    "    Parameters\n",
    "    ----------\n",
    "    query : ndarray\n",
    "        query object represented in the same form vector representation as the\n",
    "        objects\n",
    "    objects : ndarray\n",
    "        vector-represented objects in the database; rows correspond to \n",
    "        objects, columns correspond to features\n",
    "    k : int\n",
    "        number of most similar objects to return\n",
    "    dist : function\n",
    "        accepts two ndarrays as parameters then returns their distance\n",
    "    \n",
    "    Returns\n",
    "    -------\n",
    "    ndarray\n",
    "        Indices to the most similar objects in the database\n",
    "    \"\"\"\n",
    "    return np.argsort([dist(query, o) for o in objects])[:k]"
   ]
  },
  {
   "cell_type": "code",
   "execution_count": 32,
   "metadata": {
    "ExecuteTime": {
     "end_time": "2020-08-21T09:57:44.628629Z",
     "start_time": "2020-08-21T09:57:44.606710Z"
    }
   },
   "outputs": [],
   "source": [
    "def inverse_transform(text_query):\n",
    "    \"\"\"Codes copied from data_building_and_cleaning. Credits to the \n",
    "    rightful owner.\"\"\"\n",
    "    \n",
    "    import string\n",
    "    punc = string.punctuation.replace('-', '').replace(\"'\", '')\n",
    "    table = str.maketrans(' ', ' ', punc)\n",
    "    stripped = [w.translate(table) for w in [text_query.lower()]]\n",
    "\n",
    "    ######################################################################\n",
    "\n",
    "    # filter out stop words\n",
    "    from nltk.corpus import stopwords\n",
    "\n",
    "    stop_words = set(stopwords.words('english'))\n",
    "\n",
    "    no_stop_words = []\n",
    "    for word_list in stripped:\n",
    "        word_list = word_list.split()\n",
    "        words = [w for w in word_list if not w in stop_words]\n",
    "        no_stop_words += [words]\n",
    "\n",
    "    ######################################################################\n",
    "\n",
    "    # nltk.download('wordnet')\n",
    "    from nltk.stem import WordNetLemmatizer \n",
    "\n",
    "    lemmatizer = WordNetLemmatizer() \n",
    "\n",
    "    lematized = []\n",
    "    for word_list in no_stop_words:\n",
    "        words = [lemmatizer.lemmatize(w) for w in word_list]\n",
    "        lematized += [words]\n",
    "\n",
    "    title_cleaned = []\n",
    "    for i in lematized:\n",
    "        title_cleaned+=[\" \".join(i)]\n",
    "\n",
    "    return title_cleaned[0]"
   ]
  },
  {
   "cell_type": "code",
   "execution_count": 33,
   "metadata": {
    "ExecuteTime": {
     "end_time": "2020-08-21T09:57:45.835257Z",
     "start_time": "2020-08-21T09:57:45.616328Z"
    }
   },
   "outputs": [],
   "source": [
    "df_clean = pd.read_pickle('../data_cleaning/clusters_added.pkl')"
   ]
  },
  {
   "cell_type": "code",
   "execution_count": 34,
   "metadata": {
    "ExecuteTime": {
     "end_time": "2020-08-21T09:57:46.187859Z",
     "start_time": "2020-08-21T09:57:46.177633Z"
    }
   },
   "outputs": [
    {
     "data": {
      "text/plain": [
       "array([13, 14, 15, 16, 17, 18])"
      ]
     },
     "execution_count": 34,
     "metadata": {},
     "output_type": "execute_result"
    }
   ],
   "source": [
    "df_clean['congress'].unique()"
   ]
  },
  {
   "cell_type": "markdown",
   "metadata": {},
   "source": [
    "## Parameters"
   ]
  },
  {
   "cell_type": "code",
   "execution_count": 35,
   "metadata": {
    "ExecuteTime": {
     "end_time": "2020-08-21T09:57:48.941854Z",
     "start_time": "2020-08-21T09:57:48.856414Z"
    }
   },
   "outputs": [],
   "source": [
    "text_query = 'death penalty'\n",
    "k = 5\n",
    "\n",
    "\n",
    "bill_num = None\n",
    "filed_by = None\n",
    "scope = None\n",
    "min_file_date = None\n",
    "max_file_date = None\n",
    "primary_committee = None\n",
    "congress = list(range(13,19))\n",
    "\n",
    "# congess filed_by scope filed_on primary_committee\n",
    "filtered = {}\n",
    "for i in congress:\n",
    "    filtered[i] = df_clean.query(f\"congress == {congress} \").copy()"
   ]
  },
  {
   "cell_type": "markdown",
   "metadata": {
    "ExecuteTime": {
     "end_time": "2020-08-13T14:20:12.143183Z",
     "start_time": "2020-08-13T14:20:12.140070Z"
    }
   },
   "source": [
    "### Vectorization and IDF scaling"
   ]
  },
  {
   "cell_type": "code",
   "execution_count": 36,
   "metadata": {
    "ExecuteTime": {
     "end_time": "2020-08-21T09:57:53.636864Z",
     "start_time": "2020-08-21T09:57:50.796259Z"
    }
   },
   "outputs": [],
   "source": [
    "tfidf = TfidfVectorizer(stop_words='english', min_df=0.001, max_df=0.999)\n",
    "\n",
    "X_idf = {}\n",
    "X_feat_names = {}\n",
    "\n",
    "for i in congress:\n",
    "    X_idf[i] = tfidf.fit_transform(filtered[i]['combined_title']).toarray()\n",
    "    X_feat_names[i] = tfidf.get_feature_names()"
   ]
  },
  {
   "cell_type": "code",
   "execution_count": 28,
   "metadata": {
    "ExecuteTime": {
     "end_time": "2020-08-21T09:57:02.400955Z",
     "start_time": "2020-08-21T09:57:02.375470Z"
    },
    "scrolled": false
   },
   "outputs": [
    {
     "name": "stdout",
     "output_type": "stream",
     "text": [
      "death penalty\n",
      "Top 5 search results:\n",
      "\n",
      "\n"
     ]
    },
    {
     "ename": "AttributeError",
     "evalue": "'dict' object has no attribute 'iloc'",
     "output_type": "error",
     "traceback": [
      "\u001b[0;31m---------------------------------------------------------------------------\u001b[0m",
      "\u001b[0;31mAttributeError\u001b[0m                            Traceback (most recent call last)",
      "\u001b[0;32m<ipython-input-28-d660ed186c21>\u001b[0m in \u001b[0;36m<module>\u001b[0;34m\u001b[0m\n\u001b[1;32m      6\u001b[0m \u001b[0mprint\u001b[0m\u001b[0;34m(\u001b[0m\u001b[0;34mf'Top {k} search results:\\n\\n'\u001b[0m\u001b[0;34m)\u001b[0m\u001b[0;34m\u001b[0m\u001b[0;34m\u001b[0m\u001b[0m\n\u001b[1;32m      7\u001b[0m \u001b[0mi\u001b[0m \u001b[0;34m=\u001b[0m \u001b[0;36m1\u001b[0m\u001b[0;34m\u001b[0m\u001b[0;34m\u001b[0m\u001b[0m\n\u001b[0;32m----> 8\u001b[0;31m \u001b[0mfiltered\u001b[0m\u001b[0;34m.\u001b[0m\u001b[0miloc\u001b[0m\u001b[0;34m[\u001b[0m\u001b[0msearch_results\u001b[0m\u001b[0;34m]\u001b[0m\u001b[0;34m\u001b[0m\u001b[0;34m\u001b[0m\u001b[0m\n\u001b[0m",
      "\u001b[0;31mAttributeError\u001b[0m: 'dict' object has no attribute 'iloc'"
     ]
    }
   ],
   "source": [
    "## sample querying\n",
    "query = [inverse_transform(text_query)]                    \n",
    "print(query[0])                          \n",
    "search_results = nearest_k(tfidf.transform(query).toarray()[0], X_idf, k, cosine)\n",
    "pd.set_option('display.max_colwidth', None)\n",
    "print(f'Top {k} search results:\\n\\n')\n",
    "i = 1\n",
    "filtered.iloc[search_results]"
   ]
  },
  {
   "cell_type": "code",
   "execution_count": null,
   "metadata": {},
   "outputs": [],
   "source": [
    "# improve query using filter\n",
    "# Verify performance using AUC-PR of Scope and Primary Committee\n",
    "# Seach committee sample, AUC-PR\n",
    "# Verify with 5 randomized search terms, manually. Compare from government website \n",
    "# Show power with 'minimum wage' manual"
   ]
  },
  {
   "cell_type": "markdown",
   "metadata": {},
   "source": [
    "## AUC-PR"
   ]
  },
  {
   "cell_type": "markdown",
   "metadata": {},
   "source": [
    "## Scope per Congress Number"
   ]
  },
  {
   "cell_type": "code",
   "execution_count": 40,
   "metadata": {
    "ExecuteTime": {
     "end_time": "2020-08-21T10:01:17.118023Z",
     "start_time": "2020-08-21T10:01:15.941436Z"
    }
   },
   "outputs": [
    {
     "name": "stderr",
     "output_type": "stream",
     "text": [
      "100%|██████████| 5/5 [00:01<00:00,  4.46it/s]\n"
     ]
    }
   ],
   "source": [
    "from tqdm import tqdm\n",
    "from collections import defaultdict\n",
    "\n",
    "dist = euclidean # can also be changed to manhattan, cosine gives an error\n",
    "\n",
    "pres = {13:defaultdict(list), 14:defaultdict(list), 15:defaultdict(list), \n",
    "        16:defaultdict(list), 17:defaultdict(list), 18:defaultdict(list)}\n",
    "rec = {13:defaultdict(list), 14:defaultdict(list), 15:defaultdict(list), \n",
    "        16:defaultdict(list), 17:defaultdict(list), 18:defaultdict(list)}\n",
    "\n",
    "for i in congress[1:2]:\n",
    "    for s in tqdm(range(50)):  # 100 is arbitrary, can be changed\n",
    "        nearest = filtered[i].iloc[nearest_k(X_idf[i][s, :], X_idf[i], filtered[i].shape[0], dist)]\n",
    "        r = np.cumsum(nearest['scope'] == filtered[i]['scope'].iloc[s])\n",
    "        precision = r/np.arange(1, len(r)+1)\n",
    "        n = sum(filtered[i]['scope'] == filtered[i]['scope'].iloc[s])\n",
    "        recall = r/n\n",
    "        recall = [0] + recall.tolist()\n",
    "        precision = [1] + precision.tolist()\n",
    "        pres[i][s].append(precision)\n",
    "        rec[i][s].append(recall)"
   ]
  },
  {
   "cell_type": "code",
   "execution_count": 16,
   "metadata": {
    "ExecuteTime": {
     "end_time": "2020-08-17T02:04:34.256719Z",
     "start_time": "2020-08-17T02:04:33.835029Z"
    }
   },
   "outputs": [
    {
     "name": "stdout",
     "output_type": "stream",
     "text": [
      "0.8999248735471833\n"
     ]
    },
    {
     "data": {
      "image/png": "[encoded data removed]",
      "text/plain": [
       "<Figure size 432x288 with 1 Axes>"
      ]
     },
     "metadata": {
      "needs_background": "light"
     },
     "output_type": "display_data"
    }
   ],
   "source": [
    "mean_auc_roc = defaultdict(list)\n",
    "for key in pres.keys():\n",
    "    mean_auc_roc[key].append(np.trapz(pres[key], rec[key])[0])\n",
    "\n",
    "all_auc_roc = [i[0] for i in mean_auc_roc.values()]\n",
    "    \n",
    "sns.boxplot(all_auc_roc)\n",
    "\n",
    "print(np.mean(all_auc_roc))"
   ]
  },
  {
   "cell_type": "code",
   "execution_count": 17,
   "metadata": {
    "ExecuteTime": {
     "end_time": "2020-08-17T02:04:42.658179Z",
     "start_time": "2020-08-17T02:04:42.547173Z"
    }
   },
   "outputs": [
    {
     "data": {
      "image/png": "[encoded data removed]",
      "text/plain": [
       "<Figure size 432x288 with 1 Axes>"
      ]
     },
     "metadata": {
      "needs_background": "light"
     },
     "output_type": "display_data"
    },
    {
     "name": "stdout",
     "output_type": "stream",
     "text": [
      "The Area is 0.932801684369982\n"
     ]
    }
   ],
   "source": [
    "# sample AUC-ROC curve\n",
    "fig, ((ax1, ax2, ax3), (ax4, ax5, ax6)) = plt.subplots(2, 3, figsize=(15,8))\n",
    "ax_list = [ax1, ax2, ax3, ax4, ax5, ax6]\n",
    "\n",
    "for i in congress:\n",
    "    key = list(pres[i].keys())[0]\n",
    "\n",
    "    ax_list[i-13].set_aspect('equal')\n",
    "    ax_list[i-13].step(rec[i][key][0], pres[i][key][0], where='post')\n",
    "    ax_list[i-13].fill_between(rec[i][key][0], pres[i][key][0], step='post', alpha=0.6)\n",
    "\n",
    "    ax_list[i-13].set_xlim(0, 1)\n",
    "    ax_list[i-13].set_ylim(0, 1)\n",
    "\n",
    "    ax_list[i-13].set_xlabel('recall')\n",
    "    ax_list[i-13].set_ylabel('precision')\n",
    "    ax_list[i-13].set_title(f'AUC-PR for {i}th Congress')\n",
    "    ax_list[i-13].text(0.65, 0.8,\n",
    "        'AUC={:0.2f}'.format(\n",
    "            np.trapz(pres[i][key][0], rec[i][key][0])),\n",
    "         fontsize=12);\n",
    "    \n",
    "plt.show()\n",
    "\n",
    "# print(f'The Area is {}') "
   ]
  },
  {
   "cell_type": "markdown",
   "metadata": {},
   "source": [
    "## Primary Committee per Congress Number"
   ]
  },
  {
   "cell_type": "code",
   "execution_count": 11,
   "metadata": {
    "ExecuteTime": {
     "end_time": "2020-08-20T14:35:51.174497Z",
     "start_time": "2020-08-20T14:35:19.176455Z"
    }
   },
   "outputs": [
    {
     "name": "stderr",
     "output_type": "stream",
     "text": [
      "  1%|          | 140/15239 [00:31<57:20,  4.39it/s] \n"
     ]
    },
    {
     "ename": "KeyboardInterrupt",
     "evalue": "",
     "output_type": "error",
     "traceback": [
      "\u001b[0;31m---------------------------------------------------------------------------\u001b[0m",
      "\u001b[0;31mKeyboardInterrupt\u001b[0m                         Traceback (most recent call last)",
      "\u001b[0;32m<ipython-input-11-49519f7a3206>\u001b[0m in \u001b[0;36m<module>\u001b[0;34m\u001b[0m\n\u001b[1;32m     11\u001b[0m \u001b[0;32mfor\u001b[0m \u001b[0mi\u001b[0m \u001b[0;32min\u001b[0m \u001b[0mcongress\u001b[0m\u001b[0;34m:\u001b[0m\u001b[0;34m\u001b[0m\u001b[0;34m\u001b[0m\u001b[0m\n\u001b[1;32m     12\u001b[0m     \u001b[0;32mfor\u001b[0m \u001b[0ms\u001b[0m \u001b[0;32min\u001b[0m \u001b[0mtqdm\u001b[0m\u001b[0;34m(\u001b[0m\u001b[0mrange\u001b[0m\u001b[0;34m(\u001b[0m\u001b[0mfiltered\u001b[0m\u001b[0;34m[\u001b[0m\u001b[0mi\u001b[0m\u001b[0;34m]\u001b[0m\u001b[0;34m.\u001b[0m\u001b[0mshape\u001b[0m\u001b[0;34m[\u001b[0m\u001b[0;36m0\u001b[0m\u001b[0;34m]\u001b[0m\u001b[0;34m)\u001b[0m\u001b[0;34m)\u001b[0m\u001b[0;34m:\u001b[0m  \u001b[0;31m# 100 is arbitrary, can be changed\u001b[0m\u001b[0;34m\u001b[0m\u001b[0;34m\u001b[0m\u001b[0m\n\u001b[0;32m---> 13\u001b[0;31m         \u001b[0mnearest\u001b[0m \u001b[0;34m=\u001b[0m \u001b[0mfiltered\u001b[0m\u001b[0;34m[\u001b[0m\u001b[0mi\u001b[0m\u001b[0;34m]\u001b[0m\u001b[0;34m.\u001b[0m\u001b[0miloc\u001b[0m\u001b[0;34m[\u001b[0m\u001b[0mnearest_k\u001b[0m\u001b[0;34m(\u001b[0m\u001b[0mX_idf\u001b[0m\u001b[0;34m[\u001b[0m\u001b[0mi\u001b[0m\u001b[0;34m]\u001b[0m\u001b[0;34m[\u001b[0m\u001b[0ms\u001b[0m\u001b[0;34m,\u001b[0m \u001b[0;34m:\u001b[0m\u001b[0;34m]\u001b[0m\u001b[0;34m,\u001b[0m \u001b[0mX_idf\u001b[0m\u001b[0;34m[\u001b[0m\u001b[0mi\u001b[0m\u001b[0;34m]\u001b[0m\u001b[0;34m,\u001b[0m \u001b[0mfiltered\u001b[0m\u001b[0;34m[\u001b[0m\u001b[0mi\u001b[0m\u001b[0;34m]\u001b[0m\u001b[0;34m.\u001b[0m\u001b[0mshape\u001b[0m\u001b[0;34m[\u001b[0m\u001b[0;36m0\u001b[0m\u001b[0;34m]\u001b[0m\u001b[0;34m,\u001b[0m \u001b[0mdist\u001b[0m\u001b[0;34m)\u001b[0m\u001b[0;34m]\u001b[0m\u001b[0;34m\u001b[0m\u001b[0;34m\u001b[0m\u001b[0m\n\u001b[0m\u001b[1;32m     14\u001b[0m         \u001b[0mr\u001b[0m \u001b[0;34m=\u001b[0m \u001b[0mnp\u001b[0m\u001b[0;34m.\u001b[0m\u001b[0mcumsum\u001b[0m\u001b[0;34m(\u001b[0m\u001b[0mnearest\u001b[0m\u001b[0;34m[\u001b[0m\u001b[0;34m'primary_committee'\u001b[0m\u001b[0;34m]\u001b[0m \u001b[0;34m==\u001b[0m \u001b[0mfiltered\u001b[0m\u001b[0;34m[\u001b[0m\u001b[0mi\u001b[0m\u001b[0;34m]\u001b[0m\u001b[0;34m[\u001b[0m\u001b[0;34m'primary_committee'\u001b[0m\u001b[0;34m]\u001b[0m\u001b[0;34m.\u001b[0m\u001b[0miloc\u001b[0m\u001b[0;34m[\u001b[0m\u001b[0ms\u001b[0m\u001b[0;34m]\u001b[0m\u001b[0;34m)\u001b[0m\u001b[0;34m\u001b[0m\u001b[0;34m\u001b[0m\u001b[0m\n\u001b[1;32m     15\u001b[0m         \u001b[0mprecision\u001b[0m \u001b[0;34m=\u001b[0m \u001b[0mr\u001b[0m\u001b[0;34m/\u001b[0m\u001b[0mnp\u001b[0m\u001b[0;34m.\u001b[0m\u001b[0marange\u001b[0m\u001b[0;34m(\u001b[0m\u001b[0;36m1\u001b[0m\u001b[0;34m,\u001b[0m \u001b[0mlen\u001b[0m\u001b[0;34m(\u001b[0m\u001b[0mr\u001b[0m\u001b[0;34m)\u001b[0m\u001b[0;34m+\u001b[0m\u001b[0;36m1\u001b[0m\u001b[0;34m)\u001b[0m\u001b[0;34m\u001b[0m\u001b[0;34m\u001b[0m\u001b[0m\n",
      "\u001b[0;32m<ipython-input-3-184469fe936c>\u001b[0m in \u001b[0;36mnearest_k\u001b[0;34m(query, objects, k, dist)\u001b[0m\n\u001b[1;32m     20\u001b[0m         \u001b[0mIndices\u001b[0m \u001b[0mto\u001b[0m \u001b[0mthe\u001b[0m \u001b[0mmost\u001b[0m \u001b[0msimilar\u001b[0m \u001b[0mobjects\u001b[0m \u001b[0;32min\u001b[0m \u001b[0mthe\u001b[0m \u001b[0mdatabase\u001b[0m\u001b[0;34m\u001b[0m\u001b[0;34m\u001b[0m\u001b[0m\n\u001b[1;32m     21\u001b[0m     \"\"\"\n\u001b[0;32m---> 22\u001b[0;31m     \u001b[0;32mreturn\u001b[0m \u001b[0mnp\u001b[0m\u001b[0;34m.\u001b[0m\u001b[0margsort\u001b[0m\u001b[0;34m(\u001b[0m\u001b[0;34m[\u001b[0m\u001b[0mdist\u001b[0m\u001b[0;34m(\u001b[0m\u001b[0mquery\u001b[0m\u001b[0;34m,\u001b[0m \u001b[0mo\u001b[0m\u001b[0;34m)\u001b[0m \u001b[0;32mfor\u001b[0m \u001b[0mo\u001b[0m \u001b[0;32min\u001b[0m \u001b[0mobjects\u001b[0m\u001b[0;34m]\u001b[0m\u001b[0;34m)\u001b[0m\u001b[0;34m[\u001b[0m\u001b[0;34m:\u001b[0m\u001b[0mk\u001b[0m\u001b[0;34m]\u001b[0m\u001b[0;34m\u001b[0m\u001b[0;34m\u001b[0m\u001b[0m\n\u001b[0m",
      "\u001b[0;32m<ipython-input-3-184469fe936c>\u001b[0m in \u001b[0;36m<listcomp>\u001b[0;34m(.0)\u001b[0m\n\u001b[1;32m     20\u001b[0m         \u001b[0mIndices\u001b[0m \u001b[0mto\u001b[0m \u001b[0mthe\u001b[0m \u001b[0mmost\u001b[0m \u001b[0msimilar\u001b[0m \u001b[0mobjects\u001b[0m \u001b[0;32min\u001b[0m \u001b[0mthe\u001b[0m \u001b[0mdatabase\u001b[0m\u001b[0;34m\u001b[0m\u001b[0;34m\u001b[0m\u001b[0m\n\u001b[1;32m     21\u001b[0m     \"\"\"\n\u001b[0;32m---> 22\u001b[0;31m     \u001b[0;32mreturn\u001b[0m \u001b[0mnp\u001b[0m\u001b[0;34m.\u001b[0m\u001b[0margsort\u001b[0m\u001b[0;34m(\u001b[0m\u001b[0;34m[\u001b[0m\u001b[0mdist\u001b[0m\u001b[0;34m(\u001b[0m\u001b[0mquery\u001b[0m\u001b[0;34m,\u001b[0m \u001b[0mo\u001b[0m\u001b[0;34m)\u001b[0m \u001b[0;32mfor\u001b[0m \u001b[0mo\u001b[0m \u001b[0;32min\u001b[0m \u001b[0mobjects\u001b[0m\u001b[0;34m]\u001b[0m\u001b[0;34m)\u001b[0m\u001b[0;34m[\u001b[0m\u001b[0;34m:\u001b[0m\u001b[0mk\u001b[0m\u001b[0;34m]\u001b[0m\u001b[0;34m\u001b[0m\u001b[0;34m\u001b[0m\u001b[0m\n\u001b[0m",
      "\u001b[0;32m/opt/conda/lib/python3.7/site-packages/scipy/spatial/distance.py\u001b[0m in \u001b[0;36meuclidean\u001b[0;34m(u, v, w)\u001b[0m\n\u001b[1;32m    618\u001b[0m \u001b[0;34m\u001b[0m\u001b[0m\n\u001b[1;32m    619\u001b[0m     \"\"\"\n\u001b[0;32m--> 620\u001b[0;31m     \u001b[0;32mreturn\u001b[0m \u001b[0mminkowski\u001b[0m\u001b[0;34m(\u001b[0m\u001b[0mu\u001b[0m\u001b[0;34m,\u001b[0m \u001b[0mv\u001b[0m\u001b[0;34m,\u001b[0m \u001b[0mp\u001b[0m\u001b[0;34m=\u001b[0m\u001b[0;36m2\u001b[0m\u001b[0;34m,\u001b[0m \u001b[0mw\u001b[0m\u001b[0;34m=\u001b[0m\u001b[0mw\u001b[0m\u001b[0;34m)\u001b[0m\u001b[0;34m\u001b[0m\u001b[0;34m\u001b[0m\u001b[0m\n\u001b[0m\u001b[1;32m    621\u001b[0m \u001b[0;34m\u001b[0m\u001b[0m\n\u001b[1;32m    622\u001b[0m \u001b[0;34m\u001b[0m\u001b[0m\n",
      "\u001b[0;32m/opt/conda/lib/python3.7/site-packages/scipy/spatial/distance.py\u001b[0m in \u001b[0;36mminkowski\u001b[0;34m(u, v, p, w)\u001b[0m\n\u001b[1;32m    521\u001b[0m             \u001b[0mroot_w\u001b[0m \u001b[0;34m=\u001b[0m \u001b[0mnp\u001b[0m\u001b[0;34m.\u001b[0m\u001b[0mpower\u001b[0m\u001b[0;34m(\u001b[0m\u001b[0mw\u001b[0m\u001b[0;34m,\u001b[0m \u001b[0;36m1\u001b[0m\u001b[0;34m/\u001b[0m\u001b[0mp\u001b[0m\u001b[0;34m)\u001b[0m\u001b[0;34m\u001b[0m\u001b[0;34m\u001b[0m\u001b[0m\n\u001b[1;32m    522\u001b[0m         \u001b[0mu_v\u001b[0m \u001b[0;34m=\u001b[0m \u001b[0mroot_w\u001b[0m \u001b[0;34m*\u001b[0m \u001b[0mu_v\u001b[0m\u001b[0;34m\u001b[0m\u001b[0;34m\u001b[0m\u001b[0m\n\u001b[0;32m--> 523\u001b[0;31m     \u001b[0mdist\u001b[0m \u001b[0;34m=\u001b[0m \u001b[0mnorm\u001b[0m\u001b[0;34m(\u001b[0m\u001b[0mu_v\u001b[0m\u001b[0;34m,\u001b[0m \u001b[0mord\u001b[0m\u001b[0;34m=\u001b[0m\u001b[0mp\u001b[0m\u001b[0;34m)\u001b[0m\u001b[0;34m\u001b[0m\u001b[0;34m\u001b[0m\u001b[0m\n\u001b[0m\u001b[1;32m    524\u001b[0m     \u001b[0;32mreturn\u001b[0m \u001b[0mdist\u001b[0m\u001b[0;34m\u001b[0m\u001b[0;34m\u001b[0m\u001b[0m\n\u001b[1;32m    525\u001b[0m \u001b[0;34m\u001b[0m\u001b[0m\n",
      "\u001b[0;32m/opt/conda/lib/python3.7/site-packages/scipy/linalg/misc.py\u001b[0m in \u001b[0;36mnorm\u001b[0;34m(a, ord, axis, keepdims, check_finite)\u001b[0m\n\u001b[1;32m    140\u001b[0m     \u001b[0;31m# Differs from numpy only in non-finite handling and the use of blas.\u001b[0m\u001b[0;34m\u001b[0m\u001b[0;34m\u001b[0m\u001b[0;34m\u001b[0m\u001b[0m\n\u001b[1;32m    141\u001b[0m     \u001b[0;32mif\u001b[0m \u001b[0mcheck_finite\u001b[0m\u001b[0;34m:\u001b[0m\u001b[0;34m\u001b[0m\u001b[0;34m\u001b[0m\u001b[0m\n\u001b[0;32m--> 142\u001b[0;31m         \u001b[0ma\u001b[0m \u001b[0;34m=\u001b[0m \u001b[0mnp\u001b[0m\u001b[0;34m.\u001b[0m\u001b[0masarray_chkfinite\u001b[0m\u001b[0;34m(\u001b[0m\u001b[0ma\u001b[0m\u001b[0;34m)\u001b[0m\u001b[0;34m\u001b[0m\u001b[0;34m\u001b[0m\u001b[0m\n\u001b[0m\u001b[1;32m    143\u001b[0m     \u001b[0;32melse\u001b[0m\u001b[0;34m:\u001b[0m\u001b[0;34m\u001b[0m\u001b[0;34m\u001b[0m\u001b[0m\n\u001b[1;32m    144\u001b[0m         \u001b[0ma\u001b[0m \u001b[0;34m=\u001b[0m \u001b[0mnp\u001b[0m\u001b[0;34m.\u001b[0m\u001b[0masarray\u001b[0m\u001b[0;34m(\u001b[0m\u001b[0ma\u001b[0m\u001b[0;34m)\u001b[0m\u001b[0;34m\u001b[0m\u001b[0;34m\u001b[0m\u001b[0m\n",
      "\u001b[0;32m/opt/conda/lib/python3.7/site-packages/numpy/lib/function_base.py\u001b[0m in \u001b[0;36masarray_chkfinite\u001b[0;34m(a, dtype, order)\u001b[0m\n\u001b[1;32m    495\u001b[0m     \"\"\"\n\u001b[1;32m    496\u001b[0m     \u001b[0ma\u001b[0m \u001b[0;34m=\u001b[0m \u001b[0masarray\u001b[0m\u001b[0;34m(\u001b[0m\u001b[0ma\u001b[0m\u001b[0;34m,\u001b[0m \u001b[0mdtype\u001b[0m\u001b[0;34m=\u001b[0m\u001b[0mdtype\u001b[0m\u001b[0;34m,\u001b[0m \u001b[0morder\u001b[0m\u001b[0;34m=\u001b[0m\u001b[0morder\u001b[0m\u001b[0;34m)\u001b[0m\u001b[0;34m\u001b[0m\u001b[0;34m\u001b[0m\u001b[0m\n\u001b[0;32m--> 497\u001b[0;31m     \u001b[0;32mif\u001b[0m \u001b[0ma\u001b[0m\u001b[0;34m.\u001b[0m\u001b[0mdtype\u001b[0m\u001b[0;34m.\u001b[0m\u001b[0mchar\u001b[0m \u001b[0;32min\u001b[0m \u001b[0mtypecodes\u001b[0m\u001b[0;34m[\u001b[0m\u001b[0;34m'AllFloat'\u001b[0m\u001b[0;34m]\u001b[0m \u001b[0;32mand\u001b[0m \u001b[0;32mnot\u001b[0m \u001b[0mnp\u001b[0m\u001b[0;34m.\u001b[0m\u001b[0misfinite\u001b[0m\u001b[0;34m(\u001b[0m\u001b[0ma\u001b[0m\u001b[0;34m)\u001b[0m\u001b[0;34m.\u001b[0m\u001b[0mall\u001b[0m\u001b[0;34m(\u001b[0m\u001b[0;34m)\u001b[0m\u001b[0;34m:\u001b[0m\u001b[0;34m\u001b[0m\u001b[0;34m\u001b[0m\u001b[0m\n\u001b[0m\u001b[1;32m    498\u001b[0m         raise ValueError(\n\u001b[1;32m    499\u001b[0m             \"array must not contain infs or NaNs\")\n",
      "\u001b[0;32m/opt/conda/lib/python3.7/site-packages/numpy/core/_methods.py\u001b[0m in \u001b[0;36m_all\u001b[0;34m(a, axis, dtype, out, keepdims)\u001b[0m\n\u001b[1;32m     46\u001b[0m \u001b[0;34m\u001b[0m\u001b[0m\n\u001b[1;32m     47\u001b[0m \u001b[0;32mdef\u001b[0m \u001b[0m_all\u001b[0m\u001b[0;34m(\u001b[0m\u001b[0ma\u001b[0m\u001b[0;34m,\u001b[0m \u001b[0maxis\u001b[0m\u001b[0;34m=\u001b[0m\u001b[0;32mNone\u001b[0m\u001b[0;34m,\u001b[0m \u001b[0mdtype\u001b[0m\u001b[0;34m=\u001b[0m\u001b[0;32mNone\u001b[0m\u001b[0;34m,\u001b[0m \u001b[0mout\u001b[0m\u001b[0;34m=\u001b[0m\u001b[0;32mNone\u001b[0m\u001b[0;34m,\u001b[0m \u001b[0mkeepdims\u001b[0m\u001b[0;34m=\u001b[0m\u001b[0;32mFalse\u001b[0m\u001b[0;34m)\u001b[0m\u001b[0;34m:\u001b[0m\u001b[0;34m\u001b[0m\u001b[0;34m\u001b[0m\u001b[0m\n\u001b[0;32m---> 48\u001b[0;31m     \u001b[0;32mreturn\u001b[0m \u001b[0mumr_all\u001b[0m\u001b[0;34m(\u001b[0m\u001b[0ma\u001b[0m\u001b[0;34m,\u001b[0m \u001b[0maxis\u001b[0m\u001b[0;34m,\u001b[0m \u001b[0mdtype\u001b[0m\u001b[0;34m,\u001b[0m \u001b[0mout\u001b[0m\u001b[0;34m,\u001b[0m \u001b[0mkeepdims\u001b[0m\u001b[0;34m)\u001b[0m\u001b[0;34m\u001b[0m\u001b[0;34m\u001b[0m\u001b[0m\n\u001b[0m\u001b[1;32m     49\u001b[0m \u001b[0;34m\u001b[0m\u001b[0m\n\u001b[1;32m     50\u001b[0m \u001b[0;32mdef\u001b[0m \u001b[0m_count_reduce_items\u001b[0m\u001b[0;34m(\u001b[0m\u001b[0marr\u001b[0m\u001b[0;34m,\u001b[0m \u001b[0maxis\u001b[0m\u001b[0;34m)\u001b[0m\u001b[0;34m:\u001b[0m\u001b[0;34m\u001b[0m\u001b[0;34m\u001b[0m\u001b[0m\n",
      "\u001b[0;31mKeyboardInterrupt\u001b[0m: "
     ]
    }
   ],
   "source": [
    "from tqdm import tqdm\n",
    "from collections import defaultdict\n",
    "\n",
    "dist = euclidean # can also be changed to manhattan, cosine gives an error\n",
    "\n",
    "pres = {13:defaultdict(list), 14:defaultdict(list), 15:defaultdict(list), \n",
    "        16:defaultdict(list), 17:defaultdict(list), 18:defaultdict(list)}\n",
    "rec = {13:defaultdict(list), 14:defaultdict(list), 15:defaultdict(list), \n",
    "        16:defaultdict(list), 17:defaultdict(list), 18:defaultdict(list)}\n",
    "\n",
    "for i in congress:\n",
    "    for s in tqdm(range(filtered[i].shape[0])):  # 100 is arbitrary, can be changed\n",
    "        nearest = filtered[i].iloc[nearest_k(X_idf[i][s, :], X_idf[i], filtered[i].shape[0], dist)]\n",
    "        r = np.cumsum(nearest['primary_committee'] == filtered[i]['primary_committee'].iloc[s])\n",
    "        precision = r/np.arange(1, len(r)+1)\n",
    "        n = sum(filtered[i]['primary_committee'] == filtered[i]['primary_committee'].iloc[s])\n",
    "        recall = r/n\n",
    "        recall = [0] + recall.tolist()\n",
    "        precision = [1] + precision.tolist()\n",
    "        pres[i][s].append(precision)\n",
    "        rec[i][s].append(recall)"
   ]
  },
  {
   "cell_type": "code",
   "execution_count": 19,
   "metadata": {
    "ExecuteTime": {
     "end_time": "2020-08-17T02:06:31.420032Z",
     "start_time": "2020-08-17T02:06:30.953936Z"
    }
   },
   "outputs": [
    {
     "name": "stdout",
     "output_type": "stream",
     "text": [
      "0.23657737903905263\n"
     ]
    },
    {
     "data": {
      "image/png": "[encoded data removed]",
      "text/plain": [
       "<Figure size 432x288 with 1 Axes>"
      ]
     },
     "metadata": {
      "needs_background": "light"
     },
     "output_type": "display_data"
    }
   ],
   "source": [
    "mean_auc_roc = defaultdict(list)\n",
    "for key in pres.keys():\n",
    "    mean_auc_roc[key].append(np.trapz(pres[key], rec[key])[0])\n",
    "\n",
    "all_auc_roc = [i[0] for i in mean_auc_roc.values()]\n",
    "    \n",
    "sns.boxplot(all_auc_roc)\n",
    "\n",
    "print(np.mean(all_auc_roc))"
   ]
  },
  {
   "cell_type": "code",
   "execution_count": 20,
   "metadata": {
    "ExecuteTime": {
     "end_time": "2020-08-17T02:06:39.684706Z",
     "start_time": "2020-08-17T02:06:39.569675Z"
    }
   },
   "outputs": [
    {
     "data": {
      "image/png": "[encoded data removed]",
      "text/plain": [
       "<Figure size 432x288 with 1 Axes>"
      ]
     },
     "metadata": {
      "needs_background": "light"
     },
     "output_type": "display_data"
    },
    {
     "name": "stdout",
     "output_type": "stream",
     "text": [
      "The Area is 0.4561695418593995\n"
     ]
    }
   ],
   "source": [
    "# sample AUC-ROC curve\n",
    "\n",
    "key = list(pres.keys())[0]\n",
    "\n",
    "fig, ax = plt.subplots()\n",
    "ax.set_aspect('equal')\n",
    "ax.step(rec[key][0], pres[key][0], where='post')\n",
    "ax.fill_between(rec[key][0], pres[key][0], step='post', alpha=0.6)\n",
    "    \n",
    "ax.set_xlim(0, 1)\n",
    "ax.set_ylim(0, 1)\n",
    "    \n",
    "ax.set_xlabel('recall')\n",
    "ax.set_ylabel('precision')\n",
    "plt.show()\n",
    "\n",
    "print(f'The Area is {np.trapz(pres[key][0], rec[key][0])}')"
   ]
  },
  {
   "cell_type": "code",
   "execution_count": 31,
   "metadata": {
    "ExecuteTime": {
     "end_time": "2020-08-17T03:42:19.536833Z",
     "start_time": "2020-08-17T03:42:19.529829Z"
    }
   },
   "outputs": [],
   "source": [
    "cols = ['bill_num', 'title', 'filed_by']\n",
    "df = pd.read_pickle(\"../data_cleaning/labor.pkl\")[cols]"
   ]
  },
  {
   "cell_type": "code",
   "execution_count": 32,
   "metadata": {
    "ExecuteTime": {
     "end_time": "2020-08-17T03:46:58.005788Z",
     "start_time": "2020-08-17T03:46:57.996799Z"
    }
   },
   "outputs": [
    {
     "data": {
      "text/html": [
       "<div>\n",
       "<style scoped>\n",
       "    .dataframe tbody tr th:only-of-type {\n",
       "        vertical-align: middle;\n",
       "    }\n",
       "\n",
       "    .dataframe tbody tr th {\n",
       "        vertical-align: top;\n",
       "    }\n",
       "\n",
       "    .dataframe thead th {\n",
       "        text-align: right;\n",
       "    }\n",
       "</style>\n",
       "<table border=\"1\" class=\"dataframe\">\n",
       "  <thead>\n",
       "    <tr style=\"text-align: right;\">\n",
       "      <th></th>\n",
       "      <th>bill_num</th>\n",
       "      <th>title</th>\n",
       "      <th>filed_by</th>\n",
       "    </tr>\n",
       "  </thead>\n",
       "  <tbody>\n",
       "    <tr>\n",
       "      <th>14144</th>\n",
       "      <td>240</td>\n",
       "      <td>EXCISE TAX ON MINERAL PRODUCTS</td>\n",
       "      <td>[Sotto III, Vicente C, ]</td>\n",
       "    </tr>\n",
       "    <tr>\n",
       "      <th>9424</th>\n",
       "      <td>748</td>\n",
       "      <td>TAX REFORM ACT</td>\n",
       "      <td>[Ejercito-Estrada, Jinggoy P, ]</td>\n",
       "    </tr>\n",
       "    <tr>\n",
       "      <th>1836</th>\n",
       "      <td>1838</td>\n",
       "      <td>VAT EXEMPT ON CERTAIN FOOD PRODUCTS/SERVICES</td>\n",
       "      <td>[Drilon, Franklin M, , Flavier, Juan M, , Pangilinan, Francis N, , Gordon, Richard \"Dick\" J, ]</td>\n",
       "    </tr>\n",
       "    <tr>\n",
       "      <th>6225</th>\n",
       "      <td>546</td>\n",
       "      <td>VALUE ADDED TAX ON DONATED IMPORTATIONS OF ITEMS OR GOODS</td>\n",
       "      <td>[Ejercito-Estrada, Jinggoy P, ]</td>\n",
       "    </tr>\n",
       "    <tr>\n",
       "      <th>9914</th>\n",
       "      <td>1238</td>\n",
       "      <td>PUBLIC SCHOOL TEACHERS' TAX INCENTIVE</td>\n",
       "      <td>[Sotto III, Vicente C, ]</td>\n",
       "    </tr>\n",
       "  </tbody>\n",
       "</table>\n",
       "</div>"
      ],
      "text/plain": [
       "       bill_num                                                      title  \\\n",
       "14144       240                             EXCISE TAX ON MINERAL PRODUCTS   \n",
       "9424        748                                             TAX REFORM ACT   \n",
       "1836       1838               VAT EXEMPT ON CERTAIN FOOD PRODUCTS/SERVICES   \n",
       "6225        546  VALUE ADDED TAX ON DONATED IMPORTATIONS OF ITEMS OR GOODS   \n",
       "9914       1238                      PUBLIC SCHOOL TEACHERS' TAX INCENTIVE   \n",
       "\n",
       "                                                                                             filed_by  \n",
       "14144                                                                        [Sotto III, Vicente C, ]  \n",
       "9424                                                                  [Ejercito-Estrada, Jinggoy P, ]  \n",
       "1836   [Drilon, Franklin M, , Flavier, Juan M, , Pangilinan, Francis N, , Gordon, Richard \"Dick\" J, ]  \n",
       "6225                                                                  [Ejercito-Estrada, Jinggoy P, ]  \n",
       "9914                                                                         [Sotto III, Vicente C, ]  "
      ]
     },
     "execution_count": 32,
     "metadata": {},
     "output_type": "execute_result"
    }
   ],
   "source": [
    "df"
   ]
  },
  {
   "cell_type": "markdown",
   "metadata": {},
   "source": [
    "**Manual**"
   ]
  },
  {
   "cell_type": "code",
   "execution_count": 54,
   "metadata": {
    "ExecuteTime": {
     "end_time": "2020-08-21T10:11:51.718420Z",
     "start_time": "2020-08-21T10:11:40.897484Z"
    }
   },
   "outputs": [
    {
     "name": "stderr",
     "output_type": "stream",
     "text": [
      "100%|██████████| 50/50 [00:10<00:00,  4.63it/s]"
     ]
    },
    {
     "name": "stdout",
     "output_type": "stream",
     "text": [
      "minimum wage precision: 1.0\n",
      "minimum wage recall: 0.00017\n"
     ]
    },
    {
     "name": "stderr",
     "output_type": "stream",
     "text": [
      "\n"
     ]
    }
   ],
   "source": [
    "from tqdm import tqdm\n",
    "from collections import defaultdict\n",
    "\n",
    "dist = euclidean # can also be changed to manhattan, cosine gives an error\n",
    "\n",
    "pres = {13:defaultdict(list), 14:defaultdict(list), 15:defaultdict(list), \n",
    "        16:defaultdict(list), 17:defaultdict(list), 18:defaultdict(list)}\n",
    "rec = {13:defaultdict(list), 14:defaultdict(list), 15:defaultdict(list), \n",
    "        16:defaultdict(list), 17:defaultdict(list), 18:defaultdict(list)}\n",
    "\n",
    "text_query = 'minimum wage'\n",
    "query = [inverse_transform(text_query)]    \n",
    "for i in congress[1:2]:\n",
    "    for s in tqdm(range(50)):  # 100 is arbitrary, can be changed\n",
    "        nearest = filtered[i].iloc[nearest_k(tfidf.transform(query).toarray()[0], X_idf[i], 5, dist)]\n",
    "        r = np.cumsum(nearest['scope'] == filtered[i]['scope'].iloc[s])\n",
    "        precision = r/np.arange(1, len(r)+1)\n",
    "        n = sum(filtered[i]['scope'] == filtered[i]['scope'].iloc[s])\n",
    "        recall = r/n\n",
    "        recall = [0] + recall.tolist()\n",
    "        precision = [1] + precision.tolist()\n",
    "        pres[i][s].append(precision)\n",
    "        rec[i][s].append(recall)\n",
    "\n",
    "################################################################\n",
    "\n",
    "print(f'minimum wage precision: {np.mean(pres[14][key][0])}')\n",
    "print(f'minimum wage recall: %.5f'%(np.mean(rec[14][key][0])))"
   ]
  },
  {
   "cell_type": "code",
   "execution_count": 52,
   "metadata": {
    "ExecuteTime": {
     "end_time": "2020-08-21T10:09:12.212050Z",
     "start_time": "2020-08-21T10:09:12.197839Z"
    }
   },
   "outputs": [
    {
     "name": "stdout",
     "output_type": "stream",
     "text": [
      "precision: 1.0\n",
      "recall: 0.00017\n"
     ]
    }
   ],
   "source": [
    "print(f'minimum wage precision: {np.mean(pres[14][key][0])}')\n",
    "print(f'minimum wage recall: %.5f'%(np.mean(rec[14][key][0])))"
   ]
  },
  {
   "cell_type": "code",
   "execution_count": 53,
   "metadata": {
    "ExecuteTime": {
     "end_time": "2020-08-21T10:10:05.405316Z",
     "start_time": "2020-08-21T10:09:54.369068Z"
    }
   },
   "outputs": [
    {
     "name": "stderr",
     "output_type": "stream",
     "text": [
      "100%|██████████| 50/50 [00:11<00:00,  4.54it/s]\n"
     ]
    }
   ],
   "source": [
    "from tqdm import tqdm\n",
    "from collections import defaultdict\n",
    "\n",
    "dist = euclidean # can also be changed to manhattan, cosine gives an error\n",
    "\n",
    "pres = {13:defaultdict(list), 14:defaultdict(list), 15:defaultdict(list), \n",
    "        16:defaultdict(list), 17:defaultdict(list), 18:defaultdict(list)}\n",
    "rec = {13:defaultdict(list), 14:defaultdict(list), 15:defaultdict(list), \n",
    "        16:defaultdict(list), 17:defaultdict(list), 18:defaultdict(list)}\n",
    "\n",
    "query = [inverse_transform('overseas filipino workers')]    \n",
    "for i in congress[1:2]:\n",
    "    for s in tqdm(range(50)):  # 100 is arbitrary, can be changed\n",
    "        nearest = filtered[i].iloc[nearest_k(tfidf.transform(query).toarray()[0], X_idf[i], 5, dist)]\n",
    "        r = np.cumsum(nearest['scope'] == filtered[i]['scope'].iloc[s])\n",
    "        precision = r/np.arange(1, len(r)+1)\n",
    "        n = sum(filtered[i]['scope'] == filtered[i]['scope'].iloc[s])\n",
    "        recall = r/n\n",
    "        recall = [0] + recall.tolist()\n",
    "        precision = [1] + precision.tolist()\n",
    "        pres[i][s].append(precision)\n",
    "        rec[i][s].append(recall)"
   ]
  },
  {
   "cell_type": "code",
   "execution_count": null,
   "metadata": {},
   "outputs": [],
   "source": []
  }
 ],
 "metadata": {
  "kernelspec": {
   "display_name": "Python 3",
   "language": "python",
   "name": "python3"
  },
  "language_info": {
   "codemirror_mode": {
    "name": "ipython",
    "version": 3
   },
   "file_extension": ".py",
   "mimetype": "text/x-python",
   "name": "python",
   "nbconvert_exporter": "python",
   "pygments_lexer": "ipython3",
   "version": "3.7.6"
  },
  "toc": {
   "base_numbering": 1,
   "nav_menu": {},
   "number_sections": true,
   "sideBar": true,
   "skip_h1_title": false,
   "title_cell": "Table of Contents",
   "title_sidebar": "Contents",
   "toc_cell": false,
   "toc_position": {},
   "toc_section_display": true,
   "toc_window_display": false
  },
  "varInspector": {
   "cols": {
    "lenName": 16,
    "lenType": 16,
    "lenVar": 40
   },
   "kernels_config": {
    "python": {
     "delete_cmd_postfix": "",
     "delete_cmd_prefix": "del ",
     "library": "var_list.py",
     "varRefreshCmd": "print(var_dic_list())"
    },
    "r": {
     "delete_cmd_postfix": ") ",
     "delete_cmd_prefix": "rm(",
     "library": "var_list.r",
     "varRefreshCmd": "cat(var_dic_list()) "
    }
   },
   "types_to_exclude": [
    "module",
    "function",
    "builtin_function_or_method",
    "instance",
    "_Feature"
   ],
   "window_display": false
  }
 },
 "nbformat": 4,
 "nbformat_minor": 4
}
