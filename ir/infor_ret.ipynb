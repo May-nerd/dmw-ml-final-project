{
 "cells": [
  {
   "cell_type": "code",
   "execution_count": 17,
   "metadata": {
    "ExecuteTime": {
     "end_time": "2020-08-13T10:21:40.217128Z",
     "start_time": "2020-08-13T10:21:40.200573Z"
    }
   },
   "outputs": [],
   "source": [
    "import pandas as pd\n",
    "import re\n",
    "import bz2\n",
    "import numpy as np\n",
    "import matplotlib.pyplot as plt\n",
    "import json\n",
    "from sklearn.feature_extraction.text import TfidfVectorizer\n",
    "from sklearn.decomposition import TruncatedSVD\n",
    "from sklearn.cluster import KMeans\n",
    "from scipy.spatial.distance import cosine\n",
    "from sklearn.feature_selection import SelectKBest\n",
    "from sklearn.feature_selection import mutual_info_classif\n",
    "from sklearn.cluster import FeatureAgglomeration\n",
    "from sklearn.cluster import AgglomerativeClustering\n",
    "from sklearn.feature_selection import VarianceThreshold\n",
    "from sklearn.metrics import calinski_harabasz_score\n",
    "from sklearn.metrics import silhouette_score\n",
    "from scipy.spatial.distance import euclidean, cityblock"
   ]
  },
  {
   "cell_type": "code",
   "execution_count": 4,
   "metadata": {
    "ExecuteTime": {
     "end_time": "2020-08-13T09:41:28.649241Z",
     "start_time": "2020-08-13T09:41:28.498793Z"
    }
   },
   "outputs": [],
   "source": [
    "bills = pd.read_csv('../data_cleaning/bills.csv').drop(columns='Unnamed: 0')"
   ]
  },
  {
   "cell_type": "code",
   "execution_count": 61,
   "metadata": {
    "ExecuteTime": {
     "end_time": "2020-08-13T12:26:03.750765Z",
     "start_time": "2020-08-13T12:26:03.716020Z"
    }
   },
   "outputs": [
    {
     "data": {
      "text/plain": [
       "['Courts (Regional Trial Courts)',\n",
       " 'Armed Forces of the Philippines (AFP)',\n",
       " 'Hospitals, Increase Bed Capacity',\n",
       " 'Teachers',\n",
       " 'Students',\n",
       " 'Schools, Conversion',\n",
       " 'Senior Citizen/Elderly',\n",
       " 'Schools, Establishment',\n",
       " 'State Colleges and Universities (SCUS)',\n",
       " 'Philippine National Police (PNP)',\n",
       " 'Courts (Municipal Trial Courts)',\n",
       " 'Veterans',\n",
       " 'Holidays (Special Working)',\n",
       " 'Franchise Sales/Franchise Business',\n",
       " 'Protected Landscape/Protected Area',\n",
       " 'Family Code(E.O.No. 209)',\n",
       " 'Government Procurement',\n",
       " 'Civil Code of the Philippines',\n",
       " 'Revised Penal Code (R.A.No. 3815; Amendments)',\n",
       " 'Right to Information',\n",
       " 'Hospitals, Establishment',\n",
       " 'Whistleblowers',\n",
       " 'Animal Welfare',\n",
       " 'Women',\n",
       " 'Credit Card',\n",
       " 'Protected Area/Protected Landscape',\n",
       " 'Roads, Conversion',\n",
       " 'Citizenship',\n",
       " 'Revised Penal Code (R.A.No. 3815)',\n",
       " 'Nutrition',\n",
       " 'Health Care Delivery System',\n",
       " 'Government Service Insurance System (GSIS)',\n",
       " 'Barangay Health Worker',\n",
       " 'National Internal Revenue Code (NIRC)Taxes (Individual Income Tax)',\n",
       " 'Omnibus Election Code (Batas Pambansa Blg. 881)',\n",
       " 'Motor Vehicles',\n",
       " 'Computer Education',\n",
       " 'Information and Communications Technology (ICT)',\n",
       " 'Autism',\n",
       " 'Pagasa (Philippine Atmospheric, Geophysical and Astronomical Services Administration)',\n",
       " 'Office of the Solicitor General',\n",
       " 'Scholarship Grants',\n",
       " 'Identification System',\n",
       " 'Senior Citizens',\n",
       " 'Sustainable Forest Management',\n",
       " 'Local Government Code (R.A.No. 7160)',\n",
       " 'Sexual Harassment',\n",
       " 'Overseas Contract Workers (OCWS)/Overseas Filipino Workers (OFWs)',\n",
       " 'Local Government Code, Amendments (R.A.No. 7160)',\n",
       " 'Nurses',\n",
       " 'Hospitals, Conversion',\n",
       " 'Courts (Metropolitan Trial Courts)',\n",
       " 'Firearms',\n",
       " 'Lake Lanao Development Authority',\n",
       " 'Human Rights',\n",
       " 'Film/Movie Industry',\n",
       " 'National Land Use Act',\n",
       " 'Tesda Training and Assessment Center',\n",
       " 'Land Administration',\n",
       " 'Office of the Government Corporate Counsel',\n",
       " 'Cybercrime',\n",
       " 'Political Dynasty/Political Dynasties',\n",
       " 'Magna Carta of Agricultural Development Workers',\n",
       " 'Social Security System (SSS)',\n",
       " 'Entrepreneurship Education',\n",
       " 'Philippine Air Force Academy (PAFA)',\n",
       " 'Local Government Units (LGUS)',\n",
       " 'Mental Health',\n",
       " 'Cooperative Development Authority',\n",
       " 'Mindanao Railways Corporation',\n",
       " 'Buffer Zone/Protected Area',\n",
       " 'Solo Parents Welfare Act (R.A.No. 8972)',\n",
       " 'Science  and Technology',\n",
       " 'Forest Land/Forest Limits',\n",
       " 'Civil Service Eligibility',\n",
       " 'Philippine Immigration Act',\n",
       " 'Disaster Awareness/Mitigation',\n",
       " 'Motorcycle',\n",
       " 'Economic Zone',\n",
       " 'Overseas Filipino Workers (OFW)',\n",
       " 'Revised Penal Code (RA 3815; Amendments)',\n",
       " 'Corporation Code',\n",
       " 'Parents',\n",
       " 'Holidays (Non-Working)',\n",
       " 'Philippine National Railways (PNR)',\n",
       " 'Ombudsman',\n",
       " 'Human Organs',\n",
       " 'Electric Power Industry Reform Act /Epira (R.A.No. 9136)',\n",
       " 'Breast Care',\n",
       " 'National Internal Revenue Code (NIRC)',\n",
       " 'Labor Code of the Philippines (P.D.No. 442; Amendments)',\n",
       " 'Philippine High School for Sports (PHSS)',\n",
       " 'Commission on Human Rights',\n",
       " 'Political Party',\n",
       " 'Rural Employment',\n",
       " 'Firecrackers/Pyrotechnic Devices',\n",
       " 'Library/Barangay Reading Centers',\n",
       " 'Magna Carta for Day Care Workers',\n",
       " 'Hazing',\n",
       " 'Pregnancy',\n",
       " 'Cellular Phones',\n",
       " 'Student Loan Program',\n",
       " 'Magna Carta for Students',\n",
       " 'Family Code (E.O.No. 209)',\n",
       " 'Department of Housing and Urban Development',\n",
       " 'Bottled Water',\n",
       " 'Agriculture Technology',\n",
       " 'Prostate Cancer',\n",
       " 'Department of Fisheries and Aquatic Resources',\n",
       " 'Magna Carta of Filipino Seafarers',\n",
       " 'Public Service Act (Commonwealth Act No. 146)',\n",
       " 'Information',\n",
       " 'Farmers/Fisherfolk',\n",
       " 'VeteransPension',\n",
       " 'National Food Authority (NFA)',\n",
       " 'Witness Protection',\n",
       " 'Mangrove Forests',\n",
       " 'Holidays (Special Non-Working)',\n",
       " 'National Internal Revenue Code (NIRC)Taxes/Taxation',\n",
       " 'National Museum',\n",
       " 'Code of Conduct and Ethical Standards (R.A.No. 6713)',\n",
       " 'Indigenous Cultural Communities',\n",
       " 'Taxes (Individual Income Tax)National Internal Revenue Code (NIRC)',\n",
       " 'Patients',\n",
       " 'Intellectual Property Code',\n",
       " 'LibelRevised Penal Code (R.A.No. 3815)',\n",
       " 'Continuing Professional Development (R.A.No. 10912)',\n",
       " 'Food Safety',\n",
       " 'Agriculture and Fisheries Extension Act',\n",
       " 'Cable Television',\n",
       " 'Athletes',\n",
       " 'Hazardous/Toxic/Radioactive Wastes Management',\n",
       " 'Environmental Protection',\n",
       " 'Motor Vehicle',\n",
       " 'Anti-Discrimination',\n",
       " 'Hospitals, Upgrading',\n",
       " 'Civil Service Code',\n",
       " 'University of the Phil. (U.P. Charter)  ',\n",
       " 'Magna Carta of the Poor',\n",
       " 'Courts (Rtc/Mtc, Creation)Judiciary Reorganization Act (Batas Pambansa Blg. 129)',\n",
       " 'Video Games',\n",
       " 'Cellular Phones/Cell Phones',\n",
       " 'Bicycle',\n",
       " 'Elections/Electoral Reforms',\n",
       " 'Roads, Conversion Into a National Road',\n",
       " 'Consumer Act (R.A.No. 7394)',\n",
       " 'Government Employees',\n",
       " 'Drunk Driving',\n",
       " 'Department of Information and Communications Technology',\n",
       " 'Philippine Trade Representative Office',\n",
       " 'Veterans Memorial Medical Center (VMMC)',\n",
       " 'Legislative Career Service',\n",
       " 'Land Transportation Office (LTO)',\n",
       " 'Holidays',\n",
       " 'Foreign Investments',\n",
       " 'Passport (R.A.No. 8239)',\n",
       " 'Parks',\n",
       " 'Human Rights Resource Center',\n",
       " 'Local Government Code (RA 7160; Amendments)',\n",
       " 'Anti-Graft and Corrupt Practices Act',\n",
       " 'Privacy',\n",
       " 'Energy Conservation',\n",
       " 'Child Support',\n",
       " 'Department of Education, Culture and Sports (DepEd)',\n",
       " 'Philippine Fisheries Code (R.A.No. 8550)',\n",
       " 'University of the Philippines Charter (U.P. Charter)',\n",
       " 'Human Immuno Deficiency Virus (HIV)Acquired Immune Deficiency Syndrome (AIDS)',\n",
       " 'Illegal Drugs',\n",
       " 'School Bus',\n",
       " 'Institutionalized Persons',\n",
       " 'Malunggay',\n",
       " 'Tax Incentives',\n",
       " 'Cellular Phones/Cellphones/Mobile Phones',\n",
       " 'Barangay Tanod Brigades',\n",
       " 'Magna Carta for Barangays',\n",
       " 'Climate Change',\n",
       " 'Sharks/Rays',\n",
       " 'Magna Carta for Public School Teachers',\n",
       " 'Boxer Welfare',\n",
       " 'Private Army',\n",
       " 'Sangguniang Kabataan (SK)',\n",
       " 'Teacher Profession/Teaching Profession',\n",
       " 'Food Establishments',\n",
       " 'Special Education',\n",
       " 'Government Official/Public Official',\n",
       " 'Open High School System (OHSS)',\n",
       " 'Prison Management',\n",
       " 'National Internal Revenue Code (NIRC)Value-Added Tax (VAT)',\n",
       " 'Breastfeeding',\n",
       " 'Renewable Energy Resources',\n",
       " 'Rivers and Waterways',\n",
       " 'Judiciary',\n",
       " 'Greening ActTree Planting',\n",
       " 'Cigars/Cigarettes',\n",
       " 'National Security Policy',\n",
       " 'Firearms, Ammunition or Explosives, Weapons',\n",
       " 'Legislative Districts',\n",
       " 'Productivity Incentive',\n",
       " 'Magna Carta for Crime Victims',\n",
       " 'Government Ambulances',\n",
       " 'Barangay Nutrition Worker',\n",
       " 'Judicial and Bar Council (JBC)',\n",
       " 'Basic Education Program',\n",
       " 'Public Solicitation',\n",
       " 'TeachersWage Increase/Salary Increase',\n",
       " 'Genetically-Modified Organisms (GMO)',\n",
       " 'Solar Energy',\n",
       " 'Bamboo and Rattan',\n",
       " 'Philippine Nursing ActNurses',\n",
       " 'Tuition Fees',\n",
       " 'Labor Code of the Philippines (P.D.No. 442)',\n",
       " 'Amusement Rides',\n",
       " 'Plumbing Engineering',\n",
       " 'FirearmsRevised Penal Code (R.A.No. 3815)',\n",
       " 'Liquefied Petroleum Gas (LPG)',\n",
       " 'BudgetGeneral Appropriations Act (GAA)',\n",
       " 'Municipality, Conversion (Cityhood)',\n",
       " 'Philippine Charity Sweepstakes Office (PCSO)',\n",
       " 'Anti-Smuggling',\n",
       " 'Mercury Health Advisory',\n",
       " 'Prisoners/Inmates',\n",
       " 'Pre-School Education',\n",
       " 'National Bureau of Investigation (NBI)',\n",
       " 'Family Code(E.O.No. 209)Family Home',\n",
       " 'Food Products Label',\n",
       " 'Water Regulatory Commission',\n",
       " 'Youth',\n",
       " 'InformationGovernment Agencies',\n",
       " 'Children/Child Care',\n",
       " 'Agriculture Education',\n",
       " 'Senior CitizensPension',\n",
       " 'Government Assistance to Students and Teachers in Private Education (Gastpe)',\n",
       " 'Barangay Officials',\n",
       " 'Fire Protection',\n",
       " 'Philippine Mango Industry',\n",
       " 'Family Code(E.O.No. 209)Marriage',\n",
       " 'Music Industry',\n",
       " 'Emergency Medical Services System (EMSS)',\n",
       " 'Pensionado Act',\n",
       " 'Meat Labeling',\n",
       " 'Insurance Code',\n",
       " 'National Transportation Safety Board',\n",
       " 'Anti-Racial/Religious Discrimination',\n",
       " 'Acquired Immune Deficiency Syndrome (AIDS)Human Immuno Deficiency Virus (HIV)',\n",
       " 'Road Safety',\n",
       " 'Magna Carta of Workers in Informal Economy',\n",
       " 'National Railway Authority',\n",
       " 'Rape',\n",
       " 'Red Cross',\n",
       " 'Folic Acid',\n",
       " 'Ecological Tourism Zone/Ecotourism Zone',\n",
       " 'Curriculum',\n",
       " 'Flag and Heraldic Code (R.A.No. 8491)',\n",
       " 'School Calendar',\n",
       " 'Labor Code (Pd 442)',\n",
       " 'Motor Vehicles Users Charge (MVUC) (R.A.No. 8794)',\n",
       " 'Poverty Alleviation',\n",
       " 'Magna Carta of Filipino SeafarersSeafarers',\n",
       " 'Automated Teller Machines (ATM)',\n",
       " 'Mature and Older Workers',\n",
       " 'Land Administration Reform Act          ',\n",
       " 'Local Colleges and Universities (LCUS)',\n",
       " 'Government-Owned And-Controlled Corporations (GOCC)',\n",
       " 'Right to Travel',\n",
       " 'Lobbying',\n",
       " 'Pre-Hospital Emergency Care System',\n",
       " 'Coconut Industry/Copra and Other Coconut Products',\n",
       " 'National Internal Revenue Code (NIRC)Tax Exemption',\n",
       " 'Tanodbata',\n",
       " 'Coffee',\n",
       " 'Coastal Environment Program',\n",
       " 'Internship',\n",
       " 'Maternity LeaveLeave of Absence',\n",
       " 'Local Housing Board',\n",
       " 'Body and Dashboard CamerasLaw Enforcement Officers/Law Enforcement Agency',\n",
       " 'Indeterminate Sentence Law (R.A.No. 4103)',\n",
       " 'Aviation Noise Management',\n",
       " 'Drug Rehabilitation',\n",
       " 'Taxi Passengers Bill of Rights',\n",
       " 'Magna Carta for Workers in the Energy Sector',\n",
       " 'Missing Persons',\n",
       " 'Tattoo and Body Piercing',\n",
       " 'Aklan Airport Authority',\n",
       " 'Free Vaccination and Immunization',\n",
       " 'Radiologic Technology Act (R.A.No. 7431)',\n",
       " 'Tree Planting',\n",
       " 'Speech Pathology',\n",
       " 'Wildlife',\n",
       " 'Potable Water Supply System',\n",
       " 'Boy Scout/Girl Scout',\n",
       " 'Halal Food',\n",
       " 'Philippine National Police (PNP)Internal Affairs Service',\n",
       " 'Sports Complex/Sports Center/Multi-Purpose Sports Center/Sports Academy',\n",
       " 'Archipelagic BaselinesUnclos (U.N. Convention on the Law of the Sea)',\n",
       " 'Barangay OfficialsLocal Government Code (R.A.No. 7160)',\n",
       " 'Public-Private Partnership (PPP) Projects',\n",
       " 'Urban Farming/City GardenFood Security',\n",
       " 'Driver Education Act',\n",
       " 'Womens Health Research Office',\n",
       " 'Overseas Workers Welfare Administration (OWWA)',\n",
       " 'Seatbelts',\n",
       " 'Property Registration',\n",
       " 'Financial Literacy',\n",
       " 'Gifted and Talented Students',\n",
       " 'Survivors Benefits',\n",
       " 'Hospitals (Government Hospitals)',\n",
       " 'Telecommunications',\n",
       " 'Child Abuse, Exploitation and Discrimination Act (R.A.No. 7610)',\n",
       " 'Seafarers',\n",
       " 'Local Management Information System',\n",
       " 'Family HomeFamily Code (E.O.No. 209)',\n",
       " 'Education Trust FundGovernment Service Insurance System (GSIS)Social Security System (SSS)',\n",
       " 'Sugar Cane Industry',\n",
       " 'Organic Agriculture/Organic Farming',\n",
       " 'School Sites/School Campus',\n",
       " 'Microenterprise Development Institutions (Microdevs)',\n",
       " 'Political Public Relations',\n",
       " 'Equal Employment Opportunity',\n",
       " 'Plea Bargaining',\n",
       " 'Loans/Forbearances (Rates of Interest)',\n",
       " 'Medicines/Drugs',\n",
       " 'National Mapping and Resource Information Authority (Namria)',\n",
       " 'Legislative District',\n",
       " 'Balik Scientist Program',\n",
       " 'Department of Education (DepEd)',\n",
       " 'Downstream Natural Gas Industry',\n",
       " 'Anti-Incest',\n",
       " 'Forensic Dna Databank',\n",
       " 'Petroleum Products',\n",
       " 'Death Penalty',\n",
       " 'Anti-Trafficking',\n",
       " 'Philippine Overseas Workers Bank',\n",
       " 'Age Discrimination',\n",
       " 'Teachers (Salary Grade Increase)',\n",
       " 'Urban Development and Housing Act',\n",
       " 'Motor VehiclesChildren/Child Care',\n",
       " 'Sex Offenders',\n",
       " 'Philippine Air Force Academy (PAFA)     ',\n",
       " 'Good Samaritan Act',\n",
       " 'Food Security',\n",
       " 'Omnibus Election Code (Batas Pambansa Blg. 881)Elections/Electoral Reforms',\n",
       " 'Wiretapping',\n",
       " 'Barangay Elections/Sk Elections',\n",
       " 'Human Organ',\n",
       " 'Emergency Response/Emergency Preparedness',\n",
       " 'Transportation',\n",
       " 'Investment and Incentives Code',\n",
       " 'Condominium/Subdivision Buyers Protection',\n",
       " 'Street ChildrenChildren/Child Care',\n",
       " 'Retail Trade Liberalization (R.A.No. 8762)',\n",
       " 'Environmental and Sanitary Engineering',\n",
       " 'Terrorism',\n",
       " 'Forfeiture Law (R.A.No. 1379, Amendments)Ombudsman',\n",
       " 'Food Technology',\n",
       " 'Civil Engineering',\n",
       " 'Probation',\n",
       " 'Medical Tourism',\n",
       " 'Migrant Workers',\n",
       " 'Sanitation',\n",
       " 'Botica Sa Barangay/Barangay Drugstore',\n",
       " 'Family Privacy',\n",
       " 'Sim Card RegistrationCellular Phones/Cell Phones',\n",
       " 'Multi-Species Marine Hatchery',\n",
       " 'Centenarians',\n",
       " 'Child Care Laws',\n",
       " 'Magna Carta of Public Health Workers',\n",
       " 'Filipino Language',\n",
       " 'Anti-Obscenity/Anti-Smut Campaign',\n",
       " 'Budget Impoundment Control',\n",
       " 'Comprehensive Dangerous Drugs Act of 2002, Amendments',\n",
       " 'Taxes (Estate Tax)National Internal Revenue Code (NIRC)',\n",
       " 'Violence Against Women',\n",
       " 'Children and Youth',\n",
       " 'Plastic/Plastic Bags',\n",
       " 'Family HomeFamily Code(E.O.No. 209)',\n",
       " 'Office of Solicitor General (Bureaucracy Streamlining)',\n",
       " 'Noise Pollution',\n",
       " 'Prepaid Calling Cards/Prepaid Sim Cards/Pre-Paid Phone Card Industry',\n",
       " 'Harbor Pilotage',\n",
       " 'Gang Crimes',\n",
       " 'Pharmacy',\n",
       " 'Healthcare Services/Health Care Delivery System',\n",
       " 'Influenza',\n",
       " 'Rare Diseases',\n",
       " 'Energy Resource Developers (Independent Powers Producers)',\n",
       " 'Bamboo Industry',\n",
       " 'Bureau of Fire Protection',\n",
       " 'Comprehensive Agrarian Reform Law (Carl; R.A.No. 6657)',\n",
       " 'Campus Safety',\n",
       " 'Pantawid Pamilyang Pilipino Program (4PS)Poverty Alleviation',\n",
       " 'Drunk Driving (Motor Vehicle)']"
      ]
     },
     "execution_count": 61,
     "metadata": {},
     "output_type": "execute_result"
    }
   ],
   "source": [
    "subjects = bills['subjects'].value_counts()[bills['subjects'].value_counts() >= 5].index.to_list()\n",
    "subjects"
   ]
  },
  {
   "cell_type": "code",
   "execution_count": 62,
   "metadata": {
    "ExecuteTime": {
     "end_time": "2020-08-13T12:26:53.822695Z",
     "start_time": "2020-08-13T12:26:53.725752Z"
    }
   },
   "outputs": [],
   "source": [
    "filtered = bills.loc[[subject in subjects for subject in bills['subjects']]]\n",
    "filtered.g"
   ]
  },
  {
   "cell_type": "markdown",
   "metadata": {},
   "source": [
    "### Vectorization and IDF scaling"
   ]
  },
  {
   "cell_type": "code",
   "execution_count": 5,
   "metadata": {
    "ExecuteTime": {
     "end_time": "2020-08-13T09:41:30.241917Z",
     "start_time": "2020-08-13T09:41:29.008704Z"
    }
   },
   "outputs": [],
   "source": [
    "tfidf = TfidfVectorizer(token_pattern=r'[a-z]+', min_df=0.5, ).fit(bills['long_title'])\n",
    "X  = tfidf.transform(bills['long_title']).toarray()\n",
    "X_feat_names = tfidf.get_feature_names()"
   ]
  },
  {
   "cell_type": "markdown",
   "metadata": {
    "ExecuteTime": {
     "start_time": "2020-08-13T09:33:03.065Z"
    }
   },
   "source": [
    "### Dimensionality Reduction by SVD"
   ]
  },
  {
   "cell_type": "code",
   "execution_count": 6,
   "metadata": {
    "ExecuteTime": {
     "end_time": "2020-08-13T10:06:33.391051Z",
     "start_time": "2020-08-13T09:41:33.362935Z"
    }
   },
   "outputs": [
    {
     "data": {
      "image/png": "[encoded data removed]",
      "text/plain": [
       "<Figure size 432x288 with 2 Axes>"
      ]
     },
     "metadata": {
      "needs_background": "light"
     },
     "output_type": "display_data"
    }
   ],
   "source": [
    "def truncated_svd(X):\n",
    "    '''Reduce dimensionality of TFIDF Matrix.'''\n",
    "    q, s, p = np.linalg.svd(X)\n",
    "    return q, np.diag(s), p.T, s**2/np.linalg.norm(s**2, 1)\n",
    "\n",
    "q, s, p, nssd = truncated_svd(X)"
   ]
  },
  {
   "cell_type": "code",
   "execution_count": 20,
   "metadata": {
    "ExecuteTime": {
     "end_time": "2020-08-13T11:26:01.862366Z",
     "start_time": "2020-08-13T11:26:01.606579Z"
    }
   },
   "outputs": [
    {
     "data": {
      "image/png": "[encoded data removed]",
      "text/plain": [
       "<Figure size 432x288 with 2 Axes>"
      ]
     },
     "metadata": {
      "needs_background": "light"
     },
     "output_type": "display_data"
    }
   ],
   "source": [
    "fig, ax = plt.subplots()\n",
    "\n",
    "ax.plot(range(1, len(nssd)+1), nssd, '-', label='individual')\n",
    "ax.set_xlim(0, len(nssd)+1)\n",
    "ax.set_xlabel('SV')\n",
    "ax.set_ylabel('variance explained')\n",
    "ax = ax.twinx()\n",
    "ax.plot(range(1, len(nssd)+1), nssd.cumsum(), 'r-', label='cumulative')\n",
    "ax.axhline(0.9, ls='--', color='b')\n",
    "ax.axvline(2000, ls='--', color='b')\n",
    "ax.set_ylabel('cumulative variance explained');"
   ]
  },
  {
   "cell_type": "code",
   "execution_count": 10,
   "metadata": {
    "ExecuteTime": {
     "end_time": "2020-08-13T10:08:33.222350Z",
     "start_time": "2020-08-13T10:07:53.110475Z"
    }
   },
   "outputs": [],
   "source": [
    "X_trunc = X.dot(p[:, :2000])"
   ]
  },
  {
   "cell_type": "code",
   "execution_count": 11,
   "metadata": {
    "ExecuteTime": {
     "end_time": "2020-08-13T10:08:46.732427Z",
     "start_time": "2020-08-13T10:08:46.721564Z"
    }
   },
   "outputs": [
    {
     "data": {
      "text/plain": [
       "(14794, 2000)"
      ]
     },
     "execution_count": 11,
     "metadata": {},
     "output_type": "execute_result"
    }
   ],
   "source": [
    "X_trunc.shape"
   ]
  },
  {
   "cell_type": "code",
   "execution_count": 14,
   "metadata": {
    "ExecuteTime": {
     "end_time": "2020-08-13T10:12:08.922936Z",
     "start_time": "2020-08-13T10:12:08.495705Z"
    }
   },
   "outputs": [],
   "source": [
    "X_2d = X.dot(p[:, :2])"
   ]
  },
  {
   "cell_type": "code",
   "execution_count": 21,
   "metadata": {
    "ExecuteTime": {
     "end_time": "2020-08-13T11:28:57.510451Z",
     "start_time": "2020-08-13T11:28:56.043334Z"
    }
   },
   "outputs": [
    {
     "data": {
      "image/png": "[encoded data removed]",
      "text/plain": [
       "<Figure size 432x288 with 1 Axes>"
      ]
     },
     "metadata": {
      "needs_background": "light"
     },
     "output_type": "display_data"
    },
    {
     "data": {
      "image/png": "[encoded data removed]",
      "text/plain": [
       "<Figure size 432x288 with 1 Axes>"
      ]
     },
     "metadata": {
      "needs_background": "light"
     },
     "output_type": "display_data"
    },
    {
     "data": {
      "image/png": "[encoded data removed]",
      "text/plain": [
       "<Figure size 432x288 with 1 Axes>"
      ]
     },
     "metadata": {
      "needs_background": "light"
     },
     "output_type": "display_data"
    },
    {
     "data": {
      "image/png": "[encoded data removed]",
      "text/plain": [
       "<Figure size 432x288 with 1 Axes>"
      ]
     },
     "metadata": {
      "needs_background": "light"
     },
     "output_type": "display_data"
    },
    {
     "data": {
      "image/png": "[encoded data removed]",
      "text/plain": [
       "<Figure size 432x288 with 1 Axes>"
      ]
     },
     "metadata": {
      "needs_background": "light"
     },
     "output_type": "display_data"
    },
    {
     "data": {
      "image/png": "[encoded data removed]",
      "text/plain": [
       "<Figure size 432x288 with 1 Axes>"
      ]
     },
     "metadata": {
      "needs_background": "light"
     },
     "output_type": "display_data"
    },
    {
     "data": {
      "image/png": "[encoded data removed]",
      "text/plain": [
       "<Figure size 432x288 with 1 Axes>"
      ]
     },
     "metadata": {
      "needs_background": "light"
     },
     "output_type": "display_data"
    },
    {
     "data": {
      "image/png": "[encoded data removed]",
      "text/plain": [
       "<Figure size 432x288 with 1 Axes>"
      ]
     },
     "metadata": {
      "needs_background": "light"
     },
     "output_type": "display_data"
    },
    {
     "data": {
      "image/png": "[encoded data removed]",
      "text/plain": [
       "<Figure size 432x288 with 1 Axes>"
      ]
     },
     "metadata": {
      "needs_background": "light"
     },
     "output_type": "display_data"
    },
    {
     "data": {
      "image/png": "[encoded data removed]",
      "text/plain": [
       "<Figure size 432x288 with 1 Axes>"
      ]
     },
     "metadata": {
      "needs_background": "light"
     },
     "output_type": "display_data"
    }
   ],
   "source": [
    "for i in range(10):\n",
    "    fig, ax = plt.subplots()\n",
    "    order = np.argsort(np.abs(p[:, i]))[-10:]\n",
    "    ax.barh([X_feat_names[o] for o in order], p[order, i])\n",
    "    ax.set_title(f'SV{i+1}')"
   ]
  },
  {
   "cell_type": "markdown",
   "metadata": {},
   "source": [
    "### Clustering"
   ]
  },
  {
   "cell_type": "code",
   "execution_count": null,
   "metadata": {
    "ExecuteTime": {
     "end_time": "2020-08-13T11:25:45.887496Z",
     "start_time": "2020-08-13T11:22:59.080Z"
    }
   },
   "outputs": [],
   "source": [
    "def pooled_within_ssd(X, y, centroids, dist):\n",
    "    \"\"\"Compute pooled within-cluster sum of squares around the cluster mean\n",
    "    \n",
    "    Parameters\n",
    "    ----------\n",
    "    X : array\n",
    "        Design matrix with each row corresponding to a point\n",
    "    y : array\n",
    "        Class label of each point\n",
    "    centroids : array\n",
    "        Number of pairs to sample\n",
    "    dist : callable\n",
    "        Distance between two points. It should accept two arrays, each \n",
    "        corresponding to the coordinates of each point\n",
    "        \n",
    "    Returns\n",
    "    -------\n",
    "    float\n",
    "        Pooled within-cluster sum of squares around the cluster mean\n",
    "    \"\"\"\n",
    "    Q_j = np.zeros(len(np.unique(y)))\n",
    "    for index, cluster_i in enumerate(y):\n",
    "        Qj_col = {v: k for k, v in enumerate(np.unique(y))}\n",
    "        Q_j[Qj_col[cluster_i]] += dist(X[index, :], centroids[cluster_i, :])**2\n",
    "    return sum(0.5*Q_j/np.unique(y, return_counts=True)[1])\n",
    "\n",
    "def gap_statistic(X, y, centroids, dist, b, clusterer, random_state=None):\n",
    "    \"\"\"Compute the gap statistic\n",
    "    \n",
    "    Parameters\n",
    "    ----------\n",
    "    X : array\n",
    "        Design matrix with each row corresponding to a point\n",
    "    y : array\n",
    "        Class label of each point\n",
    "    centroids : array\n",
    "        Number of pairs to sample\n",
    "    dist : callable\n",
    "        Distance between two points. It should accept two arrays, each \n",
    "        corresponding to the coordinates of each point\n",
    "    b : int\n",
    "        Number of realizations for the reference distribution\n",
    "    clusterer : KMeans\n",
    "        Clusterer object that will be used for clustering the reference \n",
    "        realizations\n",
    "    random_state : int, default=None\n",
    "        Determines random number generation for realizations\n",
    "        \n",
    "    Returns\n",
    "    -------\n",
    "    gs : float\n",
    "        Gap statistic\n",
    "    gs_std : float\n",
    "        Standard deviation of gap statistic\n",
    "    \"\"\"\n",
    "    rng = np.random.default_rng(random_state)\n",
    "    W_ki = []\n",
    "    for i in range(b):\n",
    "        distribution = rng.uniform(X.min(0), X.max(0), X.shape)\n",
    "        realizations = clusterer.fit_predict(distribution)\n",
    "        W_ki.append(np.log(pooled_within_ssd(distribution, realizations, \n",
    "                                             clusterer.cluster_centers_, \n",
    "                                             dist)))\n",
    "    E_logWk = np.mean(W_ki)\n",
    "    Gap = E_logWk - np.log(pooled_within_ssd(X, y, centroids, dist))\n",
    "    return Gap, np.std(W_ki)\n",
    "\n",
    "inertia = []\n",
    "CH = []\n",
    "SC= []\n",
    "GS = []\n",
    "\n",
    "for k in range(2, 10):\n",
    "    km = KMeans(n_clusters=k, max_iter=300, tol=1e-4, n_jobs=-1).fit(X_trunc)\n",
    "    y_pred = km.predict(X_trunc)\n",
    "    inertia.append(km.inertia_)\n",
    "    CH.append(calinski_harabasz_score(X_trunc, y_pred))\n",
    "    SC.append(silhouette_score(X_trunc, y_pred))\n",
    "    GS.append(gap_statistic(X_trunc, y_pred, km.cluster_centers_, cosine,\n",
    "                            len(np.unique(y_pred)), KMeans(n_clusters=k),\n",
    "                            random_state=42)[0])"
   ]
  },
  {
   "cell_type": "code",
   "execution_count": null,
   "metadata": {},
   "outputs": [],
   "source": [
    "plt.scatter(X_2d[:, 0], X_2d[:, 1], c=)"
   ]
  }
 ],
 "metadata": {
  "kernelspec": {
   "display_name": "Python 3",
   "language": "python",
   "name": "python3"
  },
  "language_info": {
   "codemirror_mode": {
    "name": "ipython",
    "version": 3
   },
   "file_extension": ".py",
   "mimetype": "text/x-python",
   "name": "python",
   "nbconvert_exporter": "python",
   "pygments_lexer": "ipython3",
   "version": "3.7.6"
  }
 },
 "nbformat": 4,
 "nbformat_minor": 4
}
