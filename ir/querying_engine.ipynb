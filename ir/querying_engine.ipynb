{
 "cells": [
  {
   "cell_type": "code",
   "execution_count": 1,
   "metadata": {
    "ExecuteTime": {
     "end_time": "2020-08-14T02:30:37.708665Z",
     "start_time": "2020-08-14T02:30:35.606521Z"
    }
   },
   "outputs": [],
   "source": [
    "import pandas as pd\n",
    "import numpy as np\n",
    "import matplotlib.pyplot as plt\n",
    "from sklearn.feature_extraction.text import TfidfVectorizer, CountVectorizer\n",
    "from sklearn.decomposition import TruncatedSVD\n",
    "from sklearn.cluster import KMeans\n",
    "from scipy.spatial.distance import cosine\n",
    "from sklearn.feature_selection import SelectKBest\n",
    "from sklearn.metrics import calinski_harabasz_score\n",
    "from sklearn.metrics import silhouette_score\n",
    "from scipy.spatial.distance import euclidean, cityblock"
   ]
  },
  {
   "cell_type": "code",
   "execution_count": 2,
   "metadata": {
    "ExecuteTime": {
     "end_time": "2020-08-14T02:30:37.968953Z",
     "start_time": "2020-08-14T02:30:37.710731Z"
    }
   },
   "outputs": [],
   "source": [
    "bills = df_cleaned = pd.read_pickle('../data_cleaning/clean_data.pkl')"
   ]
  },
  {
   "cell_type": "markdown",
   "metadata": {
    "ExecuteTime": {
     "end_time": "2020-08-13T14:20:12.143183Z",
     "start_time": "2020-08-13T14:20:12.140070Z"
    }
   },
   "source": [
    "### Vectorization and IDF scaling"
   ]
  },
  {
   "cell_type": "code",
   "execution_count": 3,
   "metadata": {
    "ExecuteTime": {
     "end_time": "2020-08-14T02:30:50.239399Z",
     "start_time": "2020-08-14T02:30:49.626886Z"
    }
   },
   "outputs": [],
   "source": [
    "tfidf = TfidfVectorizer(token_pattern=r'[a-z]+', stop_words='english', min_df=0.01, max_df=0.99).fit(bills['combined_title'])\n",
    "X_idf  = tfidf.transform(bills['combined_title']).toarray()\n",
    "X_feat_names = tfidf.get_feature_names()"
   ]
  },
  {
   "cell_type": "code",
   "execution_count": 4,
   "metadata": {
    "ExecuteTime": {
     "end_time": "2020-08-14T02:30:55.856944Z",
     "start_time": "2020-08-14T02:30:55.846991Z"
    }
   },
   "outputs": [],
   "source": [
    "def nearest_k(query, objects, k, dist):\n",
    "    \"\"\"Return the indices to objects most similar to query\n",
    "    \n",
    "    Parameters\n",
    "    ----------\n",
    "    query : ndarray\n",
    "        query object represented in the same form vector representation as the\n",
    "        objects\n",
    "    objects : ndarray\n",
    "        vector-represented objects in the database; rows correspond to \n",
    "        objects, columns correspond to features\n",
    "    k : int\n",
    "        number of most similar objects to return\n",
    "    dist : function\n",
    "        accepts two ndarrays as parameters then returns their distance\n",
    "    \n",
    "    Returns\n",
    "    -------\n",
    "    ndarray\n",
    "        Indices to the most similar objects in the database\n",
    "    \"\"\"\n",
    "    return np.argsort([dist(query, o) for o in objects])[:k]\n"
   ]
  },
  {
   "cell_type": "code",
   "execution_count": 8,
   "metadata": {
    "ExecuteTime": {
     "end_time": "2020-08-14T02:31:19.913870Z",
     "start_time": "2020-08-14T02:31:19.667069Z"
    }
   },
   "outputs": [],
   "source": [
    "## sample querying\n",
    "\n",
    "# type sample query\n",
    "query = ['education']\n",
    "\n",
    "# no of results\n",
    "k = 5\n",
    "\n",
    "search_results = nearest_k(tfidf.transform(query).toarray()[0], X_idf, k, euclidean)"
   ]
  },
  {
   "cell_type": "code",
   "execution_count": 9,
   "metadata": {
    "ExecuteTime": {
     "end_time": "2020-08-14T02:31:22.686829Z",
     "start_time": "2020-08-14T02:31:20.076815Z"
    }
   },
   "outputs": [
    {
     "name": "stdout",
     "output_type": "stream",
     "text": [
      "Top 5 search results:\n",
      "\n",
      "\n",
      "Top 1\n",
      " independent study distance education act act require independent evaluation distance education programs” \n",
      "\n",
      "Top 2\n",
      " environmental awareness education act 2007 \n",
      "\n",
      "Top 3\n",
      " ladderized education act 2014 \n",
      "\n",
      "Top 4\n",
      " open learning distance education act 2014 \n",
      "\n",
      "Top 5\n",
      " techprep education act act providing technical preparation education \n",
      "\n"
     ]
    }
   ],
   "source": [
    "print(f'Top {k} search results:\\n\\n')\n",
    "i = 1\n",
    "for title in bills['combined_title'].iloc[search_results].to_list():\n",
    "    print(f'Top {i}\\n', title, '\\n')\n",
    "    i += 1\n",
    "    "
   ]
  },
  {
   "cell_type": "code",
   "execution_count": null,
   "metadata": {},
   "outputs": [],
   "source": []
  }
 ],
 "metadata": {
  "kernelspec": {
   "display_name": "Python 3",
   "language": "python",
   "name": "python3"
  },
  "language_info": {
   "codemirror_mode": {
    "name": "ipython",
    "version": 3
   },
   "file_extension": ".py",
   "mimetype": "text/x-python",
   "name": "python",
   "nbconvert_exporter": "python",
   "pygments_lexer": "ipython3",
   "version": "3.7.6"
  }
 },
 "nbformat": 4,
 "nbformat_minor": 4
}
