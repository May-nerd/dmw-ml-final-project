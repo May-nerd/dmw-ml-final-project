{
 "cells": [
  {
   "cell_type": "code",
   "execution_count": 51,
   "metadata": {
    "ExecuteTime": {
     "end_time": "2020-08-13T14:35:11.650448Z",
     "start_time": "2020-08-13T14:35:11.644082Z"
    }
   },
   "outputs": [],
   "source": [
    "import pandas as pd\n",
    "import numpy as np\n",
    "import matplotlib.pyplot as plt\n",
    "from sklearn.feature_extraction.text import TfidfVectorizer, CountVectorizer\n",
    "from sklearn.decomposition import TruncatedSVD\n",
    "from sklearn.cluster import KMeans\n",
    "from scipy.spatial.distance import cosine\n",
    "from sklearn.feature_selection import SelectKBest\n",
    "from sklearn.metrics import calinski_harabasz_score\n",
    "from sklearn.metrics import silhouette_score\n",
    "from scipy.spatial.distance import euclidean, cityblock"
   ]
  },
  {
   "cell_type": "code",
   "execution_count": 3,
   "metadata": {
    "ExecuteTime": {
     "end_time": "2020-08-13T14:19:55.329272Z",
     "start_time": "2020-08-13T14:19:55.225231Z"
    }
   },
   "outputs": [],
   "source": [
    "bills = pd.read_csv('../data_cleaning/bills.csv').drop(columns='Unnamed: 0')"
   ]
  },
  {
   "cell_type": "markdown",
   "metadata": {
    "ExecuteTime": {
     "end_time": "2020-08-13T14:20:12.143183Z",
     "start_time": "2020-08-13T14:20:12.140070Z"
    }
   },
   "source": [
    "### Vectorization and IDF scaling"
   ]
  },
  {
   "cell_type": "code",
   "execution_count": 5,
   "metadata": {
    "ExecuteTime": {
     "end_time": "2020-08-13T14:20:20.834312Z",
     "start_time": "2020-08-13T14:20:20.235545Z"
    }
   },
   "outputs": [],
   "source": [
    "tfidf = TfidfVectorizer(token_pattern=r'[a-z]+', stop_words='english', min_df=0.01, max_df=0.99).fit(bills['long_title'])\n",
    "X_idf  = tfidf.transform(bills['long_title']).toarray()\n",
    "X_feat_names = tfidf.get_feature_names()"
   ]
  },
  {
   "cell_type": "code",
   "execution_count": 6,
   "metadata": {
    "ExecuteTime": {
     "end_time": "2020-08-13T14:21:18.678877Z",
     "start_time": "2020-08-13T14:21:18.670497Z"
    }
   },
   "outputs": [],
   "source": [
    "def nearest_k(query, objects, k, dist):\n",
    "    \"\"\"Return the indices to objects most similar to query\n",
    "    \n",
    "    Parameters\n",
    "    ----------\n",
    "    query : ndarray\n",
    "        query object represented in the same form vector representation as the\n",
    "        objects\n",
    "    objects : ndarray\n",
    "        vector-represented objects in the database; rows correspond to \n",
    "        objects, columns correspond to features\n",
    "    k : int\n",
    "        number of most similar objects to return\n",
    "    dist : function\n",
    "        accepts two ndarrays as parameters then returns their distance\n",
    "    \n",
    "    Returns\n",
    "    -------\n",
    "    ndarray\n",
    "        Indices to the most similar objects in the database\n",
    "    \"\"\"\n",
    "    return np.argsort([dist(query, o) for o in objects])[:k]\n"
   ]
  },
  {
   "cell_type": "code",
   "execution_count": 49,
   "metadata": {
    "ExecuteTime": {
     "end_time": "2020-08-13T14:35:04.478087Z",
     "start_time": "2020-08-13T14:35:04.280612Z"
    }
   },
   "outputs": [],
   "source": [
    "## sample querying\n",
    "\n",
    "# type sample query\n",
    "query = ['education']\n",
    "\n",
    "# no of results\n",
    "k = 5\n",
    "\n",
    "search_results = nearest_k(tfidf.transform(query).toarray()[0], X_idf, k, euclidean)"
   ]
  },
  {
   "cell_type": "code",
   "execution_count": 50,
   "metadata": {
    "ExecuteTime": {
     "end_time": "2020-08-13T14:35:04.560717Z",
     "start_time": "2020-08-13T14:35:04.550116Z"
    }
   },
   "outputs": [
    {
     "name": "stdout",
     "output_type": "stream",
     "text": [
      "Top 5 search results:\n",
      "\n",
      "\n",
      "Top 1\n",
      " AN ACT MANDATING THE DEPARTMENT OF EDUCATION TO INCLUDE DATING VIOLENCE EDUCATION IN THE PHYSICAL EDUCATION, HEALTH AND MUSIC (PPEHM) CURRICULUM FOR SECONDARY EDUCATION \n",
      "\n",
      "Top 2\n",
      " AN ACT MANDATING THE DEPARTMENT OF EDUCATION TO INCLUDE DATING VIOLENCE EDUCATION IN THE PHYSICAL EDUCATION, HEALTH AND MUSIC (PEHM) CURRICULUM FOR SECONDARY EDUCATION \n",
      "\n",
      "Top 3\n",
      " AN ACT MANDATING THE DEPARTMENT OF EDUCATION TO INCLUDE DATING VIOLENCE EDUCATION IN THE PHYSICAL EDUCATION, HEALTH AND MUSIC (PEHM) CURRICULUM FOR SECONDARY EDUCATION \n",
      "\n",
      "Top 4\n",
      " AN ACT PROVIDING TECHNICAL PREPARATION EDUCATION \n",
      "\n",
      "Top 5\n",
      " AN ACT TO EXPAND ACCESS TO EDUCATION THROUGH OPEN LEARNING AND DISTANCE EDUCATION IN POST-SECONDARY AND TERTIARY LEVELS OF EDUCATION, APPROPRIATING FUNDS THEREFOR AND FOR OTHER PURPOSES \n",
      "\n"
     ]
    }
   ],
   "source": [
    "print(f'Top {k} search results:\\n\\n')\n",
    "i = 1\n",
    "for title in bills['long_title'].iloc[search_results].to_list():\n",
    "    print(f'Top {i}\\n', title, '\\n')\n",
    "    i += 1\n",
    "    "
   ]
  },
  {
   "cell_type": "code",
   "execution_count": null,
   "metadata": {},
   "outputs": [],
   "source": []
  }
 ],
 "metadata": {
  "kernelspec": {
   "display_name": "Python 3",
   "language": "python",
   "name": "python3"
  },
  "language_info": {
   "codemirror_mode": {
    "name": "ipython",
    "version": 3
   },
   "file_extension": ".py",
   "mimetype": "text/x-python",
   "name": "python",
   "nbconvert_exporter": "python",
   "pygments_lexer": "ipython3",
   "version": "3.7.6"
  }
 },
 "nbformat": 4,
 "nbformat_minor": 4
}
